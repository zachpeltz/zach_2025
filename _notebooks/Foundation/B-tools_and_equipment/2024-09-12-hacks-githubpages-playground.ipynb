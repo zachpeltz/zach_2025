{
 "cells": [
  {
   "cell_type": "raw",
   "metadata": {
    "vscode": {
     "languageId": "raw"
    }
   },
   "source": [
    "---\n",
    "layout: post\n",
    "title:  Hacks Github Pages\n",
    "description: Github pages playground hacks\n",
    "comments: true\n",
    "---"
   ]
  },
  {
   "cell_type": "code",
   "execution_count": 1,
   "metadata": {},
   "outputs": [
    {
     "data": {
      "application/javascript": "<button id=\"helloButton\">Click me</button>\n<p id=\"displayText\"></p>\n\n<script>\n  document.getElementById(\"helloButton\").addEventListener(\"click\", function() {\n    document.getElementById(\"displayText\").textContent = \"Hello, World!\";\n  });\n</script>\n",
      "text/plain": [
       "<IPython.core.display.Javascript object>"
      ]
     },
     "metadata": {},
     "output_type": "display_data"
    }
   ],
   "source": [
    "%%javascript\n",
    "<button id=\"helloButton\">Click me</button>\n",
    "<p id=\"displayText\"></p>\n",
    "\n",
    "<script>\n",
    "  document.getElementById(\"helloButton\").addEventListener(\"click\", function() {\n",
    "    document.getElementById(\"displayText\").textContent = \"Hello, World!\";\n",
    "  });\n",
    "</script>"
   ]
  }
 ],
 "metadata": {
  "kernelspec": {
   "display_name": "venv",
   "language": "python",
   "name": "python3"
  },
  "language_info": {
   "codemirror_mode": {
    "name": "ipython",
    "version": 3
   },
   "file_extension": ".py",
   "mimetype": "text/x-python",
   "name": "python",
   "nbconvert_exporter": "python",
   "pygments_lexer": "ipython3",
   "version": "3.12.3"
  }
 },
 "nbformat": 4,
 "nbformat_minor": 2
}
