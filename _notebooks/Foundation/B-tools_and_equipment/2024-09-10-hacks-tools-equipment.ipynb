{
 "cells": [
  {
   "cell_type": "raw",
   "metadata": {
    "vscode": {
     "languageId": "raw"
    }
   },
   "source": [
    "---\n",
    "layout: post\n",
    "title:  Tool Hacks \n",
    "description: These hacks are for tools that are used in the development process. Completing these hacks will help you to understand the tools better and are foundational for the course\n",
    "categories: [DevOps]\n",
    "permalink: /github/hacks/zachpeltz/toolhacks\n",
    "comments: true\n",
    "---"
   ]
  },
  {
   "cell_type": "code",
   "execution_count": 1,
   "metadata": {},
   "outputs": [
    {
     "name": "stdout",
     "output_type": "stream",
     "text": [
      "Requirement already satisfied: emoji in /home/zachpeltz/nighthawk/zach_2025/venv/lib/python3.12/site-packages (2.12.1)\n",
      "Requirement already satisfied: typing-extensions>=4.7.0 in /home/zachpeltz/nighthawk/zach_2025/venv/lib/python3.12/site-packages (from emoji) (4.12.2)\n",
      "/bin/bash: line 1: Collecting: command not found\n",
      "/bin/bash: -c: line 1: syntax error near unexpected token `('\n",
      "/bin/bash: -c: line 1: ` Downloading emoji-2.5.1.tar.gz (356 kB)'\n",
      "/bin/bash: line 1: Successfully: command not found\n"
     ]
    }
   ],
   "source": [
    "# terminal command to install library\n",
    "! pip install emoji\n",
    "! Collecting emoji\n",
    "! Downloading emoji-2.5.1.tar.gz (356 kB)\n",
    "...\n",
    "! Successfully installed emoji-2.5.1\n"
   ]
  },
  {
   "cell_type": "code",
   "execution_count": 2,
   "metadata": {},
   "outputs": [
    {
     "name": "stdout",
     "output_type": "stream",
     "text": [
      "👍 Python is awesome! 😀\n"
     ]
    }
   ],
   "source": [
    "#!pip install emoji\n",
    "from emoji import emojize \n",
    "print(emojize(\":thumbs_up: Python is awesome! :grinning_face:\"))"
   ]
  },
  {
   "cell_type": "code",
   "execution_count": 3,
   "metadata": {},
   "outputs": [
    {
     "name": "stdout",
     "output_type": "stream",
     "text": [
      "/bin/bash: line 1: from: command not found\n"
     ]
    },
    {
     "name": "stdout",
     "output_type": "stream",
     "text": [
      "/bin/bash: -c: line 1: syntax error near unexpected token `('\n",
      "/bin/bash: -c: line 1: ` article = Article(url)'\n",
      "/bin/bash: -c: line 2: syntax error: unexpected end of file\n",
      "/bin/bash: -c: line 2: syntax error: unexpected end of file\n",
      "/bin/bash: -c: line 1: syntax error near unexpected token `Markdown'\n",
      "/bin/bash: -c: line 1: ` display(Markdown(article.title)) # Jupyter display only'\n",
      "/bin/bash: -c: line 1: syntax error near unexpected token `Markdown'\n",
      "/bin/bash: -c: line 1: ` display(Markdown(article.text)) # Jupyter display only'\n",
      "/bin/bash: -c: line 1: syntax error near unexpected token `\"\\n\"'\n",
      "/bin/bash: -c: line 1: ` print(\"\\n\")'\n",
      "/bin/bash: -c: line 1: syntax error near unexpected token `('\n",
      "/bin/bash: -c: line 1: ` article = Article(url)'\n",
      "/bin/bash: -c: line 2: syntax error: unexpected end of file\n",
      "/bin/bash: -c: line 2: syntax error: unexpected end of file\n",
      "/bin/bash: -c: line 1: syntax error near unexpected token `Markdown'\n",
      "/bin/bash: -c: line 1: ` display(Markdown(article.title)) # Jupyter display only'\n",
      "/bin/bash: -c: line 1: syntax error near unexpected token `Markdown'\n",
      "/bin/bash: -c: line 1: ` display(Markdown(article.text)) # Jupyter display only'\n",
      "/bin/bash: -c: line 1: syntax error near unexpected token `\"\\n\"'\n",
      "/bin/bash: -c: line 1: ` print(\"\\n\")'\n"
     ]
    }
   ],
   "source": [
    "#!pip install newspaper3k\n",
    "! from newspaper import Article\n",
    "from IPython.display import display, Markdown\n",
    "\n",
    "\n",
    "urls = [\"http://cnn.com/2023/03/29/entertainment/the-mandalorian-episode-5-recap/index.html\", \n",
    "        \"https://www.cnn.com/2023/06/09/entertainment/jurassic-park-anniversary/index.html\"]\n",
    "\n",
    "for url in urls:\n",
    "   ! article = Article(url)\n",
    "   ! article.download()\n",
    "   ! article.parse()\n",
    "    # Jupyter Notebook Display\n",
    "    # print(article.title)\n",
    "   ! display(Markdown(article.title)) # Jupyter display only\n",
    "   ! display(Markdown(article.text)) # Jupyter display only\n",
    "   ! print(\"\\n\")"
   ]
  },
  {
   "cell_type": "code",
   "execution_count": 4,
   "metadata": {},
   "outputs": [
    {
     "name": "stdout",
     "output_type": "stream",
     "text": [
      "Python (programming language)\n"
     ]
    },
    {
     "data": {
      "text/markdown": [
       "Python is a high-level, general-purpose programming language. Its design philosophy emphasizes code readability with the use of significant indentation.\n",
       "Python is dynamically typed and garbage-collected. It supports multiple programming paradigms, including structured (particularly procedural), object-oriented and functional programming. It is often described as a \"batteries included\" language due to its comprehensive standard library.\n",
       "Guido van Rossum began working on Python in the late 1980s as a successor to the ABC programming language and first released it in 1991 as Python 0.9.0. Python 2.0 was released in 2000. Python 3.0, released in 2008, was a major revision not completely backward-compatible with earlier versions. Python 2.7.18, released in 2020, was the last release of Python 2.\n",
       "Python consistently ranks as one of the most popular programming languages, and has gained widespread use in the machine learning community.\n",
       "\n"
      ],
      "text/plain": [
       "<IPython.core.display.Markdown object>"
      ]
     },
     "metadata": {},
     "output_type": "display_data"
    },
    {
     "name": "stdout",
     "output_type": "stream",
     "text": [
      "JavaScript\n"
     ]
    },
    {
     "data": {
      "text/markdown": [
       "JavaScript (), often abbreviated as JS, is a programming language and core technology of the Web, alongside HTML and CSS. 99% of websites use JavaScript on the client side for webpage behavior.\n",
       "Web browsers have a dedicated JavaScript engine that executes the client code. These engines are also utilized in some servers and a variety of apps. The most popular runtime system for non-browser usage is Node.js.\n",
       "JavaScript is a high-level, often just-in-time compiled language that conforms to the ECMAScript standard. It has dynamic typing, prototype-based object-orientation, and first-class functions. It is multi-paradigm, supporting event-driven, functional, and imperative programming styles. It has application programming interfaces (APIs) for working with text, dates, regular expressions, standard data structures, and the Document Object Model (DOM).\n",
       "The ECMAScript standard does not include any input/output (I/O), such as networking, storage, or graphics facilities. In practice, the web browser or other runtime system provides JavaScript APIs for I/O.\n",
       "Although Java and JavaScript are similar in name, syntax, and respective standard libraries, the two languages are distinct and differ greatly in design.\n",
       "\n"
      ],
      "text/plain": [
       "<IPython.core.display.Markdown object>"
      ]
     },
     "metadata": {},
     "output_type": "display_data"
    }
   ],
   "source": [
    "#!pip install wikipedia\n",
    "import wikipedia \n",
    "from IPython.display import display, Markdown # add for Jupyter\n",
    "\n",
    "terms = [\"Python (programming language)\", \"JavaScript\"]\n",
    "for term in terms:\n",
    "    # Search for a page \n",
    "    result = wikipedia.search(term)\n",
    "    # Get the summary of the first result\n",
    "    summary = wikipedia.summary(result[0])\n",
    "    print(term) \n",
    "    # print(summary) # console display\n",
    "    display(Markdown(summary)) # Jupyter display"
   ]
  },
  {
   "cell_type": "code",
   "execution_count": 5,
   "metadata": {},
   "outputs": [
    {
     "name": "stdout",
     "output_type": "stream",
     "text": [
      "/bin/bash: line 1: from: command not found\n",
      "/bin/bash: -c: line 1: syntax error near unexpected token `inspect.getsource'\n",
      "/bin/bash: -c: line 1: ` print(inspect.getsource(Article))'\n"
     ]
    }
   ],
   "source": [
    "import inspect \n",
    "! from newspaper import Article\n",
    "\n",
    "# inspect newspaper Article function\n",
    "! print(inspect.getsource(Article))"
   ]
  },
  {
   "cell_type": "code",
   "execution_count": 6,
   "metadata": {},
   "outputs": [
    {
     "name": "stdout",
     "output_type": "stream",
     "text": [
      "/bin/bash: -c: line 1: syntax error near unexpected token `('\n",
      "/bin/bash: -c: line 1: ` def average(scores):'\n",
      "/bin/bash: line 1: Calculate the average of a list of scores using a Python for loop with rounding.: command not found\n",
      "sum: '=': No such file or directory\n",
      "sum: 0: No such file or directory\n",
      "/bin/bash: line 1: len: command not found\n",
      "/bin/bash: -c: line 2: syntax error: unexpected end of file\n",
      "/bin/bash: -c: line 1: syntax error near unexpected token `score,'\n",
      "/bin/bash: -c: line 1: `            if isinstance(score, Number):'\n",
      "sum: '+=': No such file or directory\n",
      "sum: score: No such file or directory\n",
      "/bin/bash: line 1: len: command not found\n",
      "/bin/bash: line 1: else:: command not found\n",
      "/bin/bash: -c: line 1: syntax error near unexpected token `\"Bad data: \"'\n",
      "/bin/bash: -c: line 1: `                print(\"Bad data: \" + str(score) + \" in \" + str(scores))'\n",
      "/bin/bash: -c: line 2: syntax error: unexpected end of file\n",
      "/bin/bash: line 1: return: sum: numeric argument required\n",
      "/bin/bash: line 1: return: can only `return' from a function or sourced script\n",
      "/bin/bash: -c: line 1: syntax error near unexpected token `('\n",
      "/bin/bash: -c: line 1: ` def average2(scores):'\n",
      "/bin/bash: line 1: Calculate the average of a list of scores using the built-in sum() function with rounding.: command not found\n",
      "/bin/bash: -c: line 1: syntax error near unexpected token `('\n",
      "/bin/bash: -c: line 1: `        return sum(scores) / len(scores)'\n",
      "/bin/bash: -c: line 1: syntax error near unexpected token `scores,'\n",
      "/bin/bash: -c: line 1: ` if isinstance(scores, list):'\n",
      "/bin/bash: -c: line 2: syntax error: unexpected end of file\n",
      "/bin/bash: -c: line 1: syntax error near unexpected token `('\n",
      "/bin/bash: -c: line 1: `            result = average(scores)'\n",
      "/bin/bash: line 1: else:: command not found\n",
      "/bin/bash: -c: line 1: syntax error near unexpected token `('\n",
      "/bin/bash: -c: line 1: `            result = average2(scores)'\n",
      "/bin/bash: -c: line 1: syntax error near unexpected token `('\n",
      "/bin/bash: -c: line 1: ` return round(result + 0.005, 2)'\n",
      "/bin/bash: line 1: return: scores: numeric argument required\n",
      "/bin/bash: line 1: return: can only `return' from a function or sourced script\n",
      "/bin/bash: -c: line 1: syntax error near unexpected token `\"Print test data: \"'\n",
      "/bin/bash: -c: line 1: ` print(\"Print test data: \" + str(singleScore))  # concat data for single line'\n",
      "/bin/bash: -c: line 1: syntax error near unexpected token `\"Mean of single number: \"'\n",
      "/bin/bash: -c: line 1: ` print(\"Mean of single number: \" + str(mean(singleScore)))'\n",
      "/bin/bash: -c: line 2: syntax error: unexpected end of file\n",
      "/bin/bash: -c: line 1: syntax error near unexpected token `\"Print test data: \"'\n",
      "/bin/bash: -c: line 1: ` print(\"Print test data: \" + str(testScores))'\n",
      "/bin/bash: -c: line 1: syntax error near unexpected token `\"Average score, loop method: \"'\n",
      "/bin/bash: -c: line 1: ` print(\"Average score, loop method: \" + str(mean(testScores)))'\n",
      "/bin/bash: -c: line 1: syntax error near unexpected token `\"Average score, function method: \"'\n",
      "/bin/bash: -c: line 1: ` print(\"Average score, function method: \" +  str(mean(testScores, 2)))'\n",
      "/bin/bash: -c: line 2: syntax error: unexpected end of file\n",
      "/bin/bash: -c: line 1: syntax error near unexpected token `\"Print test data: \"'\n",
      "/bin/bash: -c: line 1: ` print(\"Print test data: \" + str(badData))'\n",
      "/bin/bash: -c: line 1: syntax error near unexpected token `\"Mean with bad data: \"'\n",
      "/bin/bash: -c: line 1: ` print(\"Mean with bad data: \" + str(mean(badData)))'\n"
     ]
    }
   ],
   "source": [
    "import sys\n",
    "from typing import Union\n",
    "\n",
    "# Define types for mean function, trying to analyze input possibilities\n",
    "Number = Union[int, float]  # Number can be either int or float type\n",
    "Numbers = list[Number] # Numbers is a list of Number types\n",
    "Scores = Union[Number, Numbers] # Scores can be single or multiple \n",
    "\n",
    "def mean(scores: Scores, method: int = 1) -> float:\n",
    "    \"\"\"\n",
    "    Calculate the mean of a list of scores.\n",
    "    \n",
    "    Average and Average2 are hidden functions performing mean algorithm\n",
    "\n",
    "    If a single score is provided in scores, it is returned as the mean.\n",
    "    If a list of scores is provided, the average is calculated and returned.\n",
    "    \"\"\"\n",
    "    \n",
    "! def average(scores): \n",
    "!        \"\"\"Calculate the average of a list of scores using a Python for loop with rounding.\"\"\"\n",
    "!        sum = 0\n",
    "!        len = 0\n",
    "!        for score in scores:\n",
    "!            if isinstance(score, Number):\n",
    "!               sum += score\n",
    "!                len += 1\n",
    "!            else:\n",
    "!                print(\"Bad data: \" + str(score) + \" in \" + str(scores))\n",
    "!                sys.exit()\n",
    "!        return sum / len\n",
    "    \n",
    "! def average2(scores):\n",
    "!        \"\"\"Calculate the average of a list of scores using the built-in sum() function with rounding.\"\"\"\n",
    "!        return sum(scores) / len(scores)\n",
    "\n",
    "    # test to see if scores is  a list of numbers\n",
    "! if isinstance(scores, list):\n",
    "! if method == 1:  \n",
    "            # long method\n",
    "!            result = average(scores)\n",
    "! else:\n",
    "            # built in method\n",
    "!            result = average2(scores)\n",
    "! return round(result + 0.005, 2)\n",
    "    \n",
    "! return scores # case where scores is a single valu\n",
    "\n",
    "# try with one number\n",
    "singleScore = 100\n",
    "! print(\"Print test data: \" + str(singleScore))  # concat data for single line\n",
    "! print(\"Mean of single number: \" + str(mean(singleScore)))\n",
    "\n",
    "! print()\n",
    "\n",
    "# define a list of numbers\n",
    "testScores = [90.5, 100, 85.4, 88]\n",
    "! print(\"Print test data: \" + str(testScores))\n",
    "! print(\"Average score, loop method: \" + str(mean(testScores)))\n",
    "! print(\"Average score, function method: \" +  str(mean(testScores, 2)))\n",
    "\n",
    "! print()\n",
    "\n",
    "badData = [100, \"NaN\", 90]\n",
    "! print(\"Print test data: \" + str(badData))\n",
    "! print(\"Mean with bad data: \" + str(mean(badData)))"
   ]
  }
 ],
 "metadata": {
  "kernelspec": {
   "display_name": "venv",
   "language": "python",
   "name": "python3"
  },
  "language_info": {
   "codemirror_mode": {
    "name": "ipython",
    "version": 3
   },
   "file_extension": ".py",
   "mimetype": "text/x-python",
   "name": "python",
   "nbconvert_exporter": "python",
   "pygments_lexer": "ipython3",
   "version": "3.12.3"
  }
 },
 "nbformat": 4,
 "nbformat_minor": 2
}
