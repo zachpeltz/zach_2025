{
 "cells": [
  {
   "cell_type": "markdown",
   "metadata": {},
   "source": [
    "---\n",
    "layout: post\n",
    "title: Testing Hacks\n",
    "description: Python and jupyter\n",
    "courses: { csp: {week: 1} }\n",
    "comments: true\n",
    "sticky_rank: 1\n",
    "---"
   ]
  },
  {
   "cell_type": "markdown",
   "metadata": {},
   "source": [
    "print(\"hello_world\")"
   ]
  },
  {
   "cell_type": "code",
   "execution_count": 92,
   "metadata": {},
   "outputs": [
    {
     "name": "stdout",
     "output_type": "stream",
     "text": [
      "Requirement already satisfied: wikipedia in /home/zachpeltz/nighthawk/zach_2025/venv/lib/python3.12/site-packages (1.4.0)\n",
      "Requirement already satisfied: beautifulsoup4 in /home/zachpeltz/nighthawk/zach_2025/venv/lib/python3.12/site-packages (from wikipedia) (4.12.3)\n",
      "Requirement already satisfied: requests<3.0.0,>=2.0.0 in /home/zachpeltz/nighthawk/zach_2025/venv/lib/python3.12/site-packages (from wikipedia) (2.32.3)\n",
      "Requirement already satisfied: charset-normalizer<4,>=2 in /home/zachpeltz/nighthawk/zach_2025/venv/lib/python3.12/site-packages (from requests<3.0.0,>=2.0.0->wikipedia) (3.3.2)\n",
      "Requirement already satisfied: idna<4,>=2.5 in /home/zachpeltz/nighthawk/zach_2025/venv/lib/python3.12/site-packages (from requests<3.0.0,>=2.0.0->wikipedia) (3.8)\n",
      "Requirement already satisfied: urllib3<3,>=1.21.1 in /home/zachpeltz/nighthawk/zach_2025/venv/lib/python3.12/site-packages (from requests<3.0.0,>=2.0.0->wikipedia) (2.2.2)\n",
      "Requirement already satisfied: certifi>=2017.4.17 in /home/zachpeltz/nighthawk/zach_2025/venv/lib/python3.12/site-packages (from requests<3.0.0,>=2.0.0->wikipedia) (2024.8.30)\n",
      "Requirement already satisfied: soupsieve>1.2 in /home/zachpeltz/nighthawk/zach_2025/venv/lib/python3.12/site-packages (from beautifulsoup4->wikipedia) (2.6)\n"
     ]
    }
   ],
   "source": [
    "! pip install wikipedia\n"
   ]
  },
  {
   "cell_type": "code",
   "execution_count": 93,
   "metadata": {},
   "outputs": [
    {
     "name": "stdout",
     "output_type": "stream",
     "text": [
      "Python (programming language)\n"
     ]
    },
    {
     "data": {
      "text/markdown": [
       "Python is a high-level, general-purpose programming language. Its design philosophy emphasizes code readability with the use of significant indentation.\n",
       "Python is dynamically typed and garbage-collected. It supports multiple programming paradigms, including structured (particularly procedural), object-oriented and functional programming. It is often described as a \"batteries included\" language due to its comprehensive standard library.\n",
       "Guido van Rossum began working on Python in the late 1980s as a successor to the ABC programming language and first released it in 1991 as Python 0.9.0. Python 2.0 was released in 2000. Python 3.0, released in 2008, was a major revision not completely backward-compatible with earlier versions. Python 2.7.18, released in 2020, was the last release of Python 2.\n",
       "Python consistently ranks as one of the most popular programming languages, and has gained widespread use in the machine learning community.\n",
       "\n"
      ],
      "text/plain": [
       "<IPython.core.display.Markdown object>"
      ]
     },
     "metadata": {},
     "output_type": "display_data"
    },
    {
     "name": "stdout",
     "output_type": "stream",
     "text": [
      "JavaScript\n"
     ]
    },
    {
     "data": {
      "text/markdown": [
       "JavaScript (), often abbreviated as JS, is a programming language and core technology of the Web, alongside HTML and CSS. 99% of websites use JavaScript on the client side for webpage behavior.\n",
       "Web browsers have a dedicated JavaScript engine that executes the client code. These engines are also utilized in some servers and a variety of apps. The most popular runtime system for non-browser usage is Node.js.\n",
       "JavaScript is a high-level, often just-in-time compiled language that conforms to the ECMAScript standard. It has dynamic typing, prototype-based object-orientation, and first-class functions. It is multi-paradigm, supporting event-driven, functional, and imperative programming styles. It has application programming interfaces (APIs) for working with text, dates, regular expressions, standard data structures, and the Document Object Model (DOM).\n",
       "The ECMAScript standard does not include any input/output (I/O), such as networking, storage, or graphics facilities. In practice, the web browser or other runtime system provides JavaScript APIs for I/O.\n",
       "Although Java and JavaScript are similar in name, syntax, and respective standard libraries, the two languages are distinct and differ greatly in design."
      ],
      "text/plain": [
       "<IPython.core.display.Markdown object>"
      ]
     },
     "metadata": {},
     "output_type": "display_data"
    }
   ],
   "source": [
    "import wikipedia \n",
    "from IPython.display import display, Markdown # add for Jupyter\n",
    "\n",
    "terms = [\"Python (programming language)\", \"JavaScript\"]\n",
    "for term in terms:\n",
    "    # Search for a page \n",
    "    result = wikipedia.search(term)\n",
    "    # Get the summary of the first result\n",
    "    summary = wikipedia.summary(result[0])\n",
    "    print(term) \n",
    "    # print(summary) # console display\n",
    "    display(Markdown(summary)) # Jupyter display"
   ]
  },
  {
   "cell_type": "code",
   "execution_count": 94,
   "metadata": {},
   "outputs": [
    {
     "name": "stdout",
     "output_type": "stream",
     "text": [
      "Requirement already satisfied: newspaper3k in /home/zachpeltz/nighthawk/zach_2025/venv/lib/python3.12/site-packages (0.2.8)\n",
      "Requirement already satisfied: beautifulsoup4>=4.4.1 in /home/zachpeltz/nighthawk/zach_2025/venv/lib/python3.12/site-packages (from newspaper3k) (4.12.3)\n",
      "Requirement already satisfied: Pillow>=3.3.0 in /home/zachpeltz/nighthawk/zach_2025/venv/lib/python3.12/site-packages (from newspaper3k) (10.4.0)\n",
      "Requirement already satisfied: PyYAML>=3.11 in /home/zachpeltz/nighthawk/zach_2025/venv/lib/python3.12/site-packages (from newspaper3k) (6.0.2)\n",
      "Requirement already satisfied: cssselect>=0.9.2 in /home/zachpeltz/nighthawk/zach_2025/venv/lib/python3.12/site-packages (from newspaper3k) (1.2.0)\n",
      "Requirement already satisfied: lxml>=3.6.0 in /home/zachpeltz/nighthawk/zach_2025/venv/lib/python3.12/site-packages (from newspaper3k) (5.3.0)\n",
      "Requirement already satisfied: nltk>=3.2.1 in /home/zachpeltz/nighthawk/zach_2025/venv/lib/python3.12/site-packages (from newspaper3k) (3.9.1)\n",
      "Requirement already satisfied: requests>=2.10.0 in /home/zachpeltz/nighthawk/zach_2025/venv/lib/python3.12/site-packages (from newspaper3k) (2.32.3)\n",
      "Requirement already satisfied: feedparser>=5.2.1 in /home/zachpeltz/nighthawk/zach_2025/venv/lib/python3.12/site-packages (from newspaper3k) (6.0.11)\n",
      "Requirement already satisfied: tldextract>=2.0.1 in /home/zachpeltz/nighthawk/zach_2025/venv/lib/python3.12/site-packages (from newspaper3k) (5.1.2)\n",
      "Requirement already satisfied: feedfinder2>=0.0.4 in /home/zachpeltz/nighthawk/zach_2025/venv/lib/python3.12/site-packages (from newspaper3k) (0.0.4)\n",
      "Requirement already satisfied: jieba3k>=0.35.1 in /home/zachpeltz/nighthawk/zach_2025/venv/lib/python3.12/site-packages (from newspaper3k) (0.35.1)\n",
      "Requirement already satisfied: python-dateutil>=2.5.3 in /home/zachpeltz/nighthawk/zach_2025/venv/lib/python3.12/site-packages (from newspaper3k) (2.9.0.post0)\n",
      "Requirement already satisfied: tinysegmenter==0.3 in /home/zachpeltz/nighthawk/zach_2025/venv/lib/python3.12/site-packages (from newspaper3k) (0.3)\n",
      "Requirement already satisfied: soupsieve>1.2 in /home/zachpeltz/nighthawk/zach_2025/venv/lib/python3.12/site-packages (from beautifulsoup4>=4.4.1->newspaper3k) (2.6)\n",
      "Requirement already satisfied: six in /home/zachpeltz/nighthawk/zach_2025/venv/lib/python3.12/site-packages (from feedfinder2>=0.0.4->newspaper3k) (1.16.0)\n",
      "Requirement already satisfied: sgmllib3k in /home/zachpeltz/nighthawk/zach_2025/venv/lib/python3.12/site-packages (from feedparser>=5.2.1->newspaper3k) (1.0.0)\n",
      "Requirement already satisfied: click in /home/zachpeltz/nighthawk/zach_2025/venv/lib/python3.12/site-packages (from nltk>=3.2.1->newspaper3k) (8.1.7)\n",
      "Requirement already satisfied: joblib in /home/zachpeltz/nighthawk/zach_2025/venv/lib/python3.12/site-packages (from nltk>=3.2.1->newspaper3k) (1.4.2)\n",
      "Requirement already satisfied: regex>=2021.8.3 in /home/zachpeltz/nighthawk/zach_2025/venv/lib/python3.12/site-packages (from nltk>=3.2.1->newspaper3k) (2024.7.24)\n",
      "Requirement already satisfied: tqdm in /home/zachpeltz/nighthawk/zach_2025/venv/lib/python3.12/site-packages (from nltk>=3.2.1->newspaper3k) (4.66.5)\n",
      "Requirement already satisfied: charset-normalizer<4,>=2 in /home/zachpeltz/nighthawk/zach_2025/venv/lib/python3.12/site-packages (from requests>=2.10.0->newspaper3k) (3.3.2)\n",
      "Requirement already satisfied: idna<4,>=2.5 in /home/zachpeltz/nighthawk/zach_2025/venv/lib/python3.12/site-packages (from requests>=2.10.0->newspaper3k) (3.8)\n",
      "Requirement already satisfied: urllib3<3,>=1.21.1 in /home/zachpeltz/nighthawk/zach_2025/venv/lib/python3.12/site-packages (from requests>=2.10.0->newspaper3k) (2.2.2)\n",
      "Requirement already satisfied: certifi>=2017.4.17 in /home/zachpeltz/nighthawk/zach_2025/venv/lib/python3.12/site-packages (from requests>=2.10.0->newspaper3k) (2024.8.30)\n",
      "Requirement already satisfied: requests-file>=1.4 in /home/zachpeltz/nighthawk/zach_2025/venv/lib/python3.12/site-packages (from tldextract>=2.0.1->newspaper3k) (2.1.0)\n",
      "Requirement already satisfied: filelock>=3.0.8 in /home/zachpeltz/nighthawk/zach_2025/venv/lib/python3.12/site-packages (from tldextract>=2.0.1->newspaper3k) (3.16.0)\n"
     ]
    }
   ],
   "source": [
    "! pip install newspaper3k"
   ]
  },
  {
   "cell_type": "code",
   "execution_count": 95,
   "metadata": {},
   "outputs": [
    {
     "name": "stdout",
     "output_type": "stream",
     "text": [
      "Requirement already satisfied: emoji in /home/zachpeltz/nighthawk/zach_2025/venv/lib/python3.12/site-packages (2.12.1)\n",
      "Requirement already satisfied: typing-extensions>=4.7.0 in /home/zachpeltz/nighthawk/zach_2025/venv/lib/python3.12/site-packages (from emoji) (4.12.2)\n"
     ]
    }
   ],
   "source": [
    "! pip install emoji"
   ]
  },
  {
   "cell_type": "code",
   "execution_count": 96,
   "metadata": {},
   "outputs": [
    {
     "name": "stdout",
     "output_type": "stream",
     "text": [
      "👍 Python is awesome! 😀\n"
     ]
    }
   ],
   "source": [
    "from emoji import emojize \n",
    "print(emojize(\":thumbs_up: Python is awesome! :grinning_face:\"))"
   ]
  },
  {
   "cell_type": "code",
   "execution_count": 97,
   "metadata": {},
   "outputs": [
    {
     "name": "stdout",
     "output_type": "stream",
     "text": [
      "Requirement already satisfied: newspaper3k in /home/zachpeltz/nighthawk/zach_2025/venv/lib/python3.12/site-packages (0.2.8)\n",
      "Requirement already satisfied: beautifulsoup4>=4.4.1 in /home/zachpeltz/nighthawk/zach_2025/venv/lib/python3.12/site-packages (from newspaper3k) (4.12.3)\n",
      "Requirement already satisfied: Pillow>=3.3.0 in /home/zachpeltz/nighthawk/zach_2025/venv/lib/python3.12/site-packages (from newspaper3k) (10.4.0)\n",
      "Requirement already satisfied: PyYAML>=3.11 in /home/zachpeltz/nighthawk/zach_2025/venv/lib/python3.12/site-packages (from newspaper3k) (6.0.2)\n",
      "Requirement already satisfied: cssselect>=0.9.2 in /home/zachpeltz/nighthawk/zach_2025/venv/lib/python3.12/site-packages (from newspaper3k) (1.2.0)\n",
      "Requirement already satisfied: lxml>=3.6.0 in /home/zachpeltz/nighthawk/zach_2025/venv/lib/python3.12/site-packages (from newspaper3k) (5.3.0)\n",
      "Requirement already satisfied: nltk>=3.2.1 in /home/zachpeltz/nighthawk/zach_2025/venv/lib/python3.12/site-packages (from newspaper3k) (3.9.1)\n",
      "Requirement already satisfied: requests>=2.10.0 in /home/zachpeltz/nighthawk/zach_2025/venv/lib/python3.12/site-packages (from newspaper3k) (2.32.3)\n",
      "Requirement already satisfied: feedparser>=5.2.1 in /home/zachpeltz/nighthawk/zach_2025/venv/lib/python3.12/site-packages (from newspaper3k) (6.0.11)\n",
      "Requirement already satisfied: tldextract>=2.0.1 in /home/zachpeltz/nighthawk/zach_2025/venv/lib/python3.12/site-packages (from newspaper3k) (5.1.2)\n",
      "Requirement already satisfied: feedfinder2>=0.0.4 in /home/zachpeltz/nighthawk/zach_2025/venv/lib/python3.12/site-packages (from newspaper3k) (0.0.4)\n",
      "Requirement already satisfied: jieba3k>=0.35.1 in /home/zachpeltz/nighthawk/zach_2025/venv/lib/python3.12/site-packages (from newspaper3k) (0.35.1)\n",
      "Requirement already satisfied: python-dateutil>=2.5.3 in /home/zachpeltz/nighthawk/zach_2025/venv/lib/python3.12/site-packages (from newspaper3k) (2.9.0.post0)\n",
      "Requirement already satisfied: tinysegmenter==0.3 in /home/zachpeltz/nighthawk/zach_2025/venv/lib/python3.12/site-packages (from newspaper3k) (0.3)\n",
      "Requirement already satisfied: soupsieve>1.2 in /home/zachpeltz/nighthawk/zach_2025/venv/lib/python3.12/site-packages (from beautifulsoup4>=4.4.1->newspaper3k) (2.6)\n",
      "Requirement already satisfied: six in /home/zachpeltz/nighthawk/zach_2025/venv/lib/python3.12/site-packages (from feedfinder2>=0.0.4->newspaper3k) (1.16.0)\n",
      "Requirement already satisfied: sgmllib3k in /home/zachpeltz/nighthawk/zach_2025/venv/lib/python3.12/site-packages (from feedparser>=5.2.1->newspaper3k) (1.0.0)\n",
      "Requirement already satisfied: click in /home/zachpeltz/nighthawk/zach_2025/venv/lib/python3.12/site-packages (from nltk>=3.2.1->newspaper3k) (8.1.7)\n",
      "Requirement already satisfied: joblib in /home/zachpeltz/nighthawk/zach_2025/venv/lib/python3.12/site-packages (from nltk>=3.2.1->newspaper3k) (1.4.2)\n",
      "Requirement already satisfied: regex>=2021.8.3 in /home/zachpeltz/nighthawk/zach_2025/venv/lib/python3.12/site-packages (from nltk>=3.2.1->newspaper3k) (2024.7.24)\n",
      "Requirement already satisfied: tqdm in /home/zachpeltz/nighthawk/zach_2025/venv/lib/python3.12/site-packages (from nltk>=3.2.1->newspaper3k) (4.66.5)\n",
      "Requirement already satisfied: charset-normalizer<4,>=2 in /home/zachpeltz/nighthawk/zach_2025/venv/lib/python3.12/site-packages (from requests>=2.10.0->newspaper3k) (3.3.2)\n",
      "Requirement already satisfied: idna<4,>=2.5 in /home/zachpeltz/nighthawk/zach_2025/venv/lib/python3.12/site-packages (from requests>=2.10.0->newspaper3k) (3.8)\n",
      "Requirement already satisfied: urllib3<3,>=1.21.1 in /home/zachpeltz/nighthawk/zach_2025/venv/lib/python3.12/site-packages (from requests>=2.10.0->newspaper3k) (2.2.2)\n",
      "Requirement already satisfied: certifi>=2017.4.17 in /home/zachpeltz/nighthawk/zach_2025/venv/lib/python3.12/site-packages (from requests>=2.10.0->newspaper3k) (2024.8.30)\n",
      "Requirement already satisfied: requests-file>=1.4 in /home/zachpeltz/nighthawk/zach_2025/venv/lib/python3.12/site-packages (from tldextract>=2.0.1->newspaper3k) (2.1.0)\n",
      "Requirement already satisfied: filelock>=3.0.8 in /home/zachpeltz/nighthawk/zach_2025/venv/lib/python3.12/site-packages (from tldextract>=2.0.1->newspaper3k) (3.16.0)\n"
     ]
    }
   ],
   "source": [
    "! pip install newspaper3k"
   ]
  },
  {
   "cell_type": "code",
   "execution_count": 98,
   "metadata": {},
   "outputs": [
    {
     "name": "stdout",
     "output_type": "stream",
     "text": [
      "Requirement already satisfied: newspaper3k in /home/zachpeltz/nighthawk/zach_2025/venv/lib/python3.12/site-packages (0.2.8)\n",
      "Requirement already satisfied: beautifulsoup4>=4.4.1 in /home/zachpeltz/nighthawk/zach_2025/venv/lib/python3.12/site-packages (from newspaper3k) (4.12.3)\n",
      "Requirement already satisfied: Pillow>=3.3.0 in /home/zachpeltz/nighthawk/zach_2025/venv/lib/python3.12/site-packages (from newspaper3k) (10.4.0)\n",
      "Requirement already satisfied: PyYAML>=3.11 in /home/zachpeltz/nighthawk/zach_2025/venv/lib/python3.12/site-packages (from newspaper3k) (6.0.2)\n",
      "Requirement already satisfied: cssselect>=0.9.2 in /home/zachpeltz/nighthawk/zach_2025/venv/lib/python3.12/site-packages (from newspaper3k) (1.2.0)\n",
      "Requirement already satisfied: lxml>=3.6.0 in /home/zachpeltz/nighthawk/zach_2025/venv/lib/python3.12/site-packages (from newspaper3k) (5.3.0)\n",
      "Requirement already satisfied: nltk>=3.2.1 in /home/zachpeltz/nighthawk/zach_2025/venv/lib/python3.12/site-packages (from newspaper3k) (3.9.1)\n",
      "Requirement already satisfied: requests>=2.10.0 in /home/zachpeltz/nighthawk/zach_2025/venv/lib/python3.12/site-packages (from newspaper3k) (2.32.3)\n",
      "Requirement already satisfied: feedparser>=5.2.1 in /home/zachpeltz/nighthawk/zach_2025/venv/lib/python3.12/site-packages (from newspaper3k) (6.0.11)\n",
      "Requirement already satisfied: tldextract>=2.0.1 in /home/zachpeltz/nighthawk/zach_2025/venv/lib/python3.12/site-packages (from newspaper3k) (5.1.2)\n",
      "Requirement already satisfied: feedfinder2>=0.0.4 in /home/zachpeltz/nighthawk/zach_2025/venv/lib/python3.12/site-packages (from newspaper3k) (0.0.4)\n",
      "Requirement already satisfied: jieba3k>=0.35.1 in /home/zachpeltz/nighthawk/zach_2025/venv/lib/python3.12/site-packages (from newspaper3k) (0.35.1)\n",
      "Requirement already satisfied: python-dateutil>=2.5.3 in /home/zachpeltz/nighthawk/zach_2025/venv/lib/python3.12/site-packages (from newspaper3k) (2.9.0.post0)\n",
      "Requirement already satisfied: tinysegmenter==0.3 in /home/zachpeltz/nighthawk/zach_2025/venv/lib/python3.12/site-packages (from newspaper3k) (0.3)\n",
      "Requirement already satisfied: soupsieve>1.2 in /home/zachpeltz/nighthawk/zach_2025/venv/lib/python3.12/site-packages (from beautifulsoup4>=4.4.1->newspaper3k) (2.6)\n",
      "Requirement already satisfied: six in /home/zachpeltz/nighthawk/zach_2025/venv/lib/python3.12/site-packages (from feedfinder2>=0.0.4->newspaper3k) (1.16.0)\n",
      "Requirement already satisfied: sgmllib3k in /home/zachpeltz/nighthawk/zach_2025/venv/lib/python3.12/site-packages (from feedparser>=5.2.1->newspaper3k) (1.0.0)\n",
      "Requirement already satisfied: click in /home/zachpeltz/nighthawk/zach_2025/venv/lib/python3.12/site-packages (from nltk>=3.2.1->newspaper3k) (8.1.7)\n",
      "Requirement already satisfied: joblib in /home/zachpeltz/nighthawk/zach_2025/venv/lib/python3.12/site-packages (from nltk>=3.2.1->newspaper3k) (1.4.2)\n",
      "Requirement already satisfied: regex>=2021.8.3 in /home/zachpeltz/nighthawk/zach_2025/venv/lib/python3.12/site-packages (from nltk>=3.2.1->newspaper3k) (2024.7.24)\n",
      "Requirement already satisfied: tqdm in /home/zachpeltz/nighthawk/zach_2025/venv/lib/python3.12/site-packages (from nltk>=3.2.1->newspaper3k) (4.66.5)\n",
      "Requirement already satisfied: charset-normalizer<4,>=2 in /home/zachpeltz/nighthawk/zach_2025/venv/lib/python3.12/site-packages (from requests>=2.10.0->newspaper3k) (3.3.2)\n",
      "Requirement already satisfied: idna<4,>=2.5 in /home/zachpeltz/nighthawk/zach_2025/venv/lib/python3.12/site-packages (from requests>=2.10.0->newspaper3k) (3.8)\n",
      "Requirement already satisfied: urllib3<3,>=1.21.1 in /home/zachpeltz/nighthawk/zach_2025/venv/lib/python3.12/site-packages (from requests>=2.10.0->newspaper3k) (2.2.2)\n",
      "Requirement already satisfied: certifi>=2017.4.17 in /home/zachpeltz/nighthawk/zach_2025/venv/lib/python3.12/site-packages (from requests>=2.10.0->newspaper3k) (2024.8.30)\n",
      "Requirement already satisfied: requests-file>=1.4 in /home/zachpeltz/nighthawk/zach_2025/venv/lib/python3.12/site-packages (from tldextract>=2.0.1->newspaper3k) (2.1.0)\n",
      "Requirement already satisfied: filelock>=3.0.8 in /home/zachpeltz/nighthawk/zach_2025/venv/lib/python3.12/site-packages (from tldextract>=2.0.1->newspaper3k) (3.16.0)\n",
      "Note: you may need to restart the kernel to use updated packages.\n"
     ]
    }
   ],
   "source": [
    "pip install newspaper3k"
   ]
  },
  {
   "cell_type": "code",
   "execution_count": 99,
   "metadata": {},
   "outputs": [
    {
     "name": "stdout",
     "output_type": "stream",
     "text": [
      "Requirement already satisfied: newspaper3k in /home/zachpeltz/nighthawk/zach_2025/venv/lib/python3.12/site-packages (0.2.8)\n",
      "Requirement already satisfied: beautifulsoup4>=4.4.1 in /home/zachpeltz/nighthawk/zach_2025/venv/lib/python3.12/site-packages (from newspaper3k) (4.12.3)\n",
      "Requirement already satisfied: Pillow>=3.3.0 in /home/zachpeltz/nighthawk/zach_2025/venv/lib/python3.12/site-packages (from newspaper3k) (10.4.0)\n",
      "Requirement already satisfied: PyYAML>=3.11 in /home/zachpeltz/nighthawk/zach_2025/venv/lib/python3.12/site-packages (from newspaper3k) (6.0.2)\n",
      "Requirement already satisfied: cssselect>=0.9.2 in /home/zachpeltz/nighthawk/zach_2025/venv/lib/python3.12/site-packages (from newspaper3k) (1.2.0)\n",
      "Requirement already satisfied: lxml>=3.6.0 in /home/zachpeltz/nighthawk/zach_2025/venv/lib/python3.12/site-packages (from newspaper3k) (5.3.0)\n",
      "Requirement already satisfied: nltk>=3.2.1 in /home/zachpeltz/nighthawk/zach_2025/venv/lib/python3.12/site-packages (from newspaper3k) (3.9.1)\n",
      "Requirement already satisfied: requests>=2.10.0 in /home/zachpeltz/nighthawk/zach_2025/venv/lib/python3.12/site-packages (from newspaper3k) (2.32.3)\n",
      "Requirement already satisfied: feedparser>=5.2.1 in /home/zachpeltz/nighthawk/zach_2025/venv/lib/python3.12/site-packages (from newspaper3k) (6.0.11)\n",
      "Requirement already satisfied: tldextract>=2.0.1 in /home/zachpeltz/nighthawk/zach_2025/venv/lib/python3.12/site-packages (from newspaper3k) (5.1.2)\n",
      "Requirement already satisfied: feedfinder2>=0.0.4 in /home/zachpeltz/nighthawk/zach_2025/venv/lib/python3.12/site-packages (from newspaper3k) (0.0.4)\n",
      "Requirement already satisfied: jieba3k>=0.35.1 in /home/zachpeltz/nighthawk/zach_2025/venv/lib/python3.12/site-packages (from newspaper3k) (0.35.1)\n",
      "Requirement already satisfied: python-dateutil>=2.5.3 in /home/zachpeltz/nighthawk/zach_2025/venv/lib/python3.12/site-packages (from newspaper3k) (2.9.0.post0)\n",
      "Requirement already satisfied: tinysegmenter==0.3 in /home/zachpeltz/nighthawk/zach_2025/venv/lib/python3.12/site-packages (from newspaper3k) (0.3)\n",
      "Requirement already satisfied: soupsieve>1.2 in /home/zachpeltz/nighthawk/zach_2025/venv/lib/python3.12/site-packages (from beautifulsoup4>=4.4.1->newspaper3k) (2.6)\n",
      "Requirement already satisfied: six in /home/zachpeltz/nighthawk/zach_2025/venv/lib/python3.12/site-packages (from feedfinder2>=0.0.4->newspaper3k) (1.16.0)\n",
      "Requirement already satisfied: sgmllib3k in /home/zachpeltz/nighthawk/zach_2025/venv/lib/python3.12/site-packages (from feedparser>=5.2.1->newspaper3k) (1.0.0)\n",
      "Requirement already satisfied: click in /home/zachpeltz/nighthawk/zach_2025/venv/lib/python3.12/site-packages (from nltk>=3.2.1->newspaper3k) (8.1.7)\n",
      "Requirement already satisfied: joblib in /home/zachpeltz/nighthawk/zach_2025/venv/lib/python3.12/site-packages (from nltk>=3.2.1->newspaper3k) (1.4.2)\n",
      "Requirement already satisfied: regex>=2021.8.3 in /home/zachpeltz/nighthawk/zach_2025/venv/lib/python3.12/site-packages (from nltk>=3.2.1->newspaper3k) (2024.7.24)\n",
      "Requirement already satisfied: tqdm in /home/zachpeltz/nighthawk/zach_2025/venv/lib/python3.12/site-packages (from nltk>=3.2.1->newspaper3k) (4.66.5)\n",
      "Requirement already satisfied: charset-normalizer<4,>=2 in /home/zachpeltz/nighthawk/zach_2025/venv/lib/python3.12/site-packages (from requests>=2.10.0->newspaper3k) (3.3.2)\n",
      "Requirement already satisfied: idna<4,>=2.5 in /home/zachpeltz/nighthawk/zach_2025/venv/lib/python3.12/site-packages (from requests>=2.10.0->newspaper3k) (3.8)\n",
      "Requirement already satisfied: urllib3<3,>=1.21.1 in /home/zachpeltz/nighthawk/zach_2025/venv/lib/python3.12/site-packages (from requests>=2.10.0->newspaper3k) (2.2.2)\n",
      "Requirement already satisfied: certifi>=2017.4.17 in /home/zachpeltz/nighthawk/zach_2025/venv/lib/python3.12/site-packages (from requests>=2.10.0->newspaper3k) (2024.8.30)\n",
      "Requirement already satisfied: requests-file>=1.4 in /home/zachpeltz/nighthawk/zach_2025/venv/lib/python3.12/site-packages (from tldextract>=2.0.1->newspaper3k) (2.1.0)\n",
      "Requirement already satisfied: filelock>=3.0.8 in /home/zachpeltz/nighthawk/zach_2025/venv/lib/python3.12/site-packages (from tldextract>=2.0.1->newspaper3k) (3.16.0)\n"
     ]
    }
   ],
   "source": [
    "! pip install newspaper3k"
   ]
  },
  {
   "cell_type": "code",
   "execution_count": 100,
   "metadata": {},
   "outputs": [
    {
     "name": "stdout",
     "output_type": "stream",
     "text": [
      "👍 Python is awesome! 😀\n"
     ]
    }
   ],
   "source": [
    "from emoji import emojize\n",
    "print(emojize(\":thumbs_up: Python is awesome! :grinning_face:\"))"
   ]
  },
  {
   "cell_type": "code",
   "execution_count": 101,
   "metadata": {},
   "outputs": [
    {
     "name": "stdout",
     "output_type": "stream",
     "text": [
      "Requirement already satisfied: newspaper3k in /home/zachpeltz/nighthawk/zach_2025/venv/lib/python3.12/site-packages (0.2.8)\n",
      "Requirement already satisfied: beautifulsoup4>=4.4.1 in /home/zachpeltz/nighthawk/zach_2025/venv/lib/python3.12/site-packages (from newspaper3k) (4.12.3)\n",
      "Requirement already satisfied: Pillow>=3.3.0 in /home/zachpeltz/nighthawk/zach_2025/venv/lib/python3.12/site-packages (from newspaper3k) (10.4.0)\n",
      "Requirement already satisfied: PyYAML>=3.11 in /home/zachpeltz/nighthawk/zach_2025/venv/lib/python3.12/site-packages (from newspaper3k) (6.0.2)\n",
      "Requirement already satisfied: cssselect>=0.9.2 in /home/zachpeltz/nighthawk/zach_2025/venv/lib/python3.12/site-packages (from newspaper3k) (1.2.0)\n",
      "Requirement already satisfied: lxml>=3.6.0 in /home/zachpeltz/nighthawk/zach_2025/venv/lib/python3.12/site-packages (from newspaper3k) (5.3.0)\n",
      "Requirement already satisfied: nltk>=3.2.1 in /home/zachpeltz/nighthawk/zach_2025/venv/lib/python3.12/site-packages (from newspaper3k) (3.9.1)\n",
      "Requirement already satisfied: requests>=2.10.0 in /home/zachpeltz/nighthawk/zach_2025/venv/lib/python3.12/site-packages (from newspaper3k) (2.32.3)\n",
      "Requirement already satisfied: feedparser>=5.2.1 in /home/zachpeltz/nighthawk/zach_2025/venv/lib/python3.12/site-packages (from newspaper3k) (6.0.11)\n",
      "Requirement already satisfied: tldextract>=2.0.1 in /home/zachpeltz/nighthawk/zach_2025/venv/lib/python3.12/site-packages (from newspaper3k) (5.1.2)\n",
      "Requirement already satisfied: feedfinder2>=0.0.4 in /home/zachpeltz/nighthawk/zach_2025/venv/lib/python3.12/site-packages (from newspaper3k) (0.0.4)\n",
      "Requirement already satisfied: jieba3k>=0.35.1 in /home/zachpeltz/nighthawk/zach_2025/venv/lib/python3.12/site-packages (from newspaper3k) (0.35.1)\n",
      "Requirement already satisfied: python-dateutil>=2.5.3 in /home/zachpeltz/nighthawk/zach_2025/venv/lib/python3.12/site-packages (from newspaper3k) (2.9.0.post0)\n",
      "Requirement already satisfied: tinysegmenter==0.3 in /home/zachpeltz/nighthawk/zach_2025/venv/lib/python3.12/site-packages (from newspaper3k) (0.3)\n",
      "Requirement already satisfied: soupsieve>1.2 in /home/zachpeltz/nighthawk/zach_2025/venv/lib/python3.12/site-packages (from beautifulsoup4>=4.4.1->newspaper3k) (2.6)\n",
      "Requirement already satisfied: six in /home/zachpeltz/nighthawk/zach_2025/venv/lib/python3.12/site-packages (from feedfinder2>=0.0.4->newspaper3k) (1.16.0)\n",
      "Requirement already satisfied: sgmllib3k in /home/zachpeltz/nighthawk/zach_2025/venv/lib/python3.12/site-packages (from feedparser>=5.2.1->newspaper3k) (1.0.0)\n",
      "Requirement already satisfied: click in /home/zachpeltz/nighthawk/zach_2025/venv/lib/python3.12/site-packages (from nltk>=3.2.1->newspaper3k) (8.1.7)\n",
      "Requirement already satisfied: joblib in /home/zachpeltz/nighthawk/zach_2025/venv/lib/python3.12/site-packages (from nltk>=3.2.1->newspaper3k) (1.4.2)\n",
      "Requirement already satisfied: regex>=2021.8.3 in /home/zachpeltz/nighthawk/zach_2025/venv/lib/python3.12/site-packages (from nltk>=3.2.1->newspaper3k) (2024.7.24)\n",
      "Requirement already satisfied: tqdm in /home/zachpeltz/nighthawk/zach_2025/venv/lib/python3.12/site-packages (from nltk>=3.2.1->newspaper3k) (4.66.5)\n",
      "Requirement already satisfied: charset-normalizer<4,>=2 in /home/zachpeltz/nighthawk/zach_2025/venv/lib/python3.12/site-packages (from requests>=2.10.0->newspaper3k) (3.3.2)\n",
      "Requirement already satisfied: idna<4,>=2.5 in /home/zachpeltz/nighthawk/zach_2025/venv/lib/python3.12/site-packages (from requests>=2.10.0->newspaper3k) (3.8)\n",
      "Requirement already satisfied: urllib3<3,>=1.21.1 in /home/zachpeltz/nighthawk/zach_2025/venv/lib/python3.12/site-packages (from requests>=2.10.0->newspaper3k) (2.2.2)\n",
      "Requirement already satisfied: certifi>=2017.4.17 in /home/zachpeltz/nighthawk/zach_2025/venv/lib/python3.12/site-packages (from requests>=2.10.0->newspaper3k) (2024.8.30)\n",
      "Requirement already satisfied: requests-file>=1.4 in /home/zachpeltz/nighthawk/zach_2025/venv/lib/python3.12/site-packages (from tldextract>=2.0.1->newspaper3k) (2.1.0)\n",
      "Requirement already satisfied: filelock>=3.0.8 in /home/zachpeltz/nighthawk/zach_2025/venv/lib/python3.12/site-packages (from tldextract>=2.0.1->newspaper3k) (3.16.0)\n"
     ]
    }
   ],
   "source": [
    "! pip install newspaper3k"
   ]
  },
  {
   "cell_type": "code",
   "execution_count": 102,
   "metadata": {},
   "outputs": [
    {
     "name": "stdout",
     "output_type": "stream",
     "text": [
      "Name: newspaper3k\n",
      "Version: 0.2.8\n",
      "Summary: Simplified python article discovery & extraction.\n",
      "Home-page: https://github.com/codelucas/newspaper/\n",
      "Author: Lucas Ou-Yang\n",
      "Author-email: lucasyangpersonal@gmail.com\n",
      "License: MIT\n",
      "Location: /home/zachpeltz/nighthawk/zach_2025/venv/lib/python3.12/site-packages\n",
      "Requires: beautifulsoup4, cssselect, feedfinder2, feedparser, jieba3k, lxml, nltk, Pillow, python-dateutil, PyYAML, requests, tinysegmenter, tldextract\n",
      "Required-by: \n",
      "Note: you may need to restart the kernel to use updated packages.\n"
     ]
    }
   ],
   "source": [
    "pip show newspaper3k"
   ]
  },
  {
   "cell_type": "code",
   "execution_count": 103,
   "metadata": {},
   "outputs": [
    {
     "name": "stdout",
     "output_type": "stream",
     "text": [
      "Collecting newspaper3k\n",
      "  Using cached newspaper3k-0.2.8-py3-none-any.whl.metadata (11 kB)\n",
      "Collecting beautifulsoup4>=4.4.1 (from newspaper3k)\n",
      "  Using cached beautifulsoup4-4.12.3-py3-none-any.whl.metadata (3.8 kB)\n",
      "Collecting Pillow>=3.3.0 (from newspaper3k)\n",
      "  Using cached pillow-10.4.0-cp312-cp312-manylinux_2_28_x86_64.whl.metadata (9.2 kB)\n",
      "Collecting PyYAML>=3.11 (from newspaper3k)\n",
      "  Using cached PyYAML-6.0.2-cp312-cp312-manylinux_2_17_x86_64.manylinux2014_x86_64.whl.metadata (2.1 kB)\n",
      "Collecting cssselect>=0.9.2 (from newspaper3k)\n",
      "  Using cached cssselect-1.2.0-py2.py3-none-any.whl.metadata (2.2 kB)\n",
      "Collecting lxml>=3.6.0 (from newspaper3k)\n",
      "  Using cached lxml-5.3.0-cp312-cp312-manylinux_2_28_x86_64.whl.metadata (3.8 kB)\n",
      "Collecting nltk>=3.2.1 (from newspaper3k)\n",
      "  Using cached nltk-3.9.1-py3-none-any.whl.metadata (2.9 kB)\n",
      "Collecting requests>=2.10.0 (from newspaper3k)\n",
      "  Using cached requests-2.32.3-py3-none-any.whl.metadata (4.6 kB)\n",
      "Collecting feedparser>=5.2.1 (from newspaper3k)\n",
      "  Using cached feedparser-6.0.11-py3-none-any.whl.metadata (2.4 kB)\n",
      "Collecting tldextract>=2.0.1 (from newspaper3k)\n",
      "  Using cached tldextract-5.1.2-py3-none-any.whl.metadata (11 kB)\n",
      "Collecting feedfinder2>=0.0.4 (from newspaper3k)\n",
      "  Using cached feedfinder2-0.0.4-py3-none-any.whl\n",
      "Collecting jieba3k>=0.35.1 (from newspaper3k)\n",
      "  Using cached jieba3k-0.35.1-py3-none-any.whl\n",
      "Collecting python-dateutil>=2.5.3 (from newspaper3k)\n",
      "  Using cached python_dateutil-2.9.0.post0-py2.py3-none-any.whl.metadata (8.4 kB)\n",
      "Collecting tinysegmenter==0.3 (from newspaper3k)\n",
      "  Using cached tinysegmenter-0.3-py3-none-any.whl\n",
      "Collecting soupsieve>1.2 (from beautifulsoup4>=4.4.1->newspaper3k)\n",
      "  Using cached soupsieve-2.6-py3-none-any.whl.metadata (4.6 kB)\n",
      "Collecting six (from feedfinder2>=0.0.4->newspaper3k)\n",
      "  Using cached six-1.16.0-py2.py3-none-any.whl.metadata (1.8 kB)\n",
      "Collecting sgmllib3k (from feedparser>=5.2.1->newspaper3k)\n",
      "  Using cached sgmllib3k-1.0.0-py3-none-any.whl\n",
      "Collecting click (from nltk>=3.2.1->newspaper3k)\n",
      "  Using cached click-8.1.7-py3-none-any.whl.metadata (3.0 kB)\n",
      "Collecting joblib (from nltk>=3.2.1->newspaper3k)\n",
      "  Using cached joblib-1.4.2-py3-none-any.whl.metadata (5.4 kB)\n",
      "Collecting regex>=2021.8.3 (from nltk>=3.2.1->newspaper3k)\n",
      "  Using cached regex-2024.7.24-cp312-cp312-manylinux_2_17_x86_64.manylinux2014_x86_64.whl.metadata (40 kB)\n",
      "Collecting tqdm (from nltk>=3.2.1->newspaper3k)\n",
      "  Using cached tqdm-4.66.5-py3-none-any.whl.metadata (57 kB)\n",
      "Collecting charset-normalizer<4,>=2 (from requests>=2.10.0->newspaper3k)\n",
      "  Using cached charset_normalizer-3.3.2-cp312-cp312-manylinux_2_17_x86_64.manylinux2014_x86_64.whl.metadata (33 kB)\n",
      "Collecting idna<4,>=2.5 (from requests>=2.10.0->newspaper3k)\n",
      "  Using cached idna-3.8-py3-none-any.whl.metadata (9.9 kB)\n",
      "Collecting urllib3<3,>=1.21.1 (from requests>=2.10.0->newspaper3k)\n",
      "  Using cached urllib3-2.2.2-py3-none-any.whl.metadata (6.4 kB)\n",
      "Collecting certifi>=2017.4.17 (from requests>=2.10.0->newspaper3k)\n",
      "  Using cached certifi-2024.8.30-py3-none-any.whl.metadata (2.2 kB)\n",
      "Collecting requests-file>=1.4 (from tldextract>=2.0.1->newspaper3k)\n",
      "  Using cached requests_file-2.1.0-py2.py3-none-any.whl.metadata (1.7 kB)\n",
      "Collecting filelock>=3.0.8 (from tldextract>=2.0.1->newspaper3k)\n",
      "  Using cached filelock-3.16.0-py3-none-any.whl.metadata (3.0 kB)\n",
      "Using cached newspaper3k-0.2.8-py3-none-any.whl (211 kB)\n",
      "Using cached beautifulsoup4-4.12.3-py3-none-any.whl (147 kB)\n",
      "Using cached cssselect-1.2.0-py2.py3-none-any.whl (18 kB)\n",
      "Using cached feedparser-6.0.11-py3-none-any.whl (81 kB)\n",
      "Using cached lxml-5.3.0-cp312-cp312-manylinux_2_28_x86_64.whl (4.9 MB)\n",
      "Using cached nltk-3.9.1-py3-none-any.whl (1.5 MB)\n",
      "Using cached pillow-10.4.0-cp312-cp312-manylinux_2_28_x86_64.whl (4.5 MB)\n",
      "Using cached python_dateutil-2.9.0.post0-py2.py3-none-any.whl (229 kB)\n",
      "Using cached PyYAML-6.0.2-cp312-cp312-manylinux_2_17_x86_64.manylinux2014_x86_64.whl (767 kB)\n",
      "Using cached requests-2.32.3-py3-none-any.whl (64 kB)\n",
      "Using cached tldextract-5.1.2-py3-none-any.whl (97 kB)\n",
      "Using cached certifi-2024.8.30-py3-none-any.whl (167 kB)\n",
      "Using cached charset_normalizer-3.3.2-cp312-cp312-manylinux_2_17_x86_64.manylinux2014_x86_64.whl (141 kB)\n",
      "Using cached filelock-3.16.0-py3-none-any.whl (16 kB)\n",
      "Using cached idna-3.8-py3-none-any.whl (66 kB)\n",
      "Using cached regex-2024.7.24-cp312-cp312-manylinux_2_17_x86_64.manylinux2014_x86_64.whl (790 kB)\n",
      "Using cached requests_file-2.1.0-py2.py3-none-any.whl (4.2 kB)\n",
      "Using cached six-1.16.0-py2.py3-none-any.whl (11 kB)\n",
      "Using cached soupsieve-2.6-py3-none-any.whl (36 kB)\n",
      "Using cached urllib3-2.2.2-py3-none-any.whl (121 kB)\n",
      "Using cached click-8.1.7-py3-none-any.whl (97 kB)\n",
      "Using cached joblib-1.4.2-py3-none-any.whl (301 kB)\n",
      "Using cached tqdm-4.66.5-py3-none-any.whl (78 kB)\n",
      "Installing collected packages: tinysegmenter, sgmllib3k, jieba3k, urllib3, tqdm, soupsieve, six, regex, PyYAML, Pillow, lxml, joblib, idna, filelock, feedparser, cssselect, click, charset-normalizer, certifi, requests, python-dateutil, nltk, beautifulsoup4, requests-file, feedfinder2, tldextract, newspaper3k\n",
      "  Attempting uninstall: tinysegmenter\n",
      "    Found existing installation: tinysegmenter 0.3\n",
      "    Uninstalling tinysegmenter-0.3:\n",
      "      Successfully uninstalled tinysegmenter-0.3\n",
      "  Attempting uninstall: sgmllib3k\n",
      "    Found existing installation: sgmllib3k 1.0.0\n",
      "    Uninstalling sgmllib3k-1.0.0:\n",
      "      Successfully uninstalled sgmllib3k-1.0.0\n",
      "  Attempting uninstall: jieba3k\n",
      "    Found existing installation: jieba3k 0.35.1\n",
      "    Uninstalling jieba3k-0.35.1:\n",
      "      Successfully uninstalled jieba3k-0.35.1\n",
      "  Attempting uninstall: urllib3\n",
      "    Found existing installation: urllib3 2.2.2\n",
      "    Uninstalling urllib3-2.2.2:\n",
      "      Successfully uninstalled urllib3-2.2.2\n",
      "  Attempting uninstall: tqdm\n",
      "    Found existing installation: tqdm 4.66.5\n",
      "    Uninstalling tqdm-4.66.5:\n",
      "      Successfully uninstalled tqdm-4.66.5\n",
      "  Attempting uninstall: soupsieve\n",
      "    Found existing installation: soupsieve 2.6\n",
      "    Uninstalling soupsieve-2.6:\n",
      "      Successfully uninstalled soupsieve-2.6\n",
      "  Attempting uninstall: six\n",
      "    Found existing installation: six 1.16.0\n",
      "    Uninstalling six-1.16.0:\n",
      "      Successfully uninstalled six-1.16.0\n",
      "  Attempting uninstall: regex\n",
      "    Found existing installation: regex 2024.7.24\n",
      "    Uninstalling regex-2024.7.24:\n",
      "      Successfully uninstalled regex-2024.7.24\n",
      "  Attempting uninstall: PyYAML\n",
      "    Found existing installation: PyYAML 6.0.2\n",
      "    Uninstalling PyYAML-6.0.2:\n",
      "      Successfully uninstalled PyYAML-6.0.2\n",
      "  Attempting uninstall: Pillow\n",
      "    Found existing installation: pillow 10.4.0\n",
      "    Uninstalling pillow-10.4.0:\n",
      "      Successfully uninstalled pillow-10.4.0\n",
      "  Attempting uninstall: lxml\n",
      "    Found existing installation: lxml 5.3.0\n",
      "    Uninstalling lxml-5.3.0:\n",
      "      Successfully uninstalled lxml-5.3.0\n",
      "  Attempting uninstall: joblib\n",
      "    Found existing installation: joblib 1.4.2\n",
      "    Uninstalling joblib-1.4.2:\n",
      "      Successfully uninstalled joblib-1.4.2\n",
      "  Attempting uninstall: idna\n",
      "    Found existing installation: idna 3.8\n",
      "    Uninstalling idna-3.8:\n",
      "      Successfully uninstalled idna-3.8\n",
      "  Attempting uninstall: filelock\n",
      "    Found existing installation: filelock 3.16.0\n",
      "    Uninstalling filelock-3.16.0:\n",
      "      Successfully uninstalled filelock-3.16.0\n",
      "  Attempting uninstall: feedparser\n",
      "    Found existing installation: feedparser 6.0.11\n",
      "    Uninstalling feedparser-6.0.11:\n",
      "      Successfully uninstalled feedparser-6.0.11\n",
      "  Attempting uninstall: cssselect\n",
      "    Found existing installation: cssselect 1.2.0\n",
      "    Uninstalling cssselect-1.2.0:\n",
      "      Successfully uninstalled cssselect-1.2.0\n",
      "  Attempting uninstall: click\n",
      "    Found existing installation: click 8.1.7\n",
      "    Uninstalling click-8.1.7:\n",
      "      Successfully uninstalled click-8.1.7\n",
      "  Attempting uninstall: charset-normalizer\n",
      "    Found existing installation: charset-normalizer 3.3.2\n",
      "    Uninstalling charset-normalizer-3.3.2:\n",
      "      Successfully uninstalled charset-normalizer-3.3.2\n",
      "  Attempting uninstall: certifi\n",
      "    Found existing installation: certifi 2024.8.30\n",
      "    Uninstalling certifi-2024.8.30:\n",
      "      Successfully uninstalled certifi-2024.8.30\n",
      "  Attempting uninstall: requests\n",
      "    Found existing installation: requests 2.32.3\n",
      "    Uninstalling requests-2.32.3:\n",
      "      Successfully uninstalled requests-2.32.3\n",
      "  Attempting uninstall: python-dateutil\n",
      "    Found existing installation: python-dateutil 2.9.0.post0\n",
      "    Uninstalling python-dateutil-2.9.0.post0:\n",
      "      Successfully uninstalled python-dateutil-2.9.0.post0\n",
      "  Attempting uninstall: nltk\n",
      "    Found existing installation: nltk 3.9.1\n",
      "    Uninstalling nltk-3.9.1:\n",
      "      Successfully uninstalled nltk-3.9.1\n",
      "  Attempting uninstall: beautifulsoup4\n",
      "    Found existing installation: beautifulsoup4 4.12.3\n",
      "    Uninstalling beautifulsoup4-4.12.3:\n",
      "      Successfully uninstalled beautifulsoup4-4.12.3\n",
      "  Attempting uninstall: requests-file\n",
      "    Found existing installation: requests-file 2.1.0\n",
      "    Uninstalling requests-file-2.1.0:\n",
      "      Successfully uninstalled requests-file-2.1.0\n",
      "  Attempting uninstall: feedfinder2\n",
      "    Found existing installation: feedfinder2 0.0.4\n",
      "    Uninstalling feedfinder2-0.0.4:\n",
      "      Successfully uninstalled feedfinder2-0.0.4\n",
      "  Attempting uninstall: tldextract\n",
      "    Found existing installation: tldextract 5.1.2\n",
      "    Uninstalling tldextract-5.1.2:\n",
      "      Successfully uninstalled tldextract-5.1.2\n",
      "  Attempting uninstall: newspaper3k\n",
      "    Found existing installation: newspaper3k 0.2.8\n",
      "    Uninstalling newspaper3k-0.2.8:\n",
      "      Successfully uninstalled newspaper3k-0.2.8\n",
      "Successfully installed Pillow-10.4.0 PyYAML-6.0.2 beautifulsoup4-4.12.3 certifi-2024.8.30 charset-normalizer-3.3.2 click-8.1.7 cssselect-1.2.0 feedfinder2-0.0.4 feedparser-6.0.11 filelock-3.16.0 idna-3.8 jieba3k-0.35.1 joblib-1.4.2 lxml-5.3.0 newspaper3k-0.2.8 nltk-3.9.1 python-dateutil-2.9.0.post0 regex-2024.7.24 requests-2.32.3 requests-file-2.1.0 sgmllib3k-1.0.0 six-1.16.0 soupsieve-2.6 tinysegmenter-0.3 tldextract-5.1.2 tqdm-4.66.5 urllib3-2.2.2\n",
      "Note: you may need to restart the kernel to use updated packages.\n"
     ]
    }
   ],
   "source": [
    "pip install newspaper3k --force-reinstall\n"
   ]
  },
  {
   "cell_type": "code",
   "execution_count": 104,
   "metadata": {},
   "outputs": [
    {
     "name": "stdout",
     "output_type": "stream",
     "text": [
      "Python 3.12.3\n"
     ]
    }
   ],
   "source": [
    "! python --version\n"
   ]
  },
  {
   "cell_type": "code",
   "execution_count": 105,
   "metadata": {},
   "outputs": [
    {
     "name": "stdout",
     "output_type": "stream",
     "text": [
      "/bin/bash: line 1: from: command not found\n"
     ]
    }
   ],
   "source": [
    "! from newspaper import Article\n"
   ]
  },
  {
   "cell_type": "code",
   "execution_count": 106,
   "metadata": {},
   "outputs": [
    {
     "name": "stdout",
     "output_type": "stream",
     "text": [
      "Requirement already satisfied: newspaper3k in /home/zachpeltz/nighthawk/zach_2025/venv/lib/python3.12/site-packages (0.2.8)\n",
      "Requirement already satisfied: beautifulsoup4>=4.4.1 in /home/zachpeltz/nighthawk/zach_2025/venv/lib/python3.12/site-packages (from newspaper3k) (4.12.3)\n",
      "Requirement already satisfied: Pillow>=3.3.0 in /home/zachpeltz/nighthawk/zach_2025/venv/lib/python3.12/site-packages (from newspaper3k) (10.4.0)\n",
      "Requirement already satisfied: PyYAML>=3.11 in /home/zachpeltz/nighthawk/zach_2025/venv/lib/python3.12/site-packages (from newspaper3k) (6.0.2)\n",
      "Requirement already satisfied: cssselect>=0.9.2 in /home/zachpeltz/nighthawk/zach_2025/venv/lib/python3.12/site-packages (from newspaper3k) (1.2.0)\n",
      "Requirement already satisfied: lxml>=3.6.0 in /home/zachpeltz/nighthawk/zach_2025/venv/lib/python3.12/site-packages (from newspaper3k) (5.3.0)\n",
      "Requirement already satisfied: nltk>=3.2.1 in /home/zachpeltz/nighthawk/zach_2025/venv/lib/python3.12/site-packages (from newspaper3k) (3.9.1)\n",
      "Requirement already satisfied: requests>=2.10.0 in /home/zachpeltz/nighthawk/zach_2025/venv/lib/python3.12/site-packages (from newspaper3k) (2.32.3)\n",
      "Requirement already satisfied: feedparser>=5.2.1 in /home/zachpeltz/nighthawk/zach_2025/venv/lib/python3.12/site-packages (from newspaper3k) (6.0.11)\n",
      "Requirement already satisfied: tldextract>=2.0.1 in /home/zachpeltz/nighthawk/zach_2025/venv/lib/python3.12/site-packages (from newspaper3k) (5.1.2)\n",
      "Requirement already satisfied: feedfinder2>=0.0.4 in /home/zachpeltz/nighthawk/zach_2025/venv/lib/python3.12/site-packages (from newspaper3k) (0.0.4)\n",
      "Requirement already satisfied: jieba3k>=0.35.1 in /home/zachpeltz/nighthawk/zach_2025/venv/lib/python3.12/site-packages (from newspaper3k) (0.35.1)\n",
      "Requirement already satisfied: python-dateutil>=2.5.3 in /home/zachpeltz/nighthawk/zach_2025/venv/lib/python3.12/site-packages (from newspaper3k) (2.9.0.post0)\n",
      "Requirement already satisfied: tinysegmenter==0.3 in /home/zachpeltz/nighthawk/zach_2025/venv/lib/python3.12/site-packages (from newspaper3k) (0.3)\n",
      "Requirement already satisfied: soupsieve>1.2 in /home/zachpeltz/nighthawk/zach_2025/venv/lib/python3.12/site-packages (from beautifulsoup4>=4.4.1->newspaper3k) (2.6)\n",
      "Requirement already satisfied: six in /home/zachpeltz/nighthawk/zach_2025/venv/lib/python3.12/site-packages (from feedfinder2>=0.0.4->newspaper3k) (1.16.0)\n",
      "Requirement already satisfied: sgmllib3k in /home/zachpeltz/nighthawk/zach_2025/venv/lib/python3.12/site-packages (from feedparser>=5.2.1->newspaper3k) (1.0.0)\n",
      "Requirement already satisfied: click in /home/zachpeltz/nighthawk/zach_2025/venv/lib/python3.12/site-packages (from nltk>=3.2.1->newspaper3k) (8.1.7)\n",
      "Requirement already satisfied: joblib in /home/zachpeltz/nighthawk/zach_2025/venv/lib/python3.12/site-packages (from nltk>=3.2.1->newspaper3k) (1.4.2)\n",
      "Requirement already satisfied: regex>=2021.8.3 in /home/zachpeltz/nighthawk/zach_2025/venv/lib/python3.12/site-packages (from nltk>=3.2.1->newspaper3k) (2024.7.24)\n",
      "Requirement already satisfied: tqdm in /home/zachpeltz/nighthawk/zach_2025/venv/lib/python3.12/site-packages (from nltk>=3.2.1->newspaper3k) (4.66.5)\n",
      "Requirement already satisfied: charset-normalizer<4,>=2 in /home/zachpeltz/nighthawk/zach_2025/venv/lib/python3.12/site-packages (from requests>=2.10.0->newspaper3k) (3.3.2)\n",
      "Requirement already satisfied: idna<4,>=2.5 in /home/zachpeltz/nighthawk/zach_2025/venv/lib/python3.12/site-packages (from requests>=2.10.0->newspaper3k) (3.8)\n",
      "Requirement already satisfied: urllib3<3,>=1.21.1 in /home/zachpeltz/nighthawk/zach_2025/venv/lib/python3.12/site-packages (from requests>=2.10.0->newspaper3k) (2.2.2)\n",
      "Requirement already satisfied: certifi>=2017.4.17 in /home/zachpeltz/nighthawk/zach_2025/venv/lib/python3.12/site-packages (from requests>=2.10.0->newspaper3k) (2024.8.30)\n",
      "Requirement already satisfied: requests-file>=1.4 in /home/zachpeltz/nighthawk/zach_2025/venv/lib/python3.12/site-packages (from tldextract>=2.0.1->newspaper3k) (2.1.0)\n",
      "Requirement already satisfied: filelock>=3.0.8 in /home/zachpeltz/nighthawk/zach_2025/venv/lib/python3.12/site-packages (from tldextract>=2.0.1->newspaper3k) (3.16.0)\n"
     ]
    }
   ],
   "source": [
    "! pip3 install newspaper3k"
   ]
  },
  {
   "cell_type": "code",
   "execution_count": 107,
   "metadata": {},
   "outputs": [
    {
     "name": "stdout",
     "output_type": "stream",
     "text": [
      "Requirement already satisfied: newspaper3k in /home/zachpeltz/nighthawk/zach_2025/venv/lib/python3.12/site-packages (0.2.8)\n",
      "Requirement already satisfied: beautifulsoup4>=4.4.1 in /home/zachpeltz/nighthawk/zach_2025/venv/lib/python3.12/site-packages (from newspaper3k) (4.12.3)\n",
      "Requirement already satisfied: Pillow>=3.3.0 in /home/zachpeltz/nighthawk/zach_2025/venv/lib/python3.12/site-packages (from newspaper3k) (10.4.0)\n",
      "Requirement already satisfied: PyYAML>=3.11 in /home/zachpeltz/nighthawk/zach_2025/venv/lib/python3.12/site-packages (from newspaper3k) (6.0.2)\n",
      "Requirement already satisfied: cssselect>=0.9.2 in /home/zachpeltz/nighthawk/zach_2025/venv/lib/python3.12/site-packages (from newspaper3k) (1.2.0)\n",
      "Requirement already satisfied: lxml>=3.6.0 in /home/zachpeltz/nighthawk/zach_2025/venv/lib/python3.12/site-packages (from newspaper3k) (5.3.0)\n",
      "Requirement already satisfied: nltk>=3.2.1 in /home/zachpeltz/nighthawk/zach_2025/venv/lib/python3.12/site-packages (from newspaper3k) (3.9.1)\n",
      "Requirement already satisfied: requests>=2.10.0 in /home/zachpeltz/nighthawk/zach_2025/venv/lib/python3.12/site-packages (from newspaper3k) (2.32.3)\n",
      "Requirement already satisfied: feedparser>=5.2.1 in /home/zachpeltz/nighthawk/zach_2025/venv/lib/python3.12/site-packages (from newspaper3k) (6.0.11)\n",
      "Requirement already satisfied: tldextract>=2.0.1 in /home/zachpeltz/nighthawk/zach_2025/venv/lib/python3.12/site-packages (from newspaper3k) (5.1.2)\n",
      "Requirement already satisfied: feedfinder2>=0.0.4 in /home/zachpeltz/nighthawk/zach_2025/venv/lib/python3.12/site-packages (from newspaper3k) (0.0.4)\n",
      "Requirement already satisfied: jieba3k>=0.35.1 in /home/zachpeltz/nighthawk/zach_2025/venv/lib/python3.12/site-packages (from newspaper3k) (0.35.1)\n",
      "Requirement already satisfied: python-dateutil>=2.5.3 in /home/zachpeltz/nighthawk/zach_2025/venv/lib/python3.12/site-packages (from newspaper3k) (2.9.0.post0)\n",
      "Requirement already satisfied: tinysegmenter==0.3 in /home/zachpeltz/nighthawk/zach_2025/venv/lib/python3.12/site-packages (from newspaper3k) (0.3)\n",
      "Requirement already satisfied: soupsieve>1.2 in /home/zachpeltz/nighthawk/zach_2025/venv/lib/python3.12/site-packages (from beautifulsoup4>=4.4.1->newspaper3k) (2.6)\n",
      "Requirement already satisfied: six in /home/zachpeltz/nighthawk/zach_2025/venv/lib/python3.12/site-packages (from feedfinder2>=0.0.4->newspaper3k) (1.16.0)\n",
      "Requirement already satisfied: sgmllib3k in /home/zachpeltz/nighthawk/zach_2025/venv/lib/python3.12/site-packages (from feedparser>=5.2.1->newspaper3k) (1.0.0)\n",
      "Requirement already satisfied: click in /home/zachpeltz/nighthawk/zach_2025/venv/lib/python3.12/site-packages (from nltk>=3.2.1->newspaper3k) (8.1.7)\n",
      "Requirement already satisfied: joblib in /home/zachpeltz/nighthawk/zach_2025/venv/lib/python3.12/site-packages (from nltk>=3.2.1->newspaper3k) (1.4.2)\n",
      "Requirement already satisfied: regex>=2021.8.3 in /home/zachpeltz/nighthawk/zach_2025/venv/lib/python3.12/site-packages (from nltk>=3.2.1->newspaper3k) (2024.7.24)\n",
      "Requirement already satisfied: tqdm in /home/zachpeltz/nighthawk/zach_2025/venv/lib/python3.12/site-packages (from nltk>=3.2.1->newspaper3k) (4.66.5)\n",
      "Requirement already satisfied: charset-normalizer<4,>=2 in /home/zachpeltz/nighthawk/zach_2025/venv/lib/python3.12/site-packages (from requests>=2.10.0->newspaper3k) (3.3.2)\n",
      "Requirement already satisfied: idna<4,>=2.5 in /home/zachpeltz/nighthawk/zach_2025/venv/lib/python3.12/site-packages (from requests>=2.10.0->newspaper3k) (3.8)\n",
      "Requirement already satisfied: urllib3<3,>=1.21.1 in /home/zachpeltz/nighthawk/zach_2025/venv/lib/python3.12/site-packages (from requests>=2.10.0->newspaper3k) (2.2.2)\n",
      "Requirement already satisfied: certifi>=2017.4.17 in /home/zachpeltz/nighthawk/zach_2025/venv/lib/python3.12/site-packages (from requests>=2.10.0->newspaper3k) (2024.8.30)\n",
      "Requirement already satisfied: requests-file>=1.4 in /home/zachpeltz/nighthawk/zach_2025/venv/lib/python3.12/site-packages (from tldextract>=2.0.1->newspaper3k) (2.1.0)\n",
      "Requirement already satisfied: filelock>=3.0.8 in /home/zachpeltz/nighthawk/zach_2025/venv/lib/python3.12/site-packages (from tldextract>=2.0.1->newspaper3k) (3.16.0)\n"
     ]
    }
   ],
   "source": [
    "!pip install newspaper3k"
   ]
  },
  {
   "cell_type": "code",
   "execution_count": 108,
   "metadata": {},
   "outputs": [
    {
     "name": "stdout",
     "output_type": "stream",
     "text": [
      "/bin/bash: line 1: from: command not found\n",
      "/bin/bash: line 1: from: command not found\n"
     ]
    }
   ],
   "source": [
    "! from newspaper import Article\n",
    "! from IPython.display import display, Markdown\n",
    "\n",
    "urls = [\"http://cnn.com/2023/03/29/entertainment/the-mandalorian-episode-5-recap/index.html\", \n",
    "        \"https://www.cnn.com/2023/06/09/entertainment/jurassic-park-anniversary/index.html\"]"
   ]
  },
  {
   "cell_type": "code",
   "execution_count": 109,
   "metadata": {},
   "outputs": [
    {
     "name": "stdout",
     "output_type": "stream",
     "text": [
      "/bin/bash: line 1: from: command not found\n",
      "/bin/bash: -c: line 1: syntax error near unexpected token `('\n",
      "/bin/bash: -c: line 1: ` article = Article(url)'\n",
      "/bin/bash: -c: line 2: syntax error: unexpected end of file\n",
      "/bin/bash: -c: line 2: syntax error: unexpected end of file\n"
     ]
    },
    {
     "data": {
      "text/markdown": [
       "### <built-in method title of str object at 0x7f8caf4b4fb0>"
      ],
      "text/plain": [
       "<IPython.core.display.Markdown object>"
      ]
     },
     "metadata": {},
     "output_type": "display_data"
    },
    {
     "name": "stdout",
     "output_type": "stream",
     "text": [
      "/bin/bash: -c: line 1: syntax error near unexpected token `Markdown'\n",
      "/bin/bash: -c: line 1: ` display(Markdown(article.text))  # Display article text'\n",
      "\n",
      "\n",
      "/bin/bash: -c: line 1: syntax error near unexpected token `('\n",
      "/bin/bash: -c: line 1: ` article = Article(url)'\n",
      "/bin/bash: -c: line 2: syntax error: unexpected end of file\n",
      "/bin/bash: -c: line 2: syntax error: unexpected end of file\n"
     ]
    },
    {
     "data": {
      "text/markdown": [
       "### <built-in method title of str object at 0x7f8caf4b4fb0>"
      ],
      "text/plain": [
       "<IPython.core.display.Markdown object>"
      ]
     },
     "metadata": {},
     "output_type": "display_data"
    },
    {
     "name": "stdout",
     "output_type": "stream",
     "text": [
      "/bin/bash: -c: line 1: syntax error near unexpected token `Markdown'\n",
      "/bin/bash: -c: line 1: ` display(Markdown(article.text))  # Display article text'\n",
      "\n",
      "\n"
     ]
    }
   ],
   "source": [
    "! from newspaper import Article\n",
    "from IPython.display import display, Markdown\n",
    "\n",
    "# List of URLs to parse\n",
    "urls = [\n",
    "    \"http://cnn.com/2023/03/29/entertainment/the-mandalorian-episode-5-recap/index.html\", \n",
    "    \"https://www.cnn.com/2023/06/09/entertainment/jurassic-park-anniversary/index.html\"\n",
    "]\n",
    "\n",
    "# Loop over URLs and extract articles\n",
    "for url in urls:\n",
    "    ! article = Article(url)\n",
    "    ! article.download()  # Download the article content\n",
    "    ! article.parse()     # Parse the article content\n",
    "    \n",
    "    # Display in Jupyter Notebook (Markdown format)\n",
    "    display(Markdown(f\"### {article.title}\"))  # Display article title\n",
    "    ! display(Markdown(article.text))  # Display article text\n",
    "    print(\"\\n\")  # Just for separating articles in the console output"
   ]
  },
  {
   "cell_type": "code",
   "execution_count": 110,
   "metadata": {},
   "outputs": [
    {
     "name": "stdout",
     "output_type": "stream",
     "text": [
      "Python (programming language)\n"
     ]
    },
    {
     "data": {
      "text/markdown": [
       "Python is a high-level, general-purpose programming language. Its design philosophy emphasizes code readability with the use of significant indentation.\n",
       "Python is dynamically typed and garbage-collected. It supports multiple programming paradigms, including structured (particularly procedural), object-oriented and functional programming. It is often described as a \"batteries included\" language due to its comprehensive standard library.\n",
       "Guido van Rossum began working on Python in the late 1980s as a successor to the ABC programming language and first released it in 1991 as Python 0.9.0. Python 2.0 was released in 2000. Python 3.0, released in 2008, was a major revision not completely backward-compatible with earlier versions. Python 2.7.18, released in 2020, was the last release of Python 2.\n",
       "Python consistently ranks as one of the most popular programming languages, and has gained widespread use in the machine learning community.\n",
       "\n"
      ],
      "text/plain": [
       "<IPython.core.display.Markdown object>"
      ]
     },
     "metadata": {},
     "output_type": "display_data"
    },
    {
     "name": "stdout",
     "output_type": "stream",
     "text": [
      "JavaScript\n"
     ]
    },
    {
     "data": {
      "text/markdown": [
       "JavaScript (), often abbreviated as JS, is a programming language and core technology of the Web, alongside HTML and CSS. 99% of websites use JavaScript on the client side for webpage behavior.\n",
       "Web browsers have a dedicated JavaScript engine that executes the client code. These engines are also utilized in some servers and a variety of apps. The most popular runtime system for non-browser usage is Node.js.\n",
       "JavaScript is a high-level, often just-in-time compiled language that conforms to the ECMAScript standard. It has dynamic typing, prototype-based object-orientation, and first-class functions. It is multi-paradigm, supporting event-driven, functional, and imperative programming styles. It has application programming interfaces (APIs) for working with text, dates, regular expressions, standard data structures, and the Document Object Model (DOM).\n",
       "The ECMAScript standard does not include any input/output (I/O), such as networking, storage, or graphics facilities. In practice, the web browser or other runtime system provides JavaScript APIs for I/O.\n",
       "Although Java and JavaScript are similar in name, syntax, and respective standard libraries, the two languages are distinct and differ greatly in design."
      ],
      "text/plain": [
       "<IPython.core.display.Markdown object>"
      ]
     },
     "metadata": {},
     "output_type": "display_data"
    }
   ],
   "source": [
    "import wikipedia \n",
    "from IPython.display import display, Markdown # add for Jupyter\n",
    "\n",
    "terms = [\"Python (programming language)\", \"JavaScript\"]\n",
    "for term in terms:\n",
    "    # Search for a page \n",
    "    result = wikipedia.search(term)\n",
    "    # Get the summary of the first result\n",
    "    summary = wikipedia.summary(result[0])\n",
    "    print(term) \n",
    "    # print(summary) # console display\n",
    "    display(Markdown(summary)) # Jupyter display"
   ]
  },
  {
   "cell_type": "code",
   "execution_count": 111,
   "metadata": {},
   "outputs": [
    {
     "name": "stdout",
     "output_type": "stream",
     "text": [
      "/bin/bash: line 1: from: command not found\n"
     ]
    },
    {
     "name": "stdout",
     "output_type": "stream",
     "text": [
      "/bin/bash: -c: line 1: syntax error near unexpected token `inspect.getsource'\n",
      "/bin/bash: -c: line 1: ` print(inspect.getsource(Article))'\n"
     ]
    }
   ],
   "source": [
    "import inspect \n",
    "! from newspaper import Article\n",
    "\n",
    "# inspect newspaper Article function\n",
    "! print(inspect.getsource(Article))"
   ]
  },
  {
   "cell_type": "code",
   "execution_count": 112,
   "metadata": {},
   "outputs": [
    {
     "name": "stdout",
     "output_type": "stream",
     "text": [
      "/bin/bash: -c: line 1: syntax error near unexpected token `('\n",
      "/bin/bash: -c: line 1: ` def mean(scores: Scores, method: int = 1) -> float:'\n"
     ]
    }
   ],
   "source": [
    "import sys\n",
    "from typing import Union\n",
    "\n",
    "# Define types for mean function, trying to analyze input possibilities\n",
    "Number = Union[int, float]  # Number can be either int or float type\n",
    "Numbers = list[Number] # Numbers is a list of Number types\n",
    "Scores = Union[Number, Numbers] # Scores can be single or multiple \n",
    "\n",
    "! def mean(scores: Scores, method: int = 1) -> float:"
   ]
  },
  {
   "cell_type": "code",
   "execution_count": 113,
   "metadata": {},
   "outputs": [
    {
     "name": "stdout",
     "output_type": "stream",
     "text": [
      "/bin/bash: -c: line 1: syntax error near unexpected token `('\n",
      "/bin/bash: -c: line 1: `    def average(scores):'\n",
      "/bin/bash: line 1: Calculate the average of a list of scores using a Python for loop with rounding.: command not found\n",
      "sum: '=': No such file or directory\n",
      "sum: 0: No such file or directory\n",
      "/bin/bash: line 1: len: command not found\n",
      "/bin/bash: -c: line 2: syntax error: unexpected end of file\n",
      "/bin/bash: -c: line 1: syntax error near unexpected token `score,'\n",
      "/bin/bash: -c: line 1: `            if isinstance(score, Number):'\n",
      "sum: '+=': No such file or directory\n",
      "sum: score: No such file or directory\n",
      "/bin/bash: line 1: len: command not found\n",
      "/bin/bash: line 1: else:: command not found\n",
      "/bin/bash: -c: line 1: syntax error near unexpected token `\"Bad data: \"'\n",
      "/bin/bash: -c: line 1: `              print(\"Bad data: \" + str(score) + \" in \" + str(scores))'\n",
      "/bin/bash: -c: line 2: syntax error: unexpected end of file\n",
      "/bin/bash: line 1: return: sum: numeric argument required\n",
      "/bin/bash: line 1: return: can only `return' from a function or sourced script\n",
      "/bin/bash: -c: line 1: syntax error near unexpected token `('\n",
      "/bin/bash: -c: line 1: `     def average2(scores):'\n",
      "/bin/bash: line 1: Calculate the average of a list of scores using the built-in sum() function with rounding.: command not found\n",
      "/bin/bash: -c: line 1: syntax error near unexpected token `('\n",
      "/bin/bash: -c: line 1: `      return sum(scores) / len(scores)'\n",
      "/bin/bash: -c: line 1: syntax error near unexpected token `scores,'\n",
      "/bin/bash: -c: line 1: `   if isinstance(scores, list):'\n",
      "/bin/bash: -c: line 2: syntax error: unexpected end of file\n",
      "/bin/bash: -c: line 1: syntax error near unexpected token `('\n",
      "/bin/bash: -c: line 1: `           result = average(scores)'\n",
      "/bin/bash: line 1: else:: command not found\n",
      "/bin/bash: -c: line 1: syntax error near unexpected token `('\n",
      "/bin/bash: -c: line 1: `          result = average2(scores)'\n",
      "/bin/bash: -c: line 1: syntax error near unexpected token `('\n",
      "/bin/bash: -c: line 1: `       return round(result + 0.005, 2)'\n",
      "/bin/bash: line 1: return: scores: numeric argument required\n",
      "/bin/bash: line 1: return: can only `return' from a function or sourced script\n",
      "/bin/bash: line 1: singleScore: command not found\n",
      "/bin/bash: -c: line 1: syntax error near unexpected token `\"Print test data: \"'\n",
      "/bin/bash: -c: line 1: ` print(\"Print test data: \" + str(singleScore))  # concat data for single line'\n",
      "/bin/bash: -c: line 1: syntax error near unexpected token `\"Mean of single number: \"'\n",
      "/bin/bash: -c: line 1: ` print(\"Mean of single number: \" + str(mean(singleScore)))'\n",
      "/bin/bash: -c: line 2: syntax error: unexpected end of file\n",
      "/bin/bash: line 1: testScores: command not found\n",
      "/bin/bash: -c: line 1: syntax error near unexpected token `\"Print test data: \"'\n",
      "/bin/bash: -c: line 1: ` print(\"Print test data: \" + str(testScores))'\n",
      "/bin/bash: -c: line 1: syntax error near unexpected token `\"Average score, loop method: \"'\n",
      "/bin/bash: -c: line 1: ` print(\"Average score, loop method: \" + str(mean(testScores)))'\n",
      "/bin/bash: -c: line 1: syntax error near unexpected token `\"Average score, function method: \"'\n",
      "/bin/bash: -c: line 1: ` print(\"Average score, function method: \" +  str(mean(testScores, 2)))'\n",
      "/bin/bash: -c: line 2: syntax error: unexpected end of file\n",
      "/bin/bash: line 1: badData: command not found\n",
      "/bin/bash: -c: line 1: syntax error near unexpected token `\"Print test data: \"'\n",
      "/bin/bash: -c: line 1: ` print(\"Print test data: \" + str(badData))'\n",
      "/bin/bash: -c: line 1: syntax error near unexpected token `\"Mean with bad data: \"'\n",
      "/bin/bash: -c: line 1: ` print(\"Mean with bad data: \" + str(mean(badData)))'\n"
     ]
    }
   ],
   "source": [
    " \"\"\"\n",
    "    Calculate the mean of a list of scores.\n",
    "    \n",
    "    Average and Average2 are hidden functions performing mean algorithm\n",
    "\n",
    "    If a single score is provided in scores, it is returned as the mean.\n",
    "    If a list of scores is provided, the average is calculated and returned.\n",
    "    \"\"\"\n",
    "    \n",
    "!    def average(scores): \n",
    "!        \"\"\"Calculate the average of a list of scores using a Python for loop with rounding.\"\"\"\n",
    "!       sum = 0\n",
    "!     len = 0\n",
    "!      for score in scores:\n",
    "!            if isinstance(score, Number):\n",
    "!                sum += score\n",
    "!               len += 1\n",
    "!           else:\n",
    "!              print(\"Bad data: \" + str(score) + \" in \" + str(scores))\n",
    "!              sys.exit()\n",
    "!       return sum / len\n",
    "    \n",
    "!     def average2(scores):\n",
    "!        \"\"\"Calculate the average of a list of scores using the built-in sum() function with rounding.\"\"\"\n",
    "!      return sum(scores) / len(scores)\n",
    "\n",
    "!  # test to see if scores is  a list of numbers\n",
    "!   if isinstance(scores, list):\n",
    "!       if method == 1:  \n",
    "!           # long method\n",
    "!           result = average(scores)\n",
    "!       else:\n",
    "!          # built in method\n",
    "!          result = average2(scores)\n",
    "!       return round(result + 0.005, 2)\n",
    "    \n",
    "!   return scores \n",
    "! # case where scores is a single valu\n",
    "\n",
    "! # try with one number\n",
    "! singleScore = 100\n",
    "! print(\"Print test data: \" + str(singleScore))  # concat data for single line\n",
    "! print(\"Mean of single number: \" + str(mean(singleScore)))\n",
    "\n",
    "! print()\n",
    "\n",
    "! # define a list of numbers\n",
    "! testScores = [90.5, 100, 85.4, 88]\n",
    "! print(\"Print test data: \" + str(testScores))\n",
    "! print(\"Average score, loop method: \" + str(mean(testScores)))\n",
    "! print(\"Average score, function method: \" +  str(mean(testScores, 2)))\n",
    "\n",
    "! print()\n",
    "\n",
    "! badData = [100, \"NaN\", 90]\n",
    "! print(\"Print test data: \" + str(badData))\n",
    "! print(\"Mean with bad data: \" + str(mean(badData)))\n"
   ]
  }
 ],
 "metadata": {
  "kernelspec": {
   "display_name": "venv",
   "language": "python",
   "name": "python3"
  },
  "language_info": {
   "codemirror_mode": {
    "name": "ipython",
    "version": 3
   },
   "file_extension": ".py",
   "mimetype": "text/x-python",
   "name": "python",
   "nbconvert_exporter": "python",
   "pygments_lexer": "ipython3",
   "version": "3.12.3"
  }
 },
 "nbformat": 4,
 "nbformat_minor": 2
}
