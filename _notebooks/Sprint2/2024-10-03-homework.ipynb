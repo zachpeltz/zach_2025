{
 "cells": [
  {
   "cell_type": "markdown",
   "metadata": {},
   "source": [
    "---\n",
    "layout: post\n",
    "title: Homeworks and Popcorn Hacks for Lesson 3.8\n",
    "description: All homeworks for Lessons\n",
    "courses: { csp: {week: 1} }\n",
    "comments: true\n",
    "sticky_rank: 1\n",
    "---"
   ]
  },
  {
   "cell_type": "markdown",
   "metadata": {},
   "source": [
    "#### 3.8 Popcorn Hacks and Homework"
   ]
  },
  {
   "cell_type": "markdown",
   "metadata": {},
   "source": [
    "#### Popcorn Hack 1"
   ]
  },
  {
   "cell_type": "code",
   "execution_count": 1,
   "metadata": {
    "vscode": {
     "languageId": "javascript"
    }
   },
   "outputs": [
    {
     "data": {
      "application/javascript": "for (let i = 1; i < 10; i++) {\n    console.log(i);\n}\n",
      "text/plain": [
       "<IPython.core.display.Javascript object>"
      ]
     },
     "metadata": {},
     "output_type": "display_data"
    }
   ],
   "source": [
    "%%javascript\n",
    "for (let i = 1; i < 10; i++) {\n",
    "    console.log(i);\n",
    "}"
   ]
  },
  {
   "cell_type": "markdown",
   "metadata": {},
   "source": [
    "#### Popcorn Hack 2"
   ]
  },
  {
   "cell_type": "code",
   "execution_count": 3,
   "metadata": {},
   "outputs": [
    {
     "name": "stdout",
     "output_type": "stream",
     "text": [
      "baseball\n",
      "soccer\n",
      "basketball\n"
     ]
    }
   ],
   "source": [
    "sports = ['baseball', 'soccer', 'basketball']\n",
    "\n",
    "for sport in sports:\n",
    "    print(sport)"
   ]
  },
  {
   "cell_type": "markdown",
   "metadata": {},
   "source": [
    "#### Popcorn Hack 3"
   ]
  },
  {
   "cell_type": "code",
   "execution_count": 6,
   "metadata": {},
   "outputs": [
    {
     "name": "stdout",
     "output_type": "stream",
     "text": [
      "Flipped: tails\n",
      "Landed on tails!\n"
     ]
    }
   ],
   "source": [
    "import random\n",
    "\n",
    "flip = \"\"\n",
    "\n",
    "while flip != \"tails\":\n",
    "    flip = random.choice([\"heads\", \"tails\"])\n",
    "    print(f\"Flipped: {flip}\")\n",
    "\n",
    "print(\"Landed on tails!\")"
   ]
  },
  {
   "cell_type": "markdown",
   "metadata": {},
   "source": [
    "#### Popcorn Hack 4"
   ]
  },
  {
   "cell_type": "code",
   "execution_count": 69,
   "metadata": {
    "vscode": {
     "languageId": "javascript"
    }
   },
   "outputs": [
    {
     "name": "stdout",
     "output_type": "stream",
     "text": [
      "4\n",
      "10\n",
      "16\n",
      "22\n",
      "28\n",
      "34\n",
      "40\n"
     ]
    }
   ],
   "source": [
    "number = 1\n",
    "\n",
    "while number <= 40:\n",
    "    if number % 2 == 0:\n",
    "        print(number)\n",
    "    number += 3"
   ]
  },
  {
   "cell_type": "markdown",
   "metadata": {},
   "source": [
    "#### Popcorn Hack 5"
   ]
  },
  {
   "cell_type": "code",
   "execution_count": 72,
   "metadata": {},
   "outputs": [
    {
     "name": "stdout",
     "output_type": "stream",
     "text": [
      "Your To-Do List:\n",
      "1. sleep\n",
      "2. eat\n",
      "3. shower\n",
      "4. exercise\n",
      "5. wake up\n"
     ]
    }
   ],
   "source": [
    "# List of tasks\n",
    "tasks = [\n",
    "    \"sleep\",\n",
    "    \"eat\",\n",
    "    \"shower\",\n",
    "    \"exercise\",\n",
    "    \"wake up\"\n",
    "]\n",
    "\n",
    "# Function to display tasks with indices\n",
    "def display_tasks():\n",
    "    print(\"Your To-Do List:\")\n",
    "    for index in range(len(tasks)):\n",
    "        print(f\"{index + 1}. {tasks[index]}\")  # Display task with its index\n",
    "\n",
    "# Call the function\n",
    "display_tasks()"
   ]
  },
  {
   "cell_type": "markdown",
   "metadata": {},
   "source": [
    "#### Popcorn Hack 6"
   ]
  },
  {
   "cell_type": "code",
   "execution_count": 2,
   "metadata": {
    "vscode": {
     "languageId": "javascript"
    }
   },
   "outputs": [
    {
     "data": {
      "application/javascript": "const tasks = [\n    \"Do your hw\",\n    \"Walk the dog\",\n    \"Feed the fish\",\n    \"Ride your bike\",\n    \"Do the laundry\"\n];\n\nfunction displayTasks() {\n    console.log(\"Your To-Do List:\");\n    for (let index = 0; index < tasks.length; index++) {\n        console.log(`${index + 1}. ${tasks[index]}`); \n    }\n}\n\ndisplayTasks();\n",
      "text/plain": [
       "<IPython.core.display.Javascript object>"
      ]
     },
     "metadata": {},
     "output_type": "display_data"
    }
   ],
   "source": [
    "%%javascript\n",
    "const tasks = [\n",
    "    \"Do your hw\",\n",
    "    \"Walk the dog\",\n",
    "    \"Feed the fish\",\n",
    "    \"Ride your bike\",\n",
    "    \"Do the laundry\"\n",
    "];\n",
    "\n",
    "function displayTasks() {\n",
    "    console.log(\"Your To-Do List:\");\n",
    "    for (let index = 0; index < tasks.length; index++) {\n",
    "        console.log(`${index + 1}. ${tasks[index]}`); \n",
    "    }\n",
    "}\n",
    "\n",
    "displayTasks();"
   ]
  },
  {
   "cell_type": "markdown",
   "metadata": {},
   "source": [
    "#### Popcorn Hack 7"
   ]
  },
  {
   "cell_type": "code",
   "execution_count": 3,
   "metadata": {
    "vscode": {
     "languageId": "javascript"
    }
   },
   "outputs": [
    {
     "data": {
      "application/javascript": "for (let i = 0; i < 20; i++)\n  for (let i = 0; i < 20; i++) {\n    if (i === 5) {\n        break;\n    }\n    console.log(i);\n}\n",
      "text/plain": [
       "<IPython.core.display.Javascript object>"
      ]
     },
     "metadata": {},
     "output_type": "display_data"
    }
   ],
   "source": [
    "%%javascript\n",
    "for (let i = 0; i < 20; i++)\n",
    "  for (let i = 0; i < 20; i++) {\n",
    "    if (i === 5) {\n",
    "        break;\n",
    "    }\n",
    "    console.log(i);\n",
    "}"
   ]
  },
  {
   "cell_type": "markdown",
   "metadata": {},
   "source": [
    "#### Popcorn Hack 8"
   ]
  },
  {
   "cell_type": "code",
   "execution_count": 4,
   "metadata": {
    "vscode": {
     "languageId": "javascript"
    }
   },
   "outputs": [
    {
     "data": {
      "application/javascript": "\nfor (let i = 0; i < 20; i++) {\n  if (i === 10) {\n    continue; \n  }\n  console.log(i); \n}\n",
      "text/plain": [
       "<IPython.core.display.Javascript object>"
      ]
     },
     "metadata": {},
     "output_type": "display_data"
    }
   ],
   "source": [
    "%%javascript\n",
    "\n",
    "for (let i = 0; i < 20; i++) {\n",
    "  if (i === 10) {\n",
    "    continue; \n",
    "  }\n",
    "  console.log(i); \n",
    "}"
   ]
  },
  {
   "cell_type": "markdown",
   "metadata": {},
   "source": [
    "#### Homework 3-8-1"
   ]
  },
  {
   "cell_type": "code",
   "execution_count": 7,
   "metadata": {},
   "outputs": [
    {
     "name": "stdout",
     "output_type": "stream",
     "text": [
      "name Zach\n",
      "age 16\n",
      "Zach\n",
      "16\n",
      "name Zach\n",
      "age 16\n"
     ]
    }
   ],
   "source": [
    "person = {'name': 'Zach', 'age': 16}\n",
    "\n",
    "# Looping through keys\n",
    "for key in person:\n",
    "    print(key, person[key])\n",
    "\n",
    "# Looping through values\n",
    "for value in person.values():\n",
    "    print(value)\n",
    "\n",
    "# Looping through keys and values\n",
    "for key, value in person.items():\n",
    "    print(key, value)"
   ]
  },
  {
   "cell_type": "markdown",
   "metadata": {},
   "source": [
    "#### Homework 3-8-2"
   ]
  },
  {
   "cell_type": "code",
   "execution_count": 91,
   "metadata": {
    "vscode": {
     "languageId": "javascript"
    }
   },
   "outputs": [
    {
     "name": "stdout",
     "output_type": "stream",
     "text": [
      "FizzBuzz\n",
      "1\n",
      "2\n",
      "Buzz\n",
      "4\n",
      "Fizz\n",
      "Buzz\n",
      "7\n",
      "8\n",
      "Buzz\n",
      "Fizz\n",
      "11\n",
      "Buzz\n",
      "13\n",
      "14\n",
      "FizzBuzz\n",
      "16\n",
      "17\n",
      "Buzz\n",
      "19\n",
      "Fizz\n",
      "Buzz\n",
      "22\n",
      "23\n",
      "Buzz\n",
      "Fizz\n",
      "26\n",
      "Buzz\n",
      "28\n",
      "29\n",
      "FizzBuzz\n",
      "31\n",
      "32\n",
      "Buzz\n",
      "34\n",
      "Fizz\n",
      "Buzz\n",
      "37\n",
      "38\n",
      "Buzz\n",
      "Fizz\n",
      "41\n",
      "Buzz\n",
      "43\n",
      "44\n",
      "FizzBuzz\n",
      "46\n",
      "47\n",
      "Buzz\n",
      "49\n"
     ]
    }
   ],
   "source": [
    "for i in range(50):\n",
    "    if i % 15 == 0:\n",
    "        print(\"FizzBuzz\")\n",
    "    elif i % 5 == 0:\n",
    "        print(\"Fizz\")\n",
    "    elif i % 3 == 0:\n",
    "        print(\"Buzz\")\n",
    "    else:\n",
    "        print(i)"
   ]
  },
  {
   "cell_type": "code",
   "execution_count": 5,
   "metadata": {
    "vscode": {
     "languageId": "javascript"
    }
   },
   "outputs": [
    {
     "data": {
      "application/javascript": "let correctUsername = \"user123\";\nlet correctPassword = \"pass123\";\nlet attempts = 3;\nlet loggedIn = false;\n\ndo {\n    let username = prompt(\"Enter username:\");\n    let password = prompt(\"Enter password:\");\n    \n    if (username === correctUsername && password === correctPassword) {\n        console.log(\"Login successful!\");\n        loggedIn = true;\n        break;\n    } else {\n        attempts--;\n        if (attempts > 0) {\n            console.log(`Incorrect credentials. You have ${attempts} attempts left.`);\n        } else {\n            console.log(\"Account locked due to too many failed attempts.\");\n        }\n    }\n} while (attempts > 0 && !loggedIn);\n",
      "text/plain": [
       "<IPython.core.display.Javascript object>"
      ]
     },
     "metadata": {},
     "output_type": "display_data"
    }
   ],
   "source": [
    "%%javascript\n",
    "let correctUsername = \"user123\";\n",
    "let correctPassword = \"pass123\";\n",
    "let attempts = 3;\n",
    "let loggedIn = false;\n",
    "\n",
    "do {\n",
    "    let username = prompt(\"Enter username:\");\n",
    "    let password = prompt(\"Enter password:\");\n",
    "    \n",
    "    if (username === correctUsername && password === correctPassword) {\n",
    "        console.log(\"Login successful!\");\n",
    "        loggedIn = true;\n",
    "        break;\n",
    "    } else {\n",
    "        attempts--;\n",
    "        if (attempts > 0) {\n",
    "            console.log(`Incorrect credentials. You have ${attempts} attempts left.`);\n",
    "        } else {\n",
    "            console.log(\"Account locked due to too many failed attempts.\");\n",
    "        }\n",
    "    }\n",
    "} while (attempts > 0 && !loggedIn);"
   ]
  },
  {
   "cell_type": "markdown",
   "metadata": {},
   "source": [
    "#### Homework 3-8-3"
   ]
  },
  {
   "cell_type": "code",
   "execution_count": 55,
   "metadata": {},
   "outputs": [
    {
     "name": "stdout",
     "output_type": "stream",
     "text": [
      "My to do list:\n",
      "1. Go touch grass\n",
      "2. Do the dishes\n",
      "3. Take out the trash\n",
      "4. Eat dinner\n",
      "5. Go to the gym\n",
      "6. Sleep\n"
     ]
    }
   ],
   "source": [
    "tasks = [\n",
    "    \"Go touch grass\",\n",
    "    \"Do the dishes\",\n",
    "    \"Take out the trash\",\n",
    "    \"Eat dinner\",\n",
    "    \"Go to the gym\",\n",
    "    \"Sleep\"\n",
    "]\n",
    "\n",
    "# Function to display tasks with indices\n",
    "def display_tasks():\n",
    "    print(\"My to do list:\")\n",
    "    for index in range(len(tasks)):\n",
    "        print(f\"{index + 1}. {tasks[index]}\")  # Display task with its index\n",
    "\n",
    "# Call the function\n",
    "display_tasks()"
   ]
  },
  {
   "cell_type": "markdown",
   "metadata": {},
   "source": [
    "#### Homework 3-8-4"
   ]
  },
  {
   "cell_type": "code",
   "execution_count": 6,
   "metadata": {},
   "outputs": [
    {
     "name": "stdout",
     "output_type": "stream",
     "text": [
      "This number is... 0\n",
      "This number is... 2\n",
      "This number is... 4\n",
      "This number is... 6\n",
      "This number is... 8\n",
      "This number is... 10\n",
      "This number is... 12\n",
      "This number is... 14\n",
      "This number is... 16\n",
      "This number is... 18\n"
     ]
    }
   ],
   "source": [
    "for num in range(20):\n",
    "    if num % 2 == 1:\n",
    "        continue\n",
    "    print(f\"This number is... {num}\")\n"
   ]
  }
 ],
 "metadata": {
  "kernelspec": {
   "display_name": "venv",
   "language": "python",
   "name": "python3"
  },
  "language_info": {
   "codemirror_mode": {
    "name": "ipython",
    "version": 3
   },
   "file_extension": ".py",
   "mimetype": "text/x-python",
   "name": "python",
   "nbconvert_exporter": "python",
   "pygments_lexer": "ipython3",
   "version": "3.12.3"
  }
 },
 "nbformat": 4,
 "nbformat_minor": 2
}
