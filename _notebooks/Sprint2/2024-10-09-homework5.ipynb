{
 "cells": [
  {
   "cell_type": "markdown",
   "metadata": {},
   "source": [
    "---\n",
    "layout: post\n",
    "title: Homeworks and Popcorn Hacks for Lesson 3.6/3.7\n",
    "description: All homeworks for Lessons\n",
    "courses: { csp: {week: 1} }\n",
    "comments: true\n",
    "sticky_rank: 1\n",
    "type: issues\n",
    "---"
   ]
  },
  {
   "cell_type": "markdown",
   "metadata": {},
   "source": [
    "### 3.6 and 3.7 Popcorn Hacks"
   ]
  },
  {
   "cell_type": "markdown",
   "metadata": {},
   "source": [
    "##### Popcorn Hack 1"
   ]
  },
  {
   "cell_type": "code",
   "execution_count": 2,
   "metadata": {},
   "outputs": [
    {
     "name": "stdout",
     "output_type": "stream",
     "text": [
      "Even\n",
      "Odd\n",
      "Even\n",
      "Odd\n"
     ]
    }
   ],
   "source": [
    "def is_even_or_odd(number):\n",
    "    if number % 2 == 0:\n",
    "        return \"Even\"\n",
    "    else:\n",
    "        return \"Odd\"\n",
    "\n",
    "print(is_even_or_odd(4))  \n",
    "print(is_even_or_odd(7))  \n",
    "print(is_even_or_odd(0))  \n",
    "print(is_even_or_odd(-3)) "
   ]
  },
  {
   "cell_type": "markdown",
   "metadata": {},
   "source": [
    "##### Popcorn Hack 2"
   ]
  },
  {
   "cell_type": "code",
   "execution_count": 6,
   "metadata": {},
   "outputs": [
    {
     "name": "stdout",
     "output_type": "stream",
     "text": [
      "Odd\n",
      "Even\n",
      "Invalid input: Please provide 0 or 1.\n"
     ]
    }
   ],
   "source": [
    "def is_even_or_odd(boolean_value):\n",
    "    if boolean_value == 1:  \n",
    "        return \"Odd\"\n",
    "    elif boolean_value == 0: \n",
    "        return \"Even\"\n",
    "    else:\n",
    "        return \"Invalid input: Please provide 0 or 1.\"\n",
    "\n",
    "print(is_even_or_odd(1))  \n",
    "print(is_even_or_odd(0)) \n",
    "print(is_even_or_odd(2))  \n"
   ]
  },
  {
   "cell_type": "markdown",
   "metadata": {},
   "source": [
    "##### Popcorn Hack 3"
   ]
  },
  {
   "cell_type": "code",
   "execution_count": 9,
   "metadata": {},
   "outputs": [
    {
     "name": "stdout",
     "output_type": "stream",
     "text": [
      "Nolan is a student.\n"
     ]
    }
   ],
   "source": [
    "person = {\n",
    "    \"name\": \"Nolan\",\n",
    "    \"age\": 24,\n",
    "    \"profession\": \"Student\",\n",
    "    \"is_student\": True\n",
    "}\n",
    "\n",
    "def check_student_status(person):\n",
    "    if person[\"is_student\"]:\n",
    "        return f\"{person['name']} is a student.\"\n",
    "    else:\n",
    "        return f\"{person['name']} is not a student.\"\n",
    "\n",
    "print(check_student_status(person))  "
   ]
  },
  {
   "cell_type": "markdown",
   "metadata": {},
   "source": [
    "##### Popcorn Hack 4"
   ]
  },
  {
   "cell_type": "code",
   "execution_count": 13,
   "metadata": {},
   "outputs": [
    {
     "name": "stdout",
     "output_type": "stream",
     "text": [
      "You ordered a small popcorn. Enjoy!\n",
      "You ordered a medium popcorn. Now go.\n",
      "You ordered a large popcorn. Get ready for a big treat big boy!\n",
      "Invalid size.\n"
     ]
    }
   ],
   "source": [
    "def popcorn_size_message(size):\n",
    "    if size == \"small\":\n",
    "        return \"You ordered a small popcorn. Enjoy!\"\n",
    "    elif size == \"medium\":\n",
    "        return \"You ordered a medium popcorn. Now go.\"\n",
    "    elif size == \"large\":\n",
    "        return \"You ordered a large popcorn. Get ready for a big treat big boy!\"\n",
    "    else:\n",
    "        return \"Invalid size.\"\n",
    "print(popcorn_size_message(\"small\"))  \n",
    "print(popcorn_size_message(\"medium\")) \n",
    "print(popcorn_size_message(\"large\"))  \n",
    "print(popcorn_size_message(\"extra large\")) "
   ]
  },
  {
   "cell_type": "markdown",
   "metadata": {},
   "source": [
    "##### Popcorn Hack 5"
   ]
  },
  {
   "cell_type": "code",
   "execution_count": 19,
   "metadata": {
    "vscode": {
     "languageId": "javascript"
    }
   },
   "outputs": [
    {
     "data": {
      "application/javascript": "function suggestOutdoorActivity(weatherCondition) {\n    if (weatherCondition === \"sunny\") {\n        return \"It's sunny! How about going for a hike or enjoying a picnic in the park?\";\n    } else if (weatherCondition === \"raining\") {\n        return \"It's raining! Maybe it's a good time to stay indoors and read a book or watch a movie.\";\n    } else {\n        return \"Invalid weather condition. Please enter 'sunny' or 'raining'.\";\n    }\n}\n\nconsole.log(suggestOutdoorActivity(\"sunny\"));   \nconsole.log(suggestOutdoorActivity(\"raining\")); \nconsole.log(suggestOutdoorActivity(\"cloudy\")); \n",
      "text/plain": [
       "<IPython.core.display.Javascript object>"
      ]
     },
     "metadata": {},
     "output_type": "display_data"
    }
   ],
   "source": [
    "%%js\n",
    "function suggestOutdoorActivity(weatherCondition) {\n",
    "    if (weatherCondition === \"sunny\") {\n",
    "        return \"It's sunny! How about going for a hike or enjoying a picnic in the park?\";\n",
    "    } else if (weatherCondition === \"raining\") {\n",
    "        return \"It's raining! Maybe it's a good time to stay indoors and read a book or watch a movie.\";\n",
    "    } else {\n",
    "        return \"Invalid weather condition. Please enter 'sunny' or 'raining'.\";\n",
    "    }\n",
    "}\n",
    "\n",
    "console.log(suggestOutdoorActivity(\"sunny\"));   \n",
    "console.log(suggestOutdoorActivity(\"raining\")); \n",
    "console.log(suggestOutdoorActivity(\"cloudy\")); "
   ]
  },
  {
   "cell_type": "markdown",
   "metadata": {},
   "source": [
    "##### Popcorn Hack 6"
   ]
  },
  {
   "cell_type": "code",
   "execution_count": 23,
   "metadata": {},
   "outputs": [
    {
     "name": "stdout",
     "output_type": "stream",
     "text": [
      "You can afford the following laptops: Laptop B, Laptop C, Laptop D\n"
     ]
    }
   ],
   "source": [
    "def check_affordable_laptops(savings, laptop_prices):\n",
    "    affordable_laptops = []\n",
    "    \n",
    "    # Loop through the laptop prices and check if the user can afford them\n",
    "    for laptop, price in laptop_prices.items():\n",
    "        if savings >= price:\n",
    "            affordable_laptops.append(laptop)\n",
    "    \n",
    "    if affordable_laptops:\n",
    "        return f\"You can afford the following laptops: {', '.join(affordable_laptops)}\"\n",
    "    else:\n",
    "        return \"Sorry, you cannot afford any of these laptops at the moment.\"\n",
    "\n",
    "# Test data\n",
    "savings = float(input(\"Enter your savings: $\"))  # Example: 1000\n",
    "laptop_prices = {\n",
    "    \"Laptop A\": 2400,\n",
    "    \"Laptop B\": 1500,\n",
    "    \"Laptop C\": 750,\n",
    "    \"Laptop D\": 1275\n",
    "}\n",
    "\n",
    "# Check which laptops are affordable\n",
    "print(check_affordable_laptops(savings, laptop_prices))"
   ]
  },
  {
   "cell_type": "markdown",
   "metadata": {},
   "source": [
    "##### Homework Hack 1"
   ]
  },
  {
   "cell_type": "code",
   "execution_count": 30,
   "metadata": {},
   "outputs": [
    {
     "name": "stdout",
     "output_type": "stream",
     "text": [
      "What is the capital of France?\n",
      "1. Berlin\n",
      "2. Madrid\n",
      "3. Paris\n",
      "4. Rome\n",
      "Correct!\n",
      "\n",
      "Which planet is known as the Red Planet?\n",
      "1. Earth\n",
      "2. Mars\n",
      "3. Venus\n",
      "4. Jupiter\n",
      "Correct!\n",
      "\n",
      "Who wrote the play 'Romeo and Juliet'?\n",
      "1. William Shakespeare\n",
      "2. Charles Dickens\n",
      "3. Jane Austen\n",
      "4. George Orwell\n",
      "Correct!\n",
      "\n",
      "What is the largest mammal?\n",
      "1. Elephant\n",
      "2. Blue Whale\n",
      "3. Giraffe\n",
      "4. Shark\n",
      "Correct!\n",
      "\n",
      "What is the boiling point of water in Celsius?\n",
      "1. 90°C\n",
      "2. 100°C\n",
      "3. 120°C\n",
      "4. 200°C\n",
      "Wrong! The correct answer was: 100°C\n",
      "\n",
      "Your final score is 4/5.\n"
     ]
    }
   ],
   "source": [
    "def ask_question(question, options, correct_answer):\n",
    "    print(question)\n",
    "    for i, option in enumerate(options, 1):\n",
    "        print(f\"{i}. {option}\")\n",
    "    \n",
    "    try:\n",
    "        answer = int(input(\"Your answer (1-4): \"))\n",
    "        if options[answer - 1] == correct_answer:\n",
    "            print(\"Correct!\\n\")\n",
    "            return 1\n",
    "        else:\n",
    "            print(f\"Wrong! The correct answer was: {correct_answer}\\n\")\n",
    "            return 0\n",
    "    except (ValueError, IndexError):\n",
    "        print(\"Invalid input. Please select a number between 1 and 4.\\n\")\n",
    "        return 0\n",
    "\n",
    "def quiz_game():\n",
    "    score = 0\n",
    "    \n",
    "    questions = [\n",
    "        {\n",
    "            \"question\": \"What is the capital of France?\",\n",
    "            \"options\": [\"Berlin\", \"Madrid\", \"Paris\", \"Rome\"],\n",
    "            \"correct_answer\": \"Paris\"\n",
    "        },\n",
    "        {\n",
    "            \"question\": \"Which planet is known as the Red Planet?\",\n",
    "            \"options\": [\"Earth\", \"Mars\", \"Venus\", \"Jupiter\"],\n",
    "            \"correct_answer\": \"Mars\"\n",
    "        },\n",
    "        {\n",
    "            \"question\": \"Who wrote the play 'Romeo and Juliet'?\",\n",
    "            \"options\": [\"William Shakespeare\", \"Charles Dickens\", \"Jane Austen\", \"George Orwell\"],\n",
    "            \"correct_answer\": \"William Shakespeare\"\n",
    "        },\n",
    "        {\n",
    "            \"question\": \"What is the largest mammal?\",\n",
    "            \"options\": [\"Elephant\", \"Blue Whale\", \"Giraffe\", \"Shark\"],\n",
    "            \"correct_answer\": \"Blue Whale\"\n",
    "        },\n",
    "        {\n",
    "            \"question\": \"What is the boiling point of water in Celsius?\",\n",
    "            \"options\": [\"90°C\", \"100°C\", \"120°C\", \"200°C\"],\n",
    "            \"correct_answer\": \"100°C\"\n",
    "        }\n",
    "    ]\n",
    "\n",
    "    for q in questions:\n",
    "        score += ask_question(q[\"question\"], q[\"options\"], q[\"correct_answer\"])\n",
    "\n",
    "    print(f\"Your final score is {score}/{len(questions)}.\")\n",
    "\n",
    "# Start the quiz game\n",
    "quiz_game()"
   ]
  },
  {
   "cell_type": "markdown",
   "metadata": {},
   "source": [
    "##### Homework Hack 2"
   ]
  },
  {
   "cell_type": "code",
   "execution_count": 35,
   "metadata": {},
   "outputs": [
    {
     "name": "stdout",
     "output_type": "stream",
     "text": [
      "Great! You can join the game in the '15 and older' group.\n"
     ]
    }
   ],
   "source": [
    "def check_eligibility():\n",
    "    # Prompt for age\n",
    "    age = int(input(\"Please enter your age: \"))\n",
    "    \n",
    "    # Check if they have a ball\n",
    "    has_ball = input(\"Do you have a ball (yes/no)? \").strip().lower()\n",
    "    \n",
    "    # Check eligibility: must be at least 5 years old and have a ball\n",
    "    if age >= 5 and has_ball == \"yes\":\n",
    "        # Determine the group based on age\n",
    "        if age < 8:\n",
    "            group = \"under 15\"\n",
    "        else:\n",
    "            group = \"15 and older\"\n",
    "        \n",
    "        print(f\"Great! You can join the game in the '{group}' group.\")\n",
    "    else:\n",
    "        print(\"Sorry, you are not eligible to join the game. You must be at least 15 years old and have a ball.\")\n",
    "\n",
    "# Call the function to check eligibility\n",
    "check_eligibility()"
   ]
  }
 ],
 "metadata": {
  "kernelspec": {
   "display_name": "venv",
   "language": "python",
   "name": "python3"
  },
  "language_info": {
   "codemirror_mode": {
    "name": "ipython",
    "version": 3
   },
   "file_extension": ".py",
   "mimetype": "text/x-python",
   "name": "python",
   "nbconvert_exporter": "python",
   "pygments_lexer": "ipython3",
   "version": "3.12.3"
  }
 },
 "nbformat": 4,
 "nbformat_minor": 2
}
