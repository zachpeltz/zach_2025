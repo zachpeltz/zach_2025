{
 "cells": [
  {
   "cell_type": "markdown",
   "metadata": {},
   "source": [
    "---\n",
    "layout: post\n",
    "title: Homeworks and Popcorn Hacks for Lesson 3.1/3.4\n",
    "description: All homeworks for Lessons\n",
    "courses: { csp: {week: 1} }\n",
    "comments: true\n",
    "sticky_rank: 1\n",
    "---"
   ]
  },
  {
   "cell_type": "markdown",
   "metadata": {},
   "source": [
    "### 3.1 and 3.4 Popcorn Hacks"
   ]
  },
  {
   "cell_type": "markdown",
   "metadata": {},
   "source": [
    "##### Popcorn Hack 1"
   ]
  },
  {
   "cell_type": "code",
   "execution_count": 20,
   "metadata": {},
   "outputs": [
    {
     "data": {
      "application/javascript": "\nvar myDictionary = {\n    1: \"banana\",\n    2: \"apple\",\n    3: \"mango\"\n};\n\nconsole.log(\"Fruit with key 2:\", myDictionary[2]); // Output: fruit\n<IPython.core.display.Javascript object>\n",
      "text/plain": [
       "<IPython.core.display.Javascript object>"
      ]
     },
     "metadata": {},
     "output_type": "display_data"
    }
   ],
   "source": [
    "%%js\n",
    "\n",
    "var myDictionary = {\n",
    "    1: \"banana\",\n",
    "    2: \"apple\",\n",
    "    3: \"mango\"\n",
    "};\n",
    "\n",
    "console.log(\"Fruit with key 2:\", myDictionary[2]); // Output: fruit\n",
    "<IPython.core.display.Javascript object>"
   ]
  },
  {
   "cell_type": "markdown",
   "metadata": {},
   "source": [
    "##### Popcorn Hack 2"
   ]
  },
  {
   "cell_type": "code",
   "execution_count": 4,
   "metadata": {},
   "outputs": [
    {
     "name": "stdout",
     "output_type": "stream",
     "text": [
      "Math Quiz Game\n",
      "Answer as many questions as possible. Type 'q' to quit anytime.\n",
      "\n",
      "What is 15 - 4?\n",
      "Correct!\n",
      "What is 17 * 2?\n",
      "Oops! The correct answer was 34.\n",
      "What is 28 + 19?\n",
      "Correct!\n",
      "What is 14 + 15?\n",
      "Correct!\n",
      "What is 15 * 24?\n",
      "Correct!\n",
      "What is 6 - 1?\n",
      "Your final score is 4.\n"
     ]
    }
   ],
   "source": [
    "import random\n",
    "\n",
    "def play_game():\n",
    "    score = 0\n",
    "    operators = ['+', '-', '*',]\n",
    "\n",
    "    print(\"Math Quiz Game\")\n",
    "    print(\"Answer as many questions as possible. Type 'q' to quit anytime.\\n\")\n",
    "\n",
    "    while True:\n",
    "        num1 = random.randint(1, 30)\n",
    "        num2 = random.randint(1, 30)\n",
    "        op = random.choice(operators)\n",
    "\n",
    "        if op == '+':\n",
    "            answer = num1 + num2\n",
    "        elif op == '-':\n",
    "            answer = num1 - num2\n",
    "        else:\n",
    "            answer = num1 * num2\n",
    "\n",
    "        print(f\"What is {num1} {op} {num2}?\")\n",
    "        player_input = input(\"Your answer (or type 'q' to quit): \")\n",
    "\n",
    "        if player_input.lower() == 'q':\n",
    "            break\n",
    "\n",
    "        try:\n",
    "            player_answer = int(player_input)\n",
    "            if player_answer == answer:\n",
    "                print(\"Correct!\")\n",
    "                score += 1\n",
    "            else:\n",
    "                print(f\"Oops! The correct answer was {answer}.\")\n",
    "        except ValueError:\n",
    "            print(\"Invalid input, please enter a number or 'q' to quit.\")\n",
    "\n",
    "    print(f\"Your final score is {score}.\")\n",
    "\n",
    "# Start the game\n",
    "play_game()"
   ]
  },
  {
   "cell_type": "markdown",
   "metadata": {},
   "source": [
    "##### Popcorn Hack 3"
   ]
  },
  {
   "cell_type": "code",
   "execution_count": 25,
   "metadata": {},
   "outputs": [
    {
     "data": {
      "application/javascript": "\n// Temperature Converter in JavaScript\nlet temperature = parseFloat(prompt(\"Enter the temperature:\"));\nlet conversionType = prompt(\"Convert to (C)elsius or (F)ahrenheit?\").toUpperCase();\n\nif (conversionType === \"C\") {\n    // Convert Fahrenheit to Celsius\n    let celsius = (temperature - 32) * (5 / 9);\n    console.log(`${temperature}°F is equal to ${celsius.toFixed(2)}°C`);\n} else if (conversionType === \"F\") {\n    // Convert Celsius to Fahrenheit\n    let fahrenheit = (temperature * (9 / 5)) + 32;\n    console.log(`${temperature}°C is equal to ${fahrenheit.toFixed(2)}°F`);\n} else {\n    console.log(\"Invalid conversion type entered.\");\n}\n<IPython.core.display.Javascript object>\n",
      "text/plain": [
       "<IPython.core.display.Javascript object>"
      ]
     },
     "metadata": {},
     "output_type": "display_data"
    }
   ],
   "source": [
    "%%js\n",
    "\n",
    "// Temperature Converter in JavaScript\n",
    "let temperature = parseFloat(prompt(\"Enter the temperature:\"));\n",
    "let conversionType = prompt(\"Convert to (C)elsius or (F)ahrenheit?\").toUpperCase();\n",
    "\n",
    "if (conversionType === \"C\") {\n",
    "    // Convert Fahrenheit to Celsius\n",
    "    let celsius = (temperature - 32) * (5 / 9);\n",
    "    console.log(`${temperature}°F is equal to ${celsius.toFixed(2)}°C`);\n",
    "} else if (conversionType === \"F\") {\n",
    "    // Convert Celsius to Fahrenheit\n",
    "    let fahrenheit = (temperature * (9 / 5)) + 32;\n",
    "    console.log(`${temperature}°C is equal to ${fahrenheit.toFixed(2)}°F`);\n",
    "} else {\n",
    "    console.log(\"Invalid conversion type entered.\");\n",
    "}\n",
    "<IPython.core.display.Javascript object>"
   ]
  },
  {
   "cell_type": "code",
   "execution_count": 26,
   "metadata": {},
   "outputs": [],
   "source": [
    "def temperature_converter():\n",
    "    try:\n",
    "        # Prompt the user for the temperature\n",
    "        temperature = float(input(\"Enter the temperature: \"))\n",
    "        \n",
    "        # Ask the user for the conversion type\n",
    "        conversion_type = input(\"Convert to Celsius or Fahrenheit? \").strip().upper()\n",
    "\n",
    "        if conversion_type == \"C\":\n",
    "            pass\n",
    "            # TODO: Convert Fahrenheit to Celsius\n",
    "            # celsius = (temperature - 32) * (5 / 9)\n",
    "            # print(f\"{temperature}°F is equal to {celsius:.2f}°C\")\n",
    "\n",
    "        elif conversion_type == \"F\":\n",
    "            pass\n",
    "            # TODO: Convert Celsius to Fahrenheit\n",
    "            # fahrenheit = (temperature * (9 / 5)) + 32\n",
    "            # print(f\"{temperature}°C is equal to {fahrenheit:.2f}°F\")\n",
    "\n",
    "        else:\n",
    "            print(\"Invalid conversion type entered. Please enter 'C' or 'F'.\")\n",
    "\n",
    "    except ValueError:\n",
    "        print(\"Invalid input. Please enter a numeric temperature value.\")\n",
    "\n",
    "# Call the temperature converter function\n",
    "temperature_converter()\n",
    "\n",
    "# Invalid conversion type entered. Please enter 'C' or 'F'."
   ]
  },
  {
   "cell_type": "markdown",
   "metadata": {},
   "source": [
    "##### Popcorn Hack 4"
   ]
  },
  {
   "cell_type": "code",
   "execution_count": 27,
   "metadata": {},
   "outputs": [
    {
     "data": {
      "application/javascript": "\n\nlet favoriteMovie = \"Joker\";\nlet favoriteSport = \"soccer\";\nlet petName = \"Chump\";\n\n\n// Concatenation\nlet concatenatedMessage = \"My favorite movie is \" + favoriteMovie + \". I love playing \" + favoriteSport + \" and my pet's name is \" + petName + \".\";\n\n\n// Interpolation\nlet interpolatedMessage = `My favorite movie is ${favoriteMovie}. I love playing ${favoriteSport} and my pet's name is ${petName}.`;\n\n<IPython.core.display.Javascript object>\n",
      "text/plain": [
       "<IPython.core.display.Javascript object>"
      ]
     },
     "metadata": {},
     "output_type": "display_data"
    }
   ],
   "source": [
    "%%js\n",
    "\n",
    "\n",
    "let favoriteMovie = \"Joker\";\n",
    "let favoriteSport = \"soccer\";\n",
    "let petName = \"Chump\";\n",
    "\n",
    "\n",
    "// Concatenation\n",
    "let concatenatedMessage = \"My favorite movie is \" + favoriteMovie + \". I love playing \" + favoriteSport + \" and my pet's name is \" + petName + \".\";\n",
    "\n",
    "\n",
    "// Interpolation\n",
    "let interpolatedMessage = `My favorite movie is ${favoriteMovie}. I love playing ${favoriteSport} and my pet's name is ${petName}.`;\n",
    "\n",
    "<IPython.core.display.Javascript object>"
   ]
  },
  {
   "cell_type": "markdown",
   "metadata": {},
   "source": [
    "##### Popcorn Hack 5"
   ]
  },
  {
   "cell_type": "code",
   "execution_count": 32,
   "metadata": {},
   "outputs": [
    {
     "data": {
      "application/javascript": "\n\n// Define string\nlet phrase = \"My journey is outrageous and I love running\";\n\n\n// Extraction\nlet partOne = phrase.slice(2, 8);\nlet partTwo = phrase.slice(-18, -12);\nlet remainder = phrase.slice(20);\n\n\n// Output\nconsole.log(partOne);  \nconsole.log(partTwo);  \nconsole.log(remainder); \n",
      "text/plain": [
       "<IPython.core.display.Javascript object>"
      ]
     },
     "metadata": {},
     "output_type": "display_data"
    }
   ],
   "source": [
    "%%js\n",
    "\n",
    "\n",
    "// Define string\n",
    "let phrase = \"My journey is outrageous and I love running\";\n",
    "\n",
    "\n",
    "// Extraction\n",
    "let partOne = phrase.slice(2, 8);\n",
    "let partTwo = phrase.slice(-18, -12);\n",
    "let remainder = phrase.slice(20);\n",
    "\n",
    "\n",
    "// Output\n",
    "console.log(partOne);  \n",
    "console.log(partTwo);  \n",
    "console.log(remainder); "
   ]
  },
  {
   "cell_type": "markdown",
   "metadata": {},
   "source": [
    "##### Popcorn Hack 6"
   ]
  },
  {
   "cell_type": "code",
   "execution_count": 29,
   "metadata": {},
   "outputs": [
    {
     "name": "stdout",
     "output_type": "stream",
     "text": [
      "Cdng s s fn nd  lv t!\n"
     ]
    }
   ],
   "source": [
    "def remove_vowels(input_str):\n",
    "    vowels = \"aeiouAEIOU\"\n",
    "    result = ''.join([char for char in input_str if char not in vowels])\n",
    "    return result\n",
    "\n",
    "sentence = \"Coding is so fun and I love it!\"\n",
    "print(remove_vowels(sentence))"
   ]
  },
  {
   "cell_type": "markdown",
   "metadata": {},
   "source": [
    "##### Popcorn Hack 7"
   ]
  },
  {
   "cell_type": "code",
   "execution_count": 30,
   "metadata": {},
   "outputs": [
    {
     "name": "stdout",
     "output_type": "stream",
     "text": [
      "friends! with winter the in sports playing love I\n"
     ]
    }
   ],
   "source": [
    "def reverse_words(input_str):\n",
    "    words = input_str.split()\n",
    "    reversed_words = \" \".join(words[::-1])\n",
    "    return reversed_words\n",
    "\n",
    "sentence = \"I love playing sports in the winter with friends!\"\n",
    "print(reverse_words(sentence))"
   ]
  },
  {
   "cell_type": "markdown",
   "metadata": {},
   "source": [
    "##### Homework Hack 1"
   ]
  },
  {
   "cell_type": "code",
   "execution_count": 35,
   "metadata": {},
   "outputs": [
    {
     "name": "stdout",
     "output_type": "stream",
     "text": [
      "\n",
      "Your Shopping List:\n",
      "gum: $5.00\n",
      "t-shirt: $12.00\n",
      "milk: $6.00\n",
      "\n",
      "Total Cost: $23.00\n"
     ]
    }
   ],
   "source": [
    "# Create an empty list to store shopping items\n",
    "shopping_list = []\n",
    "\n",
    "# Create a variable to store the total cost, initialized to zero\n",
    "total_cost = 0\n",
    "\n",
    "# Example: Adding items to the shopping list\n",
    "while True:\n",
    "    # Get item name from user input\n",
    "    item_name = input(\"Enter the name of the item (or 'done' to finish): \")\n",
    "    \n",
    "    # Exit the loop if the user is done\n",
    "    if item_name.lower() == 'done':\n",
    "        break\n",
    "\n",
    "    # Get item price from user input\n",
    "    try:\n",
    "        item_price = float(input(f\"Enter the price of {item_name}: \"))\n",
    "    except ValueError:\n",
    "        print(\"Please enter a valid price.\")\n",
    "        continue\n",
    "\n",
    "    # Append item to the shopping list\n",
    "    shopping_list.append((item_name, item_price))\n",
    "    \n",
    "    # Add price to total cost\n",
    "    total_cost += item_price\n",
    "\n",
    "# Output the shopping list and total cost\n",
    "print(\"\\nYour Shopping List:\")\n",
    "for item in shopping_list:\n",
    "    print(f\"{item[0]}: ${item[1]:.2f}\")\n",
    "\n",
    "print(f\"\\nTotal Cost: ${total_cost:.2f}\")"
   ]
  },
  {
   "cell_type": "markdown",
   "metadata": {},
   "source": [
    "##### Homework Hack 2"
   ]
  },
  {
   "cell_type": "code",
   "execution_count": 37,
   "metadata": {},
   "outputs": [
    {
     "data": {
      "application/javascript": "// Step 1: Initialize Conversion Rates\nconst cupsToTablespoons = 16;\nconst tablespoonsToTeaspoons = 3;\nconst cupsToTeaspoons = 48;\n\n// Step 2: Input for Ingredients\nlet ingredients = [];\nlet continueInput = true;\n\nwhile (continueInput) {\n    // Collecting the ingredient details\n    let ingredientName = prompt(\"Enter the name of the ingredient (or type 'done' to finish):\");\n    if (ingredientName.toLowerCase() === 'done') {\n        continueInput = false;\n        break;\n    }\n    \n    let quantity = parseFloat(prompt(`Enter the quantity of ${ingredientName}:`));\n    let unit = prompt(`Enter the current unit for ${ingredientName} (cups, tablespoons, teaspoons):`).toLowerCase();\n    \n    let desiredUnit = prompt(\"Enter the unit you want to convert to (tablespoons, teaspoons):\").toLowerCase();\n\n    // Step 3: Conversion Logic\n    let convertedQuantity = quantity;\n    \n    if (unit === 'cups' && desiredUnit === 'tablespoons') {\n        convertedQuantity = quantity * cupsToTablespoons;\n    } else if (unit === 'cups' && desiredUnit === 'teaspoons') {\n        convertedQuantity = quantity * cupsToTeaspoons;\n    } else if (unit === 'tablespoons' && desiredUnit === 'teaspoons') {\n        convertedQuantity = quantity * tablespoonsToTeaspoons;\n    } else if (unit === desiredUnit) {\n        // No conversion needed if units match\n        convertedQuantity = quantity;\n    } else {\n        alert(\"Invalid unit conversion. Try again.\");\n        continue;\n    }\n    \n    // Store the ingredient and its conversion\n    ingredients.push({\n        name: ingredientName,\n        originalQuantity: quantity,\n        originalUnit: unit,\n        convertedQuantity: convertedQuantity,\n        convertedUnit: desiredUnit\n    });\n}\n\n// Step 4: Display the Converted Results\nif (ingredients.length > 0) {\n    console.log(\"Recipe Ingredient Conversion Results:\");\n    ingredients.forEach(ingredient => {\n        console.log(`${ingredient.name}: ${ingredient.originalQuantity} ${ingredient.originalUnit} = ${ingredient.convertedQuantity} ${ingredient.convertedUnit}`);\n    });\n} else {\n    console.log(\"No ingredients entered.\");\n}\n",
      "text/plain": [
       "<IPython.core.display.Javascript object>"
      ]
     },
     "metadata": {},
     "output_type": "display_data"
    }
   ],
   "source": [
    "%%js\n",
    "// Step 1: Initialize Conversion Rates\n",
    "const cupsToTablespoons = 16;\n",
    "const tablespoonsToTeaspoons = 3;\n",
    "const cupsToTeaspoons = 48;\n",
    "\n",
    "// Step 2: Input for Ingredients\n",
    "let ingredients = [];\n",
    "let continueInput = true;\n",
    "\n",
    "while (continueInput) {\n",
    "    // Collecting the ingredient details\n",
    "    let ingredientName = prompt(\"Enter the name of the ingredient (or type 'done' to finish):\");\n",
    "    if (ingredientName.toLowerCase() === 'done') {\n",
    "        continueInput = false;\n",
    "        break;\n",
    "    }\n",
    "    \n",
    "    let quantity = parseFloat(prompt(`Enter the quantity of ${ingredientName}:`));\n",
    "    let unit = prompt(`Enter the current unit for ${ingredientName} (cups, tablespoons, teaspoons):`).toLowerCase();\n",
    "    \n",
    "    let desiredUnit = prompt(\"Enter the unit you want to convert to (tablespoons, teaspoons):\").toLowerCase();\n",
    "\n",
    "    // Step 3: Conversion Logic\n",
    "    let convertedQuantity = quantity;\n",
    "    \n",
    "    if (unit === 'cups' && desiredUnit === 'tablespoons') {\n",
    "        convertedQuantity = quantity * cupsToTablespoons;\n",
    "    } else if (unit === 'cups' && desiredUnit === 'teaspoons') {\n",
    "        convertedQuantity = quantity * cupsToTeaspoons;\n",
    "    } else if (unit === 'tablespoons' && desiredUnit === 'teaspoons') {\n",
    "        convertedQuantity = quantity * tablespoonsToTeaspoons;\n",
    "    } else if (unit === desiredUnit) {\n",
    "        // No conversion needed if units match\n",
    "        convertedQuantity = quantity;\n",
    "    } else {\n",
    "        alert(\"Invalid unit conversion. Try again.\");\n",
    "        continue;\n",
    "    }\n",
    "    \n",
    "    // Store the ingredient and its conversion\n",
    "    ingredients.push({\n",
    "        name: ingredientName,\n",
    "        originalQuantity: quantity,\n",
    "        originalUnit: unit,\n",
    "        convertedQuantity: convertedQuantity,\n",
    "        convertedUnit: desiredUnit\n",
    "    });\n",
    "}\n",
    "\n",
    "// Step 4: Display the Converted Results\n",
    "if (ingredients.length > 0) {\n",
    "    console.log(\"Recipe Ingredient Conversion Results:\");\n",
    "    ingredients.forEach(ingredient => {\n",
    "        console.log(`${ingredient.name}: ${ingredient.originalQuantity} ${ingredient.originalUnit} = ${ingredient.convertedQuantity} ${ingredient.convertedUnit}`);\n",
    "    });\n",
    "} else {\n",
    "    console.log(\"No ingredients entered.\");\n",
    "}"
   ]
  },
  {
   "cell_type": "markdown",
   "metadata": {},
   "source": [
    "##### Homework Hack 3"
   ]
  },
  {
   "cell_type": "code",
   "execution_count": 41,
   "metadata": {},
   "outputs": [
    {
     "data": {
      "application/javascript": "let firstName = prompt(\"Zach\");\nlet lastName = prompt(\"Peltz\");\n\n// String concatenation\nlet greetingConcatenation = \"Hello, \" + firstName + \" \" + lastName + \"!\";\nconsole.log(greetingConcatenation); // Output: Hello, [First Name] [Last Name]!\n",
      "text/plain": [
       "<IPython.core.display.Javascript object>"
      ]
     },
     "metadata": {},
     "output_type": "display_data"
    }
   ],
   "source": [
    "%%js\n",
    "let firstName = prompt(\"Zach\");\n",
    "let lastName = prompt(\"Peltz\");\n",
    "\n",
    "// String concatenation\n",
    "let greetingConcatenation = \"Hello, \" + firstName + \" \" + lastName + \"!\";\n",
    "console.log(greetingConcatenation); // Output: Hello, [First Name] [Last Name]!"
   ]
  },
  {
   "cell_type": "markdown",
   "metadata": {},
   "source": [
    "##### Homework Hack 4"
   ]
  },
  {
   "cell_type": "code",
   "execution_count": 46,
   "metadata": {},
   "outputs": [
    {
     "name": "stdout",
     "output_type": "stream",
     "text": [
      "'doc note i dissent a fast never prevents a fatness i diet on cod' is a palindrome!\n"
     ]
    }
   ],
   "source": [
    "def is_palindrome(s):\n",
    "    # Remove spaces and convert the string to lowercase for accurate comparison\n",
    "    s = s.replace(\" \", \"\").lower()\n",
    "    \n",
    "    # Check if the string is equal to its reverse\n",
    "    return s == s[::-1]\n",
    "\n",
    "# Input string from the user\n",
    "input_string = input(\"Enter a word or phrase: \")\n",
    "\n",
    "# Check if the input is a palindrome\n",
    "if is_palindrome(input_string):\n",
    "    print(f\"'{input_string}' is a palindrome!\")\n",
    "else:\n",
    "    print(f\"'{input_string}' is not a palindrome.\")"
   ]
  }
 ],
 "metadata": {
  "kernelspec": {
   "display_name": "venv",
   "language": "python",
   "name": "python3"
  },
  "language_info": {
   "codemirror_mode": {
    "name": "ipython",
    "version": 3
   },
   "file_extension": ".py",
   "mimetype": "text/x-python",
   "name": "python",
   "nbconvert_exporter": "python",
   "pygments_lexer": "ipython3",
   "version": "3.12.3"
  }
 },
 "nbformat": 4,
 "nbformat_minor": 2
}
