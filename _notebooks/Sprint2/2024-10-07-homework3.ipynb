{
 "cells": [
  {
   "cell_type": "markdown",
   "metadata": {},
   "source": [
    "---\n",
    "layout: post\n",
    "title: Homeworks and Popcorn Hacks for Lesson 3.1/3.4\n",
    "description: All homeworks for Lessons\n",
    "courses: { csp: {week: 1} }\n",
    "comments: true\n",
    "sticky_rank: 1\n",
    "type: issues\n",
    "---"
   ]
  },
  {
   "cell_type": "markdown",
   "metadata": {},
   "source": [
    "### 3.1 and 3.4 Popcorn Hacks"
   ]
  },
  {
   "cell_type": "markdown",
   "metadata": {},
   "source": [
    "##### Popcorn Hack 1"
   ]
  },
  {
   "cell_type": "code",
   "execution_count": 2,
   "metadata": {
    "vscode": {
     "languageId": "javascript"
    }
   },
   "outputs": [
    {
     "data": {
      "application/javascript": "\nvar myDictionary = {\n    1: \"banana\",\n    2: \"apple\",\n    3: \"mango\"\n};\n\nconsole.log(\"Fruit with key 2:\", myDictionary[2]); \n<IPython.core.display.Javascript object>\n",
      "text/plain": [
       "<IPython.core.display.Javascript object>"
      ]
     },
     "metadata": {},
     "output_type": "display_data"
    }
   ],
   "source": [
    "%%js\n",
    "\n",
    "var myDictionary = {\n",
    "    1: \"banana\",\n",
    "    2: \"apple\",\n",
    "    3: \"mango\"\n",
    "};\n",
    "\n",
    "console.log(\"Fruit with key 2:\", myDictionary[2]); \n",
    "<IPython.core.display.Javascript object>"
   ]
  },
  {
   "cell_type": "markdown",
   "metadata": {},
   "source": [
    "##### Popcorn Hack 2"
   ]
  },
  {
   "cell_type": "code",
   "execution_count": 3,
   "metadata": {},
   "outputs": [
    {
     "name": "stdout",
     "output_type": "stream",
     "text": [
      "Math Quiz Game\n",
      "Answer as many questions as possible. Type 'q' to quit anytime.\n",
      "\n",
      "What is 15 + 3?\n",
      "Correct!\n",
      "What is 8 * 17?\n",
      "Oops! The correct answer was 136.\n",
      "What is 22 * 20?\n",
      "Oops! The correct answer was 440.\n",
      "What is 1 * 17?\n",
      "Oops! The correct answer was 17.\n",
      "What is 13 - 18?\n",
      "Oops! The correct answer was -5.\n",
      "What is 20 - 29?\n",
      "Your final score is 1.\n"
     ]
    }
   ],
   "source": [
    "import random\n",
    "\n",
    "def play_game():\n",
    "    score = 0\n",
    "    operators = ['+', '-', '*',]\n",
    "\n",
    "    print(\"Math Quiz Game\")\n",
    "    print(\"Answer as many questions as possible. Type 'q' to quit anytime.\\n\")\n",
    "\n",
    "    while True:\n",
    "        num1 = random.randint(1, 30)\n",
    "        num2 = random.randint(1, 30)\n",
    "        op = random.choice(operators)\n",
    "\n",
    "        if op == '+':\n",
    "            answer = num1 + num2\n",
    "        elif op == '-':\n",
    "            answer = num1 - num2\n",
    "        else:\n",
    "            answer = num1 * num2\n",
    "\n",
    "        print(f\"What is {num1} {op} {num2}?\")\n",
    "        player_input = input(\"Your answer (or type 'q' to quit): \")\n",
    "\n",
    "        if player_input.lower() == 'q':\n",
    "            break\n",
    "\n",
    "        try:\n",
    "            player_answer = int(player_input)\n",
    "            if player_answer == answer:\n",
    "                print(\"Correct!\")\n",
    "                score += 1\n",
    "            else:\n",
    "                print(f\"Oops! The correct answer was {answer}.\")\n",
    "        except ValueError:\n",
    "            print(\"Invalid input, please enter a number or 'q' to quit.\")\n",
    "\n",
    "    print(f\"Your final score is {score}.\")\n",
    "\n",
    "play_game()"
   ]
  },
  {
   "cell_type": "markdown",
   "metadata": {},
   "source": [
    "##### Popcorn Hack 3"
   ]
  },
  {
   "cell_type": "code",
   "execution_count": 4,
   "metadata": {
    "vscode": {
     "languageId": "javascript"
    }
   },
   "outputs": [
    {
     "data": {
      "application/javascript": "\n\nlet temperature = parseFloat(prompt(\"Enter the temperature:\"));\nlet conversionType = prompt(\"Convert to (C)elsius or (F)ahrenheit?\").toUpperCase();\n\nif (conversionType === \"C\") {\n   \n    let celsius = (temperature - 32) * (5 / 9);\n    console.log(`${temperature}°F is equal to ${celsius.toFixed(2)}°C`);\n} else if (conversionType === \"F\") {\n  \n    let fahrenheit = (temperature * (9 / 5)) + 32;\n    console.log(`${temperature}°C is equal to ${fahrenheit.toFixed(2)}°F`);\n} else {\n    console.log(\"Invalid conversion type entered.\");\n}\n<IPython.core.display.Javascript object>\n",
      "text/plain": [
       "<IPython.core.display.Javascript object>"
      ]
     },
     "metadata": {},
     "output_type": "display_data"
    }
   ],
   "source": [
    "%%js\n",
    "\n",
    "\n",
    "let temperature = parseFloat(prompt(\"Enter the temperature:\"));\n",
    "let conversionType = prompt(\"Convert to (C)elsius or (F)ahrenheit?\").toUpperCase();\n",
    "\n",
    "if (conversionType === \"C\") {\n",
    "   \n",
    "    let celsius = (temperature - 32) * (5 / 9);\n",
    "    console.log(`${temperature}°F is equal to ${celsius.toFixed(2)}°C`);\n",
    "} else if (conversionType === \"F\") {\n",
    "  \n",
    "    let fahrenheit = (temperature * (9 / 5)) + 32;\n",
    "    console.log(`${temperature}°C is equal to ${fahrenheit.toFixed(2)}°F`);\n",
    "} else {\n",
    "    console.log(\"Invalid conversion type entered.\");\n",
    "}\n",
    "<IPython.core.display.Javascript object>"
   ]
  },
  {
   "cell_type": "code",
   "execution_count": 5,
   "metadata": {},
   "outputs": [],
   "source": [
    "def temperature_converter():\n",
    "    try:\n",
    "      \n",
    "        temperature = float(input(\"Enter the temperature: \"))\n",
    "        \n",
    "      \n",
    "        conversion_type = input(\"Convert to Celsius or Fahrenheit? \").strip().upper()\n",
    "\n",
    "        if conversion_type == \"C\":\n",
    "            pass\n",
    "       \n",
    "\n",
    "        elif conversion_type == \"F\":\n",
    "            pass\n",
    "        \n",
    "        else:\n",
    "            print(\"Invalid conversion type entered. Please enter 'C' or 'F'.\")\n",
    "\n",
    "    except ValueError:\n",
    "        print(\"Invalid input. Please enter a numeric temperature value.\")\n",
    "\n",
    "temperature_converter()\n"
   ]
  },
  {
   "cell_type": "markdown",
   "metadata": {},
   "source": [
    "##### Popcorn Hack 4"
   ]
  },
  {
   "cell_type": "code",
   "execution_count": 6,
   "metadata": {
    "vscode": {
     "languageId": "javascript"
    }
   },
   "outputs": [
    {
     "data": {
      "application/javascript": "\n\nlet favoriteMovie = \"Joker\";\nlet favoriteSport = \"soccer\";\nlet petName = \"Chump\";\n\n\nlet concatenatedMessage = \"My favorite movie is \" + favoriteMovie + \". I love playing \" + favoriteSport + \" and my pet's name is \" + petName + \".\";\n\n\nlet interpolatedMessage = `My favorite movie is ${favoriteMovie}. I love playing ${favoriteSport} and my pet's name is ${petName}.`;\n\n<IPython.core.display.Javascript object>\n",
      "text/plain": [
       "<IPython.core.display.Javascript object>"
      ]
     },
     "metadata": {},
     "output_type": "display_data"
    }
   ],
   "source": [
    "%%js\n",
    "\n",
    "\n",
    "let favoriteMovie = \"Joker\";\n",
    "let favoriteSport = \"soccer\";\n",
    "let petName = \"Chump\";\n",
    "\n",
    "\n",
    "let concatenatedMessage = \"My favorite movie is \" + favoriteMovie + \". I love playing \" + favoriteSport + \" and my pet's name is \" + petName + \".\";\n",
    "\n",
    "\n",
    "let interpolatedMessage = `My favorite movie is ${favoriteMovie}. I love playing ${favoriteSport} and my pet's name is ${petName}.`;\n",
    "\n",
    "<IPython.core.display.Javascript object>"
   ]
  },
  {
   "cell_type": "markdown",
   "metadata": {},
   "source": [
    "##### Popcorn Hack 5"
   ]
  },
  {
   "cell_type": "code",
   "execution_count": 7,
   "metadata": {
    "vscode": {
     "languageId": "javascript"
    }
   },
   "outputs": [
    {
     "data": {
      "application/javascript": "\n\nlet phrase = \"My journey is outrageous and I love running\";\n\n\n\nlet partOne = phrase.slice(2, 8);\nlet partTwo = phrase.slice(-18, -12);\nlet remainder = phrase.slice(20);\n\n\n\nconsole.log(partOne);  \nconsole.log(partTwo);  \nconsole.log(remainder); \n",
      "text/plain": [
       "<IPython.core.display.Javascript object>"
      ]
     },
     "metadata": {},
     "output_type": "display_data"
    }
   ],
   "source": [
    "%%js\n",
    "\n",
    "\n",
    "let phrase = \"My journey is outrageous and I love running\";\n",
    "\n",
    "\n",
    "\n",
    "let partOne = phrase.slice(2, 8);\n",
    "let partTwo = phrase.slice(-18, -12);\n",
    "let remainder = phrase.slice(20);\n",
    "\n",
    "\n",
    "\n",
    "console.log(partOne);  \n",
    "console.log(partTwo);  \n",
    "console.log(remainder); "
   ]
  },
  {
   "cell_type": "markdown",
   "metadata": {},
   "source": [
    "##### Popcorn Hack 6"
   ]
  },
  {
   "cell_type": "code",
   "execution_count": 8,
   "metadata": {},
   "outputs": [
    {
     "name": "stdout",
     "output_type": "stream",
     "text": [
      "Cdng s s fn nd  lv t!\n"
     ]
    }
   ],
   "source": [
    "def remove_vowels(input_str):\n",
    "    vowels = \"aeiouAEIOU\"\n",
    "    result = ''.join([char for char in input_str if char not in vowels])\n",
    "    return result\n",
    "\n",
    "sentence = \"Coding is so fun and I love it!\"\n",
    "print(remove_vowels(sentence))"
   ]
  },
  {
   "cell_type": "markdown",
   "metadata": {},
   "source": [
    "##### Popcorn Hack 7"
   ]
  },
  {
   "cell_type": "code",
   "execution_count": 9,
   "metadata": {},
   "outputs": [
    {
     "name": "stdout",
     "output_type": "stream",
     "text": [
      "friends! with winter the in sports playing love I\n"
     ]
    }
   ],
   "source": [
    "def reverse_words(input_str):\n",
    "    words = input_str.split()\n",
    "    reversed_words = \" \".join(words[::-1])\n",
    "    return reversed_words\n",
    "\n",
    "sentence = \"I love playing sports in the winter with friends!\"\n",
    "print(reverse_words(sentence))"
   ]
  },
  {
   "cell_type": "markdown",
   "metadata": {},
   "source": [
    "##### Homework Hack 1"
   ]
  },
  {
   "cell_type": "code",
   "execution_count": 10,
   "metadata": {},
   "outputs": [
    {
     "name": "stdout",
     "output_type": "stream",
     "text": [
      "\n",
      "Your Shopping List:\n",
      "gum: $4.00\n",
      "shirt: $12.00\n",
      "milk: $6.00\n",
      "banana: $1.50\n",
      "\n",
      "Total Cost: $23.50\n"
     ]
    }
   ],
   "source": [
    "\n",
    "shopping_list = []\n",
    "\n",
    "\n",
    "total_cost = 0\n",
    "\n",
    "while True:\n",
    " \n",
    "    item_name = input(\"Enter the name of the item (or 'done' to finish): \")\n",
    "    \n",
    "    if item_name.lower() == 'done':\n",
    "        break\n",
    "\n",
    "\n",
    "    try:\n",
    "        item_price = float(input(f\"Enter the price of {item_name}: \"))\n",
    "    except ValueError:\n",
    "        print(\"Please enter a valid price.\")\n",
    "        continue\n",
    "\n",
    "   \n",
    "    shopping_list.append((item_name, item_price))\n",
    "    \n",
    "\n",
    "    total_cost += item_price\n",
    "\n",
    "\n",
    "print(\"\\nYour Shopping List:\")\n",
    "for item in shopping_list:\n",
    "    print(f\"{item[0]}: ${item[1]:.2f}\")\n",
    "\n",
    "print(f\"\\nTotal Cost: ${total_cost:.2f}\")"
   ]
  },
  {
   "cell_type": "markdown",
   "metadata": {},
   "source": [
    "##### Homework Hack 2"
   ]
  },
  {
   "cell_type": "code",
   "execution_count": 11,
   "metadata": {
    "vscode": {
     "languageId": "javascript"
    }
   },
   "outputs": [
    {
     "data": {
      "application/javascript": "const cupsToTablespoons = 16;\nconst tablespoonsToTeaspoons = 3;\nconst cupsToTeaspoons = 48;\n\nlet ingredients = [];\nlet continueInput = true;\n\nwhile (continueInput) {\n    let ingredientName = prompt(\"Enter the name of the ingredient (or type 'done' to finish):\");\n    if (ingredientName.toLowerCase() === 'done') {\n        continueInput = false;\n        break;\n    }\n    \n    let quantity = parseFloat(prompt(`Enter the quantity of ${ingredientName}:`));\n    let unit = prompt(`Enter the current unit for ${ingredientName} (cups, tablespoons, teaspoons):`).toLowerCase();\n    \n    let desiredUnit = prompt(\"Enter the unit you want to convert to (tablespoons, teaspoons):\").toLowerCase();\n\n    let convertedQuantity = quantity;\n    \n    if (unit === 'cups' && desiredUnit === 'tablespoons') {\n        convertedQuantity = quantity * cupsToTablespoons;\n    } else if (unit === 'cups' && desiredUnit === 'teaspoons') {\n        convertedQuantity = quantity * cupsToTeaspoons;\n    } else if (unit === 'tablespoons' && desiredUnit === 'teaspoons') {\n        convertedQuantity = quantity * tablespoonsToTeaspoons;\n    } else if (unit === desiredUnit) {\n        convertedQuantity = quantity;\n    } else {\n        alert(\"Invalid unit conversion. Try again.\");\n        continue;\n    }\n    \n    ingredients.push({\n        name: ingredientName,\n        originalQuantity: quantity,\n        originalUnit: unit,\n        convertedQuantity: convertedQuantity,\n        convertedUnit: desiredUnit\n    });\n}\n\nif (ingredients.length > 0) {\n    console.log(\"Recipe Ingredient Conversion Results:\");\n    ingredients.forEach(ingredient => {\n        console.log(`${ingredient.name}: ${ingredient.originalQuantity} ${ingredient.originalUnit} = ${ingredient.convertedQuantity} ${ingredient.convertedUnit}`);\n    });\n} else {\n    console.log(\"No ingredients entered.\");\n}\n",
      "text/plain": [
       "<IPython.core.display.Javascript object>"
      ]
     },
     "metadata": {},
     "output_type": "display_data"
    }
   ],
   "source": [
    "%%js\n",
    "const cupsToTablespoons = 16;\n",
    "const tablespoonsToTeaspoons = 3;\n",
    "const cupsToTeaspoons = 48;\n",
    "\n",
    "let ingredients = [];\n",
    "let continueInput = true;\n",
    "\n",
    "while (continueInput) {\n",
    "    let ingredientName = prompt(\"Enter the name of the ingredient (or type 'done' to finish):\");\n",
    "    if (ingredientName.toLowerCase() === 'done') {\n",
    "        continueInput = false;\n",
    "        break;\n",
    "    }\n",
    "    \n",
    "    let quantity = parseFloat(prompt(`Enter the quantity of ${ingredientName}:`));\n",
    "    let unit = prompt(`Enter the current unit for ${ingredientName} (cups, tablespoons, teaspoons):`).toLowerCase();\n",
    "    \n",
    "    let desiredUnit = prompt(\"Enter the unit you want to convert to (tablespoons, teaspoons):\").toLowerCase();\n",
    "\n",
    "    let convertedQuantity = quantity;\n",
    "    \n",
    "    if (unit === 'cups' && desiredUnit === 'tablespoons') {\n",
    "        convertedQuantity = quantity * cupsToTablespoons;\n",
    "    } else if (unit === 'cups' && desiredUnit === 'teaspoons') {\n",
    "        convertedQuantity = quantity * cupsToTeaspoons;\n",
    "    } else if (unit === 'tablespoons' && desiredUnit === 'teaspoons') {\n",
    "        convertedQuantity = quantity * tablespoonsToTeaspoons;\n",
    "    } else if (unit === desiredUnit) {\n",
    "        convertedQuantity = quantity;\n",
    "    } else {\n",
    "        alert(\"Invalid unit conversion. Try again.\");\n",
    "        continue;\n",
    "    }\n",
    "    \n",
    "    ingredients.push({\n",
    "        name: ingredientName,\n",
    "        originalQuantity: quantity,\n",
    "        originalUnit: unit,\n",
    "        convertedQuantity: convertedQuantity,\n",
    "        convertedUnit: desiredUnit\n",
    "    });\n",
    "}\n",
    "\n",
    "if (ingredients.length > 0) {\n",
    "    console.log(\"Recipe Ingredient Conversion Results:\");\n",
    "    ingredients.forEach(ingredient => {\n",
    "        console.log(`${ingredient.name}: ${ingredient.originalQuantity} ${ingredient.originalUnit} = ${ingredient.convertedQuantity} ${ingredient.convertedUnit}`);\n",
    "    });\n",
    "} else {\n",
    "    console.log(\"No ingredients entered.\");\n",
    "}"
   ]
  },
  {
   "cell_type": "markdown",
   "metadata": {},
   "source": [
    "##### Homework Hack 3"
   ]
  },
  {
   "cell_type": "code",
   "execution_count": 12,
   "metadata": {
    "vscode": {
     "languageId": "javascript"
    }
   },
   "outputs": [
    {
     "data": {
      "application/javascript": "let firstName = prompt(\"Zach\");\nlet lastName = prompt(\"Peltz\");\n\n\nlet greetingConcatenation = \"Hello, \" + firstName + \" \" + lastName + \"!\";\nconsole.log(greetingConcatenation); \n",
      "text/plain": [
       "<IPython.core.display.Javascript object>"
      ]
     },
     "metadata": {},
     "output_type": "display_data"
    }
   ],
   "source": [
    "%%js\n",
    "let firstName = prompt(\"Zach\");\n",
    "let lastName = prompt(\"Peltz\");\n",
    "\n",
    "\n",
    "let greetingConcatenation = \"Hello, \" + firstName + \" \" + lastName + \"!\";\n",
    "console.log(greetingConcatenation); "
   ]
  },
  {
   "cell_type": "markdown",
   "metadata": {},
   "source": [
    "##### Homework Hack 4"
   ]
  },
  {
   "cell_type": "code",
   "execution_count": 13,
   "metadata": {},
   "outputs": [
    {
     "name": "stdout",
     "output_type": "stream",
     "text": [
      "'doc note i dissent a fast never prevents a fatness i diet on cod' is a palindrome!\n"
     ]
    }
   ],
   "source": [
    "def is_palindrome(s):\n",
    "\n",
    "    s = s.replace(\" \", \"\").lower()\n",
    "    \n",
    "\n",
    "    return s == s[::-1]\n",
    "\n",
    "\n",
    "input_string = input(\"Enter a word or phrase: \")\n",
    "\n",
    "\n",
    "if is_palindrome(input_string):\n",
    "    print(f\"'{input_string}' is a palindrome!\")\n",
    "else:\n",
    "    print(f\"'{input_string}' is not a palindrome.\")"
   ]
  }
 ],
 "metadata": {
  "kernelspec": {
   "display_name": "venv",
   "language": "python",
   "name": "python3"
  },
  "language_info": {
   "codemirror_mode": {
    "name": "ipython",
    "version": 3
   },
   "file_extension": ".py",
   "mimetype": "text/x-python",
   "name": "python",
   "nbconvert_exporter": "python",
   "pygments_lexer": "ipython3",
   "version": "3.12.3"
  }
 },
 "nbformat": 4,
 "nbformat_minor": 2
}
