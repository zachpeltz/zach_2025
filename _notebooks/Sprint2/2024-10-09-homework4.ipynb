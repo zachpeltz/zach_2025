{
 "cells": [
  {
   "cell_type": "markdown",
   "metadata": {},
   "source": [
    "---\n",
    "layout: post\n",
    "title: Homeworks and Popcorn Hacks for Lesson 3.3/3.5\n",
    "description: All homeworks for Lessons\n",
    "courses: { csp: {week: 1} }\n",
    "comments: true\n",
    "sticky_rank: 1\n",
    "type: issues\n",
    "---"
   ]
  },
  {
   "cell_type": "markdown",
   "metadata": {},
   "source": [
    "### 3.3 and 3.5 Popcorn Hacks"
   ]
  },
  {
   "cell_type": "markdown",
   "metadata": {},
   "source": [
    "##### Popcorn Hack 1"
   ]
  },
  {
   "cell_type": "code",
   "execution_count": 5,
   "metadata": {},
   "outputs": [
    {
     "name": "stdout",
     "output_type": "stream",
     "text": [
      "addition: 13\n",
      "subtraction: 7\n",
      "multiplication: 30\n",
      "division: 3.3333333333333335\n",
      "mods: 1\n"
     ]
    }
   ],
   "source": [
    "def calculate_operations(a, b):\n",
    "    result = {\n",
    "        \"addition\": a + b,\n",
    "        \"subtraction\": a - b,\n",
    "        \"multiplication\": a * b,\n",
    "        \"division\": a / b if b != 0 else \"undefined (division by zero)\",\n",
    "        \"mods\": a % b if b != 0 else \"undefined (mods by zero)\"\n",
    "    }\n",
    "    return result\n",
    "\n",
    "a = 10\n",
    "b = 3\n",
    "operations_result = calculate_operations(a, b)\n",
    "for operation, value in operations_result.items():\n",
    "    print(f\"{operation}: {value}\")"
   ]
  },
  {
   "cell_type": "markdown",
   "metadata": {},
   "source": [
    "##### Popcorn Hack 2"
   ]
  },
  {
   "cell_type": "code",
   "execution_count": 4,
   "metadata": {},
   "outputs": [
    {
     "name": "stdout",
     "output_type": "stream",
     "text": [
      "The 7th Fibonacci number is: 8\n"
     ]
    }
   ],
   "source": [
    "def fibonacci(n):\n",
    "    if n <= 0:\n",
    "        return \"Input should be a positive integer.\"\n",
    "    elif n == 1:\n",
    "        return 0\n",
    "    elif n == 2:\n",
    "        return 1\n",
    "\n",
    "    prev, curr = 0, 1\n",
    "    for _ in range(3, n+1):\n",
    "        prev, curr = curr, prev + curr\n",
    "    return curr\n",
    "\n",
    "n = 7\n",
    "print(f\"The {n}th Fibonacci number is: {fibonacci(n)}\")"
   ]
  },
  {
   "cell_type": "markdown",
   "metadata": {},
   "source": [
    "##### Popcorn Hack 3"
   ]
  },
  {
   "cell_type": "code",
   "execution_count": 17,
   "metadata": {
    "vscode": {
     "languageId": "javascript"
    }
   },
   "outputs": [
    {
     "data": {
      "application/javascript": "public class ContrapositiveExample {\n    public static void main(String[] args) {\n        int age = 18;\n        boolean isAdult = checkIfAdult(age);\n\n        if (isAdult) {\n            System.out.println(\"You are eligible to vote.\");\n        } else {\n            System.out.println(\"You are not eligible to vote.\");\n        }\n    }\n\n    public static boolean checkIfAdult(int age) {\n        return age >= 18;\n    }\n}\n",
      "text/plain": [
       "<IPython.core.display.Javascript object>"
      ]
     },
     "metadata": {},
     "output_type": "display_data"
    }
   ],
   "source": [
    "%%js\n",
    "public class ContrapositiveExample {\n",
    "    public static void main(String[] args) {\n",
    "        int age = 18;\n",
    "        boolean isAdult = checkIfAdult(age);\n",
    "\n",
    "        if (isAdult) {\n",
    "            System.out.println(\"You are eligible to vote.\");\n",
    "        } else {\n",
    "            System.out.println(\"You are not eligible to vote.\");\n",
    "        }\n",
    "    }\n",
    "\n",
    "    public static boolean checkIfAdult(int age) {\n",
    "        return age >= 18;\n",
    "    }\n",
    "}"
   ]
  },
  {
   "cell_type": "markdown",
   "metadata": {},
   "source": [
    "##### Popcorn Hack 4"
   ]
  },
  {
   "cell_type": "code",
   "execution_count": 8,
   "metadata": {},
   "outputs": [
    {
     "name": "stdout",
     "output_type": "stream",
     "text": [
      "You can drive.\n"
     ]
    }
   ],
   "source": [
    "def is_eligible_to_drive(age):\n",
    "    if age >= 18:\n",
    "        return True\n",
    "    else:\n",
    "        return False\n",
    "\n",
    "age = 20\n",
    "if is_eligible_to_drive(age):\n",
    "    print(\"You can drive.\")\n",
    "else:\n",
    "    print(\"You cannot drive.\")"
   ]
  },
  {
   "cell_type": "markdown",
   "metadata": {},
   "source": [
    "##### Homework Hack 1"
   ]
  },
  {
   "cell_type": "code",
   "execution_count": 12,
   "metadata": {},
   "outputs": [
    {
     "name": "stdout",
     "output_type": "stream",
     "text": [
      "34\n"
     ]
    }
   ],
   "source": [
    "def fibonacci_iterative(n):\n",
    "    if n <= 0:\n",
    "        return \"Input should be a positive integer.\"\n",
    "    elif n == 1:\n",
    "        return 0\n",
    "    elif n == 2:\n",
    "        return 1\n",
    "    \n",
    "    prev, curr = 0, 1\n",
    "    for _ in range(3, n + 1):\n",
    "        prev, curr = curr, prev + curr\n",
    "    return curr\n",
    "\n",
    "print(fibonacci_iterative(10)) "
   ]
  },
  {
   "cell_type": "markdown",
   "metadata": {},
   "source": [
    "Uses iterative: best in terms of simplicity and performance\n",
    "Uses recursive: Clear in readability but bad for larger values\n",
    "Memoization: Combines readability and efficiency/simplicity and is good for large inputs."
   ]
  },
  {
   "cell_type": "markdown",
   "metadata": {},
   "source": [
    "##### Homework Hack 2"
   ]
  },
  {
   "cell_type": "code",
   "execution_count": 14,
   "metadata": {},
   "outputs": [
    {
     "name": "stdout",
     "output_type": "stream",
     "text": [
      "Truth Table for Logic Gates:\n",
      "A B | AND OR NAND NOR XOR\n",
      "0 0 |  0   0    1    1   0\n",
      "0 1 |  0   1    1    0   1\n",
      "1 0 |  0   1    1    0   1\n",
      "1 1 |  1   1    0    0   0\n",
      "\n",
      "Truth Table for NOT Gate:\n",
      "A | NOT\n",
      "0 |  1\n",
      "1 |  0\n"
     ]
    }
   ],
   "source": [
    "def AND_gate(a, b):\n",
    "    return a & b\n",
    "\n",
    "def OR_gate(a, b):\n",
    "    return a | b\n",
    "\n",
    "def NOT_gate(a):\n",
    "    return int(not a)\n",
    "\n",
    "def NAND_gate(a, b):\n",
    "    return int(not (a & b))\n",
    "\n",
    "def NOR_gate(a, b):\n",
    "    return int(not (a | b))\n",
    "\n",
    "def XOR_gate(a, b):\n",
    "    return a ^ b\n",
    "\n",
    "def generate_truth_table():\n",
    "    print(\"Truth Table for Logic Gates:\")\n",
    "    print(\"A B | AND OR NAND NOR XOR\")\n",
    "    for a in [0, 1]:\n",
    "        for b in [0, 1]:\n",
    "            print(f\"{a} {b} |  {AND_gate(a, b)}   {OR_gate(a, b)}    {NAND_gate(a, b)}    {NOR_gate(a, b)}   {XOR_gate(a, b)}\")\n",
    "    \n",
    "    print(\"\\nTruth Table for NOT Gate:\")\n",
    "    print(\"A | NOT\")\n",
    "    for a in [0, 1]:\n",
    "        print(f\"{a} |  {NOT_gate(a)}\")\n",
    "\n",
    "generate_truth_table()"
   ]
  },
  {
   "cell_type": "code",
   "execution_count": 18,
   "metadata": {
    "vscode": {
     "languageId": "javascript"
    }
   },
   "outputs": [
    {
     "data": {
      "application/javascript": "public class LogicGateSimulator {\n\n    // Logic Gate Functions\n    public static int AND_gate(int a, int b) {\n        return a & b;\n    }\n\n    public static int OR_gate(int a, int b) {\n        return a | b;\n    }\n\n    public static int NOT_gate(int a) {\n        return (a == 1) ? 0 : 1;\n    }\n\n    public static int NAND_gate(int a, int b) {\n        return NOT_gate(AND_gate(a, b));\n    }\n\n    public static int NOR_gate(int a, int b) {\n        return NOT_gate(OR_gate(a, b));\n    }\n\n    public static int XOR_gate(int a, int b) {\n        return a ^ b;\n    }\n\n    public static void generateTruthTable() {\n        System.out.println(\"Truth Table for Logic Gates:\");\n        System.out.println(\"A B | AND OR NAND NOR XOR\");\n        for (int a = 0; a <= 1; a++) {\n            for (int b = 0; b <= 1; b++) {\n                System.out.printf(\"%d %d |  %d   %d    %d    %d   %d\\n\", \n                    a, b, AND_gate(a, b), OR_gate(a, b), NAND_gate(a, b), NOR_gate(a, b), XOR_gate(a, b));\n            }\n        }\n        \n        System.out.println(\"\\nTruth Table for NOT Gate:\");\n        System.out.println(\"A | NOT\");\n        for (int a = 0; a <= 1; a++) {\n            System.out.printf(\"%d |  %d\\n\", a, NOT_gate(a));\n        }\n    }\n\n    public static void main(String[] args) {\n        generateTruthTable();\n    }\n}\n",
      "text/plain": [
       "<IPython.core.display.Javascript object>"
      ]
     },
     "metadata": {},
     "output_type": "display_data"
    }
   ],
   "source": [
    "%%js\n",
    "public class LogicGateSimulator {\n",
    "\n",
    "    // Logic Gate Functions\n",
    "    public static int AND_gate(int a, int b) {\n",
    "        return a & b;\n",
    "    }\n",
    "\n",
    "    public static int OR_gate(int a, int b) {\n",
    "        return a | b;\n",
    "    }\n",
    "\n",
    "    public static int NOT_gate(int a) {\n",
    "        return (a == 1) ? 0 : 1;\n",
    "    }\n",
    "\n",
    "    public static int NAND_gate(int a, int b) {\n",
    "        return NOT_gate(AND_gate(a, b));\n",
    "    }\n",
    "\n",
    "    public static int NOR_gate(int a, int b) {\n",
    "        return NOT_gate(OR_gate(a, b));\n",
    "    }\n",
    "\n",
    "    public static int XOR_gate(int a, int b) {\n",
    "        return a ^ b;\n",
    "    }\n",
    "\n",
    "    public static void generateTruthTable() {\n",
    "        System.out.println(\"Truth Table for Logic Gates:\");\n",
    "        System.out.println(\"A B | AND OR NAND NOR XOR\");\n",
    "        for (int a = 0; a <= 1; a++) {\n",
    "            for (int b = 0; b <= 1; b++) {\n",
    "                System.out.printf(\"%d %d |  %d   %d    %d    %d   %d\\n\", \n",
    "                    a, b, AND_gate(a, b), OR_gate(a, b), NAND_gate(a, b), NOR_gate(a, b), XOR_gate(a, b));\n",
    "            }\n",
    "        }\n",
    "        \n",
    "        System.out.println(\"\\nTruth Table for NOT Gate:\");\n",
    "        System.out.println(\"A | NOT\");\n",
    "        for (int a = 0; a <= 1; a++) {\n",
    "            System.out.printf(\"%d |  %d\\n\", a, NOT_gate(a));\n",
    "        }\n",
    "    }\n",
    "\n",
    "    public static void main(String[] args) {\n",
    "        generateTruthTable();\n",
    "    }\n",
    "}"
   ]
  }
 ],
 "metadata": {
  "kernelspec": {
   "display_name": "venv",
   "language": "python",
   "name": "python3"
  },
  "language_info": {
   "codemirror_mode": {
    "name": "ipython",
    "version": 3
   },
   "file_extension": ".py",
   "mimetype": "text/x-python",
   "name": "python",
   "nbconvert_exporter": "python",
   "pygments_lexer": "ipython3",
   "version": "3.12.3"
  }
 },
 "nbformat": 4,
 "nbformat_minor": 2
}
