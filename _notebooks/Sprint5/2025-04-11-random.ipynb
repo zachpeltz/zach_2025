{
 "cells": [
  {
   "cell_type": "markdown",
   "metadata": {},
   "source": [
    "---\n",
    "layout: post\n",
    "title: Random Algorithms and Simulations/Games\n",
    "description: Random Algorithms HW and Popcorn Hacks\n",
    "type: issues\n",
    "comments: true\n",
    "---"
   ]
  },
  {
   "cell_type": "markdown",
   "metadata": {},
   "source": [
    "### Popcorn Hack 2:"
   ]
  },
  {
   "cell_type": "code",
   "execution_count": null,
   "metadata": {},
   "outputs": [
    {
     "name": "stdout",
     "output_type": "stream",
     "text": [
      "Magic 8-Ball says: Ask again later\n",
      "Magic 8-Ball says: Yes\n",
      "Magic 8-Ball says: Yes\n",
      "Magic 8-Ball says: Yes\n",
      "Magic 8-Ball says: Ask again later\n",
      "Magic 8-Ball says: Yes\n",
      "Magic 8-Ball says: Yes\n",
      "Magic 8-Ball says: Yes\n",
      "Magic 8-Ball says: No\n",
      "Magic 8-Ball says: Ask again later\n"
     ]
    }
   ],
   "source": [
    "import random\n",
    "\n",
    "def magic_8_ball():\n",
    "    spin = random.randint(1, 4)  \n",
    "    if spin <= 2:\n",
    "        return \"Yes\"\n",
    "    elif spin == 3:\n",
    "        return \"No\"\n",
    "    else:\n",
    "        return \"Ask again later\"\n",
    "\n",
    "# Test\n",
    "for i in range(10):\n",
    "    print(f\"Magic 8-Ball says: {magic_8_ball()}\")\n"
   ]
  },
  {
   "cell_type": "markdown",
   "metadata": {},
   "source": [
    "### Popcorn Hack 3:"
   ]
  },
  {
   "cell_type": "code",
   "execution_count": null,
   "metadata": {},
   "outputs": [
    {
     "name": "stdout",
     "output_type": "stream",
     "text": [
      "Time 0: Green\n",
      "Time 1: Green\n",
      "Time 2: Green\n",
      "Time 3: Green\n",
      "Time 4: Green\n",
      "Time 5: Yellow\n",
      "Time 6: Yellow\n",
      "Time 7: Red\n",
      "Time 8: Red\n",
      "Time 9: Red\n",
      "Time 10: Red\n",
      "Time 11: Green\n",
      "Time 12: Green\n",
      "Time 13: Green\n",
      "Time 14: Green\n",
      "Time 15: Green\n",
      "Time 16: Yellow\n",
      "Time 17: Yellow\n",
      "Time 18: Red\n",
      "Time 19: Red\n"
     ]
    }
   ],
   "source": [
    "states = [\"Green\", \"Yellow\", \"Red\"]\n",
    "durations = {\"Green\": 5, \"Yellow\": 2, \"Red\": 4}\n",
    "timeline = []\n",
    "\n",
    "time = 0\n",
    "state = \"Green\"\n",
    "counter = 0\n",
    "\n",
    "while time < 20:\n",
    "    timeline.append((time, state))\n",
    "    counter += 1\n",
    "    if counter == durations[state]:\n",
    "        counter = 0\n",
    "        current_index = states.index(state)\n",
    "        state = states[(current_index + 1) % len(states)]\n",
    "    time += 1\n",
    "\n",
    "for t, s in timeline:\n",
    "    print(f\"Time {t}: {s}\")\n"
   ]
  },
  {
   "cell_type": "markdown",
   "metadata": {},
   "source": [
    "- #### This is a simulation because it models how a traffic light behaves over time in a system using fixed logic\n",
    "- #### Its real-world impact could include helping city planners design traffic flow to improve the safety of its citizens"
   ]
  },
  {
   "cell_type": "markdown",
   "metadata": {},
   "source": [
    "### Homework Hack 1:"
   ]
  },
  {
   "cell_type": "code",
   "execution_count": 12,
   "metadata": {},
   "outputs": [
    {
     "name": "stdout",
     "output_type": "stream",
     "text": [
      "Welcome to the Dice Game!\n",
      "Rolled: 6 + 2 = 8\n",
      "Point is set to: 8\n",
      "Rolled: 3 + 5 = 8\n",
      "You rolled the point! You win!\n",
      "Stats → Wins: 1, Losses: 0\n",
      "Rolled: 3 + 3 = 6\n",
      "Point is set to: 6\n",
      "Rolled: 4 + 5 = 9\n",
      "Rolled: 3 + 2 = 5\n",
      "Rolled: 3 + 4 = 7\n",
      "You rolled a 7! You lose!\n",
      "Stats → Wins: 1, Losses: 1\n",
      "Rolled: 2 + 5 = 7\n",
      "You win!\n",
      "Stats → Wins: 2, Losses: 1\n",
      "Rolled: 2 + 3 = 5\n",
      "Point is set to: 5\n",
      "Rolled: 5 + 1 = 6\n",
      "Rolled: 1 + 2 = 3\n",
      "Rolled: 4 + 5 = 9\n",
      "Rolled: 3 + 6 = 9\n",
      "Rolled: 6 + 1 = 7\n",
      "You rolled a 7! You lose!\n",
      "Stats → Wins: 2, Losses: 2\n",
      "Final Stats → Wins: 2, Losses: 2\n"
     ]
    }
   ],
   "source": [
    "import random\n",
    "\n",
    "def roll_dice():\n",
    "    \"\"\"Roll two dice and return their values and sum.\"\"\"\n",
    "    die1 = random.randint(1, 6)\n",
    "    die2 = random.randint(1, 6)\n",
    "    total = die1 + die2\n",
    "    print(f\"Rolled: {die1} + {die2} = {total}\")\n",
    "    return total\n",
    "\n",
    "def play_dice_game():\n",
    "    \"\"\"\n",
    "    Play one round of the dice game.\n",
    "    Returns True if player wins, False if player loses.\n",
    "    \"\"\"\n",
    "    point = roll_dice()\n",
    "\n",
    "    if point in [7, 11]:\n",
    "        print(\"You win!\")\n",
    "        return True\n",
    "    elif point in [2, 3, 12]:\n",
    "        print(\"You lose!\")\n",
    "        return False\n",
    "    else:\n",
    "        print(f\"Point is set to: {point}\")\n",
    "        while True:\n",
    "            roll = roll_dice()\n",
    "            if roll == point:\n",
    "                print(\"You rolled the point! You win!\")\n",
    "                return True\n",
    "            elif roll == 7:\n",
    "                print(\"You rolled a 7! You lose!\")\n",
    "                return False\n",
    "\n",
    "def main():\n",
    "    \"\"\"Main game function with game loop and statistics.\"\"\"\n",
    "    wins = 0\n",
    "    losses = 0\n",
    "    \n",
    "    while True:\n",
    "        choice = input(\"Play a round? (y/n): \").lower()\n",
    "        if choice == 'y':\n",
    "            result = play_dice_game()\n",
    "            if result:\n",
    "                wins += 1\n",
    "            else:\n",
    "                losses += 1\n",
    "            print(f\"Stats → Wins: {wins}, Losses: {losses}\")\n",
    "        elif choice == 'n':\n",
    "            print(f\"Final Stats → Wins: {wins}, Losses: {losses}\")\n",
    "            break\n",
    "        else:\n",
    "            print(\"Please enter 'y' or 'n'.\")\n",
    "\n",
    "if __name__ == \"__main__\":\n",
    "    print(\"Welcome to the Dice Game!\")\n",
    "    main()\n"
   ]
  }
 ],
 "metadata": {
  "kernelspec": {
   "display_name": "venv",
   "language": "python",
   "name": "python3"
  },
  "language_info": {
   "codemirror_mode": {
    "name": "ipython",
    "version": 3
   },
   "file_extension": ".py",
   "mimetype": "text/x-python",
   "name": "python",
   "nbconvert_exporter": "python",
   "pygments_lexer": "ipython3",
   "version": "3.12.3"
  }
 },
 "nbformat": 4,
 "nbformat_minor": 2
}
