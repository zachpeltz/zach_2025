{
 "cells": [
  {
   "cell_type": "code",
   "execution_count": null,
   "metadata": {
    "vscode": {
     "languageId": "yaml"
    }
   },
   "outputs": [],
   "source": [
    "---\n",
    "toc: true\n",
    "comments: false\n",
    "layout: post\n",
    "title: Data | Binary Logic\n",
    "categories: [CSP Big Idea 2]\n",
    "description: This is a mini project, warming up to CPT guidelines.  Read this to article and starrt developing ideas for your Binary Logic requirements.  Real binary abstractions include ASCII, Unicode, RGB Colors, Images,Logic Gates, etc.\n",
    "courses: { csp: {week: 17} }\n",
    "type: ccc\n",
    "---"
   ]
  },
  {
   "cell_type": "markdown",
   "metadata": {},
   "source": [
    "## Introduction\n",
    "\n",
    "Algorithms, Data, Data Structures, and Visualization can go together.  This blog is a collection of binary, data and data structures and could be a great CPT practice project, if combined with visualization."
   ]
  },
  {
   "cell_type": "markdown",
   "metadata": {},
   "source": [
    "## Binary Calculator\n",
    "\n",
    "Obtain code form teacher_portfolio project.\n",
    "\n",
    "This UI helps illustrate binary and decimal.  Often, the learn concepts, it is best to code an example to help understand what is happening.\n",
    "\n",
    "- **Tour [Binary Frontend Code](https://nighthawkcoders.github.io/teacher_portfolio/c4.4/2023/09/14/javascript-binary-U2-1.html)*** to get you started.\n",
    "\n",
    "- Make a new operation in the Calculator called Shift\n",
    "    - Right Shifts (divides by 2^n)\n",
    "    - Left Shifts (multiplies by 2^n)\n",
    "    - Add buttons for  \"<<\"   and  \" >>\"\n",
    "    - In an arithmetic shift, the bits that are shifted out of view are discarded \n",
    "\n",
    "![shift]({{site.baseurl}}/images/binary/binary_shift.png)\n",
    "![shift]({{site.baseurl}}/images/binary/logic_of_shift.png)"
   ]
  },
  {
   "cell_type": "markdown",
   "metadata": {},
   "source": [
    "## Math in Binary\n",
    "\n",
    "Learn binary, bitwise operators, and more. \n",
    "\n",
    "- Shifting bits is a common computer operation and does wonderful things in math like multiply and divide.  \n",
    "- Least Significant Bit (SB) always determines if binary numbers is odd or even.\n",
    "- Look for shift on [w3schools](https://www.w3schools.com/js/js_bitwise.asp)\n"
   ]
  },
  {
   "cell_type": "markdown",
   "metadata": {},
   "source": [
    "## Understand binary digits in Numbers (2^^0, 2^^1, 2^^2)\n",
    "\n",
    "How does the Power of 2 work?  What is a binary number?  What is Base2, Base10, Base16.\n",
    "\n",
    "- This example uses an 8-bit register.  Math can be represented in much in many more bits, 32 bits or 2 bytes is common for integer in modern computer languages.\n",
    "- Most Significant Bit (MSB).  This example shows negative and positive numbers, using technique called Twos Complement.\n",
    "![shift]({{site.baseurl}}/images/binary/elaboration_of_shift.png)"
   ]
  },
  {
   "cell_type": "markdown",
   "metadata": {},
   "source": [
    "## ASCII and Unicode\n",
    "\n",
    "Computers represent more than Math.  Mostly everyone is familiar with the characters on a keyboard and Emojis.  These are all represented in binary, the data abstraction being the characters we visualize. 😂\n",
    "\n",
    "### Character Data Abstraction\n",
    "\n",
    "How are characters stored?  How many bits do they take?  \n",
    "\n",
    "- ASCII is 8 bits, it generally represent keys on keyboard.  Look up ASCII Table.\n",
    "- Unicode can be UTF-8, 16 or 32, each representing bits.  ASCII is preserved in Unicode.\n",
    "- ASCII - 7 bits, extended to 8 bits with Unicode\n",
    "- UTF-8\n",
    "- UTF-16\n",
    "- UTF-32\n",
    "![unicode]({{site.baseurl}}/images/binary/sample_unicode.png)\n",
    "*Sample of Unicode characters.*\n",
    "\n",
    "### Character Concept/Design\n",
    "\n",
    "The ASCII value in picture should be changed based off of the bits in evaluation you are doing.  Bits displayed, label, and evaluation would be specific to evaluation type:\n",
    "![ascii]({{site.baseurl}}/images/binary/ascii_label.png)\n",
    "*Original ASCII*"
   ]
  },
  {
   "cell_type": "markdown",
   "metadata": {},
   "source": [
    "## Color Codes\n",
    "\n",
    "Pixels are little dots on Monitors and TVs that make up the display. Each pixel has an Red Green and Blue value (RGB).   All pictures we see or take are composed of RGB using a density measurement.  These are stored and then represented by digitally or in print.\n",
    "\n",
    "- Monitors\n",
    "  - 1280 x 1024 Super-eXtended Graphics Array (SXGA)\n",
    "  - 1366 x 768 High Definition (HD)\n",
    "  - 1600 x 900 High Definition Plus (HD+)\n",
    "  - 1920 x 1080 Full High Definition (FHD)\n",
    "  - 1920 x 1200 Wide Ultra Extended Graphics Array (WUXGA)\n",
    "- TVs\n",
    "  - 4K Ultra HD: The term 4K means the screen is about 4,000 pixels wide. ...\n",
    "  - 1080p (Full HD): This resolution is 1,920 x 1,080 pixels. ...\n",
    "  - 720p (HD Ready): This is mostly found on smaller TVs, and it has a resolution of 1,280 x 720.\n",
    "- Camera\n",
    "|Sensor Resolution (megapixels)|Typical Image Resolution (pixels)|\n",
    "|2.16|1800 x 1200|\n",
    "|3.9|2272 x 1704|\n",
    "|5.0|2592 x 1944|\n",
    "|7.1|3072 x 2304|\n",
    "|8.0|3264 x 2448|\n",
    "|10.0|3648 x 2736|\n",
    "|12.1|4000 x 3000|\n",
    "|14.7|4416 x 3312|\n",
    "|21.0|5616 x 3744|\n",
    "\n",
    "### A Color code is a 24 bit abstraction\n",
    "\n",
    "There are 8 bits for Red, 8 bits for Blue, and 8 bits for Green.\n",
    "\n",
    "|Name|Hex Code|RGB Code|\n",
    "|Black|#000000|rgb(0, 0, 0)|\n",
    "|Red|#FF0000|rgb(255, 0, 0)|\n",
    "|Maroon|#800000|rgb(128, 0, 0)|\n",
    "|Yellow|#FFFF00|rgb(255, 255, 0)|\n",
    "\n",
    "![color]({{site.baseurl}}/images/binary/color_code.png)\n",
    "*255 * 255 * 255 combinations of R, G, B*\n",
    "\n",
    "### Color UI Design\n",
    ">\n",
    "> Here is a sample program a student used to visualize color by turning buttons on and off.\n",
    "![color]({{site.baseurl}}/images/binary/color_block.png)\n",
    "*by Anthony Vo*\n",
    "3 rows representing R, G, B\n",
    "Resulting color displayed in block\n"
   ]
  },
  {
   "cell_type": "markdown",
   "metadata": {},
   "source": [
    "## Logic Gates\n",
    "\n",
    "The fundamentals of all decisions in computers is made by logic gates.  These gates are visualized by permuting 1 and 0 across many different types of decisions.  The result is an expression that evaluated to 1 or 0.   These are called Truth Tables.\n",
    "\n",
    "### Logic Gates can be simulated with 2 bits\n",
    "\n",
    "Look for bitwise operators on [w3schools](https://www.w3schools.com/js/js_bitwise.asp)\n",
    "\n",
    "### Logic UI Concept\n",
    "\n",
    "Visual concept of logic gates\n",
    "\n",
    "- Establish check boxes for A / B on and off\n",
    "- Show result of Boolean Expression using Gate visual\n",
    "![gates]({{site.baseurl}}/images/binary/logic_gates.png)\n",
    "*Logic Gates*\n",
    "\n",
    "### Logic UI Design\n",
    "\n",
    "Logic gate lab in JavaScript\n",
    "![gates]({{site.baseurl}}/images/binary/logic_gate_lab.png)\n",
    "*by Kylie Scharf*\n",
    "AB checkboxes with Submit button\n",
    "Table with Symbol, Description, and Result\n",
    "\n",
    "### Logic of Logic Gates\n",
    "\n",
    "A logic gate can have two inputs (a,b) and by how changing these inputs it impacts the output(c).\n",
    "\n",
    "- There are four possible inputs:\n",
    "  - 0 0\n",
    "  - 0 1\n",
    "  - 1 0\n",
    "  - 1 1\n",
    "- Understanding the output enables us to understand a logical expressions.  All outputs are routed in Logic Gates (similar to how a language is routed in Latin).\n",
    "  - AND is true for 1 1; NAND is true opposite of AND 0 0, 0 1, 1 0\n",
    "  - OR is true for 1 1, 0 1, 1 0, NOR is true opposite of OR 0 0\n",
    "  - XOR is true for 0 1, 1 0\n",
    "\n",
    "### Practical Application\n",
    "\n",
    "Logic gates are used everywhere\n",
    "![gates]({{site.baseurl}}/images/binary/logic_gate_application.png)\n"
   ]
  }
 ],
 "metadata": {
  "language_info": {
   "name": "python"
  }
 },
 "nbformat": 4,
 "nbformat_minor": 2
}
