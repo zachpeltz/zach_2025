{
 "cells": [
  {
   "attachments": {},
   "cell_type": "raw",
   "metadata": {
    "vscode": {
     "languageId": "raw"
    }
   },
   "source": [
    "---\n",
    "layout: post\n",
    "categories: [CSP Big Idea 2]\n",
    "title: Data Frames | Pandas | Intro 2\n",
    "description: This blog contains basic techniques for analyzing a dataset using the Python Pandas module.  Python is a primary language for data science and is useful for backend operations like analyzing and storing data.\n",
    "courses: { csp: {week: 25} }\n",
    "type: ccc\n",
    "author: Vardaan Sinha\n",
    "---"
   ]
  },
  {
   "attachments": {},
   "cell_type": "markdown",
   "metadata": {},
   "source": [
    "# An Introduction\n",
    "\n",
    "Interacting with data is something we do everyday, whether consciously or subconsciously. \n",
    "\n",
    "If you are interested into going into any field of STEM - whether it be the medical field, data science, or computer science, you will often be working with *large* datasets with tons of useful AND useless information. \n",
    "\n",
    "A skillset that is becoming increasingly important in these areas of work is the ability to effectively query and filter for data in large datasets and draw conclusions based on these filters. "
   ]
  },
  {
   "attachments": {},
   "cell_type": "markdown",
   "metadata": {},
   "source": [
    "# Pandas\n",
    "\n",
    "Pandas is a Python library that allows for the manipulation, querying, and filtering of data. \n",
    "\n",
    "Over time, it has become one of the most popular Python libraries for data analysis.\n",
    "\n",
    "Here is the documentation link: https://pandas.pydata.org/docs/\n",
    "\n"
   ]
  },
  {
   "attachments": {},
   "cell_type": "markdown",
   "metadata": {},
   "source": [
    "# Our Data\n",
    "\n",
    "Data is readable in many formats. As someone who is working with datasets, you should be able to recognize what formats are easiest to understand for you and for any program that you write. Here are two of the most common data formats:\n",
    "\n",
    "1. **JSON**: This is a standard file format that is very easy for humans and computers to read and write. It is a compact way to store data.\n",
    "\n",
    "2. **CSV**: These are *comma-separated value* files. This is where data has comma delimiters (separaters). \n",
    "\n",
    "\n",
    "For the purpose of this notebook, we'll use a **JSON file** containing data about the average income level in each of the 50 states in the USA (located in /assets/datasets/income.json)\n",
    "\n",
    "We will look to first understand and interpret the data ourselves and use Pandas and Numpy to provide insightful statistical information about the dataset that we may not be as easy to find by ourselves."
   ]
  },
  {
   "cell_type": "code",
   "execution_count": null,
   "metadata": {},
   "outputs": [],
   "source": [
    "# uncomment the following line to install the pandas library\n",
    "# !pip install pandas \n",
    "\n",
    "import pandas as pd \n",
    "\n",
    "# Use wget to obtain file, be sure to to place in _notebooks/files \n",
    "# wget https://raw.githubusercontent.com/nighthawkcoders/teacher_portfolio/main/_notebooks/files/income.json\n",
    "df = pd.read_json('data/income.json')\n",
    "\n",
    "# Add a new column that is the mean household income in dollars\n",
    "df[\"MeanHouseholdIncomeDollars\"] = df[\"MeanHouseholdIncome\"].apply(lambda n: \"${:,.2f}\".format(n))\n",
    "\n",
    "# display is alternative to print\n",
    "# ... it is a part of Jupyter Notebooks\n",
    "# ... it shows the dataframe as a nice table\n",
    "display(df)\n"
   ]
  },
  {
   "attachments": {},
   "cell_type": "markdown",
   "metadata": {},
   "source": [
    "## Dataset statistics\n",
    "> Let's find and display some statistics from the dataset..\n",
    "The dataframe is being described from the information for the column where applicable statistics are present. \n",
    "\n",
    "- The \"count\" statistic for example, is the number of not-empty cells in the mean household income column. \n",
    "- The mean is the average mean household income across all 50 states\n",
    "- The standard deviation is how much the values within the mean household income column deviate from the mean. \n",
    "\n",
    "It is important to note that in many more complex datasets, there will be multiple columns with explanatory data. In those cases, the df.describe() method will need to be specified based on a specific column. "
   ]
  },
  {
   "cell_type": "code",
   "execution_count": null,
   "metadata": {},
   "outputs": [],
   "source": [
    "# Use built in stats\n",
    "print(\"Statistical Summary of the Data\")\n",
    "display(df.describe())\n",
    "\n",
    "# Define a specific value from the dataframe\n",
    "# ... using the \"mean\" method (finds average) from the dataframen\n",
    "# ... in the [] brackets is a dataframe label describing what is to be computed\n",
    "dfmean = df[\"MeanHouseholdIncome\"].mean()\n",
    "\n",
    "# Format the mean household income\n",
    "# ... allows it to be formatted into a message\n",
    "# ... so that there is a dollar sign and commas in the number\n",
    "print(\"USA Mean Household Income: ${:,.2f}\".format(dfmean))"
   ]
  },
  {
   "cell_type": "markdown",
   "metadata": {},
   "source": [
    "### Dataframe sort, Household Income\n",
    "> In this example, analytical data is sorted."
   ]
  },
  {
   "cell_type": "code",
   "execution_count": null,
   "metadata": {},
   "outputs": [],
   "source": [
    "# Format the \"MeanHouseholdIncome\" column with commas as thousands separators and a dollar sign\n",
    "\n",
    "# Sort the DataFrame by the \"MeanHouseholdIncome\" column\n",
    "# ... in ascending order\n",
    "# ... purpose is to find best paying states\n",
    "# ... note, calculation are on unformatted numbers\n",
    "df = df.sort_values(by=\"MeanHouseholdIncome\", ascending=False)\n",
    "\n",
    "\n",
    "# Print the DataFrame\n",
    "# ... the display only the nicely formatted numbers\n",
    "display(df[df.columns.difference(['MeanHouseholdIncome'])]) "
   ]
  },
  {
   "attachments": {},
   "cell_type": "markdown",
   "metadata": {},
   "source": [
    "### Dataframe sort, State\n",
    "> In this example, categorical can be sorted."
   ]
  },
  {
   "cell_type": "code",
   "execution_count": null,
   "metadata": {},
   "outputs": [],
   "source": [
    "df.sort_values(by=\"State\")\n",
    "\n",
    "# The data is sorted alphabetically based on the \"State\" column.\n"
   ]
  },
  {
   "attachments": {},
   "cell_type": "markdown",
   "metadata": {},
   "source": [
    "## Conclusion\n",
    "\n",
    "What are the key takeaways from this lesson?\n",
    "\n",
    "The purpose is to obtain a basic understanding of working with a dataset, using Pandas dataframes. To obtain a more comprehensive understanding of Pandas capabilities, research operations such as filtering data based on certain criteria, grouping data, or performing calculations on multiple columns.  Additional work can be done with these Python modules (ie numpy, matplotlib). \n",
    "\n",
    "Explain each example briefly and provide a real-world scenario where such an operation would be useful.  Every dataset that you work with should have a purpose - that's what the field of data science is all about. \n",
    "\n",
    "For instance, in the Household income example, we analyzed a mean household income by state dataset. This could be applicable if someone wanted to find out where the most affordable place to live.\n",
    "\n",
    "- Find the minimum household income \n",
    "- Expand data to look at affordability of areas within state\n",
    "- Perhaps add other factors like employment in those areas"
   ]
  },
  {
   "cell_type": "markdown",
   "metadata": {},
   "source": [
    "\n",
    "## Additional Resources\n",
    "1. [Pandas Documentation](https://pandas.pydata.org/docs/)\n",
    "- This is an essential resource for learning about Pandas and its various functionalities. It provides detailed documentation, examples, and explanations of different methods and operations.\n",
    "2. [Data Science Applications](https://www.geeksforgeeks.org/major-applications-of-data-science/)\n",
    "- This resource provides an overview of major applications of data science across various domains. It can help students understand the practical implications of data analysis and how it is used in different industries.\n",
    "3. [Kaggle Datasets](https://www.kaggle.com/datasets)\n",
    "- Kaggle is a popular platform for data science and machine learning. It offers a wide range of datasets for practice and exploration. Students can find interesting datasets on different topics to apply their Pandas learning and gain hands-on experience.\n",
    "4. [NumPy Documentation](https://numpy.org/doc/)\n",
    "- NumPy is another important Python library often used in conjunction with Pandas for numerical operations and scientific computing. The official NumPy documentation provides in-depth explanations and examples of working with arrays, mathematical functions, and more.\n",
    "5. [Matplotlib Documentation](https://matplotlib.org/stable/contents.html)\n",
    "- Matplotlib is a powerful data visualization library in Python. It allows students to create a wide range of plots and charts to visualize their data. The Matplotlib documentation offers comprehensive guidance on creating different types of visualizations, customizing plots, and using various plotting functions.\n",
    "By referring to these resources, students can further expand their knowledge and explore advanced topics in Pandas, NumPy, and data visualization."
   ]
  },
  {
   "attachments": {},
   "cell_type": "markdown",
   "metadata": {},
   "source": [
    "## Popcorn Hacks\n",
    "\n",
    "1. Find a CSV/JSON Dataset that is for your Teams Pilot City project. Refer to Kaggle Datasets mentioned above, or look for websites according to your topic.\n",
    "\n",
    "2. Try to show your Pandas learning by illustrating **5** different numerical analysis operations being done on the dataset. After showing each operation in a separate code block, add a sentence explaining what that operation is showing and what real-world implication it has. It is important to make sure that you are not only able to run code to analyze data, but also understand its implications.\n",
    "\n",
    "3. EXTRA: Research Matplotlib Documentation mentioned and implement a code block where you create a graph showing and visualize relationship in your chosen dataset. Then, add a sentence or two explaining what the relationship shows."
   ]
  }
 ],
 "metadata": {
  "kernelspec": {
   "display_name": "venv",
   "language": "python",
   "name": "python3"
  },
  "language_info": {
   "codemirror_mode": {
    "name": "ipython",
    "version": 3
   },
   "file_extension": ".py",
   "mimetype": "text/x-python",
   "name": "python",
   "nbconvert_exporter": "python",
   "pygments_lexer": "ipython3",
   "version": "3.12.5"
  },
  "orig_nbformat": 4
 },
 "nbformat": 4,
 "nbformat_minor": 2
}
