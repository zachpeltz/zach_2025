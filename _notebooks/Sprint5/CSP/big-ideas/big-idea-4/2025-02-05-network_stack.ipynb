{
 "cells": [
  {
   "cell_type": "raw",
   "metadata": {
    "vscode": {
     "languageId": "raw"
    }
   },
   "source": [
    "---\n",
    "layout: post\n",
    "toc: true\n",
    "categories: [CSP Big Idea 4]\n",
    "title: Network Stack | Frontend and Backend | HTTP and TCP/IP\n",
    "description: Frontend and Backend application applied to networking layers\n",
    "courses: { csp: { week: 21 } }\n",
    "type: collab \n",
    "---"
   ]
  },
  {
   "attachments": {},
   "cell_type": "markdown",
   "metadata": {},
   "source": [
    "## Network Stack \n",
    "The Networking Stack in a GitHub Pages → AWS EC2 Interaction\n",
    "\n",
    "When making an HTTP request using JavaScript's fetch method, several layers of the networking stack come into play. This blog applies to CSA (Computer Science \"A\") and CSP (Computer Science Principles) projects. The content applies to our application(s) setup, with GitHub Pages interacting with a backend Python or Java web application on AWS EC2.\n",
    "\n",
    "***Tools in Use***\n",
    "- ***Docker:*** Encapsulates the backend application for consistent deployment across environments.\n",
    "- ***Nginx:*** Manages TCP/IP traffic, load balancing, and routing to backend containers.\n",
    "- ***Certbot:*** Secures communication by managing SSL/TLS certificates for HTTPS.\n",
    "- ***SQL Database:*** Stores and retrieves data for CRUD operations.\n",
    "- ***JavaScript Fetch and Promise Handling:*** Enables asynchronous HTTP requests from the GitHub Pages frontend to the backend.\n",
    "- ***Python Flask API (RESTful):*** Provides the backend framework for handling HTTP requests, defining routes, and interacting with the database.\n",
    "- ***Java Spring API (RESTful):*** Similarly provides backend framework for HTTP requests."
   ]
  },
  {
   "cell_type": "markdown",
   "metadata": {},
   "source": [
    "### HTTP/DNS (Application Layer)\n",
    "The Application Layer is responsible for providing network services directly to end-user applications. It facilitates communication between software applications and the network.\n",
    "\n",
    "#### Frontend (GitHub Pages)\n",
    "The frontend uses fetch to make HTTP(S) requests to the backend. The domain name of the backend hosted on AWS EC2 is resolved to an IP address using DNS (Domain Name System). The HTTP request is formatted, specifying the method (e.g., GET, POST, PUT, DELETE), headers, and optional body (e.g., JSON payloads for CRUD operations).\n",
    "\n",
    "#### Backend (AWS EC2 with Docker)\n",
    "The backend application, running inside Docker containers, processes the request. For database operations:\n",
    "- **Create**: Inserts new records into the SQL database.\n",
    "- **Read**: Queries data.\n",
    "- **Update**: Modifies existing records.\n",
    "- **Delete**: Removes records.\n",
    "\n",
    "The backend constructs an HTTP response with a status code, headers, and an optional response body (e.g., JSON data).\n",
    "\n",
    "**Security**: Certbot ensures that HTTPS (secure HTTP) is enabled by managing SSL/TLS certificates, encrypting all communication."
   ]
  },
  {
   "cell_type": "markdown",
   "metadata": {},
   "source": [
    "~~~mermaid\n",
    "graph TD\n",
    "    subgraph ApplicationLayer\n",
    "        A1[HTTP/DNS]\n",
    "        A2[Frontend GitHub Pages]\n",
    "        A3[Backend AWS EC2]\n",
    "    end\n",
    "\n",
    "    subgraph TransportLayer\n",
    "        B1[TCP/UDP]\n",
    "        B2[Nginx]\n",
    "    end\n",
    "\n",
    "    subgraph NetworkLayer\n",
    "        C1[IP]\n",
    "        C2[Routing]\n",
    "    end\n",
    "\n",
    "    subgraph PhysicalLayer\n",
    "        D1[Ethernet/Wi-Fi/Fiber]\n",
    "        D2[Binary Signals]\n",
    "    end\n",
    "\n",
    "    ApplicationLayer --> TransportLayer\n",
    "    TransportLayer --> NetworkLayer\n",
    "    NetworkLayer --> PhysicalLayer\n",
    "~~~"
   ]
  },
  {
   "cell_type": "markdown",
   "metadata": {},
   "source": [
    "### TCP/UDP (Transport Layer)\n",
    "The Transport Layer is responsible for providing reliable data transfer services to the upper layers. It ensures that data is delivered accurately and in the correct sequence.\n",
    "\n",
    "#### Request\n",
    "HTTP(S) requests are transmitted using TCP (Transmission Control Protocol). Nginx handles incoming TCP traffic, routing it to the appropriate Docker container or application based on the request path. A three-way TCP handshake establishes a reliable connection between the client (browser) and the server.\n",
    "\n",
    "#### Response\n",
    "The HTTP response is sent back over the same TCP connection. TCP ensures the response is delivered accurately and in order."
   ]
  },
  {
   "cell_type": "markdown",
   "metadata": {},
   "source": [
    "### IP (Network Layer)\n",
    "The Network Layer is responsible for routing packets across network boundaries. It handles the logical addressing and routing of packets to ensure they reach their destination.\n",
    "\n",
    "#### Request\n",
    "TCP segments carrying the HTTP request are encapsulated into IP packets with source and destination IP addresses. The packets are routed through the internet via routers to the AWS EC2 server.\n",
    "\n",
    "#### Response\n",
    "The server’s IP address sends IP packets back to the client, carrying the HTTP response data.\n",
    "\n",
    "**AWS Infrastructure**: AWS handles routing and load balancing as needed within its data center."
   ]
  },
  {
   "cell_type": "markdown",
   "metadata": {},
   "source": [
    "### Physical Layer\n",
    "The Physical Layer is responsible for the transmission and reception of raw bit streams over a physical medium. It converts data into electrical, optical, or radio signals, which are representations of binary data (0s and 1s).\n",
    "\n",
    "\n",
    "#### Request & Response\n",
    "IP packets are converted into physical signals appropriate for the medium (e.g., Ethernet, Wi-Fi, or fiber optics). These signals, representing binary data, traverse physical infrastructure, including cables, wireless access points, and routers.\n",
    "\n",
    "This addition helps to clarify that the physical signals are essentially binary data being transmitted over various media."
   ]
  }
 ],
 "metadata": {
  "kernelspec": {
   "display_name": "venv",
   "language": "python",
   "name": "python3"
  },
  "language_info": {
   "codemirror_mode": {
    "name": "ipython",
    "version": 3
   },
   "file_extension": ".py",
   "mimetype": "text/x-python",
   "name": "python",
   "nbconvert_exporter": "python",
   "pygments_lexer": "ipython3",
   "version": "3.12.5"
  },
  "orig_nbformat": 4
 },
 "nbformat": 4,
 "nbformat_minor": 2
}
