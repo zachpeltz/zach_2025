{
 "cells": [
  {
   "cell_type": "markdown",
   "metadata": {},
   "source": [
    "---\n",
    "layout: post\n",
    "title: Final Review\n",
    "description: Final, N@TM, MCQ, and my contributions\n",
    "type: issues\n",
    "comments: true\n",
    "---"
   ]
  },
  {
   "cell_type": "markdown",
   "metadata": {},
   "source": [
    "### Drawing Board\n",
    "- The first thing I did was the drawing board, which allows users to be creative with whatever they draw to put on the gallery posts page. It has an eraser tool, marker, a variety of colors, undo and reset, and save drawing as a png. This was the first idea I created because our game is similar to skribbl.io where a user makes a drawing and people guess what the drawing is in a certain amount of time to receive points. "
   ]
  },
  {
   "cell_type": "markdown",
   "metadata": {},
   "source": [
    "- <a href=\"https://githubneos.github.io/scribble_frontend/index\" target=\"_blank\">Drawing Board</a>\n",
    "<img src=\"{{site.baseurl}}/images/Screenshot_2025-03-06_072026.png\" alt=\"Drawing Board\" width=\"600\" height=\"400\">"
   ]
  },
  {
   "cell_type": "markdown",
   "metadata": {},
   "source": [
    "### Posts Page\n",
    "- The second thing I did was creating a working API which allows the user to write their drawing name, a description of their drawing, and the image where they can upload for all users to see. This working API was needed to show my login feature and a way to collaborate with others."
   ]
  },
  {
   "cell_type": "markdown",
   "metadata": {},
   "source": [
    "- <a href=\"https://githubneos.github.io/scribble_frontend/posts\" target=\"_blank\">Posts Page</a>\n",
    "<img src=\"{{site.baseurl}}/images/Screenshot_2025-03-06_072731.png\" alt=\"Posts Page\" width=\"600\" height=\"400\">"
   ]
  },
  {
   "cell_type": "markdown",
   "metadata": {},
   "source": [
    "### Themes\n",
    "- My third task was to create custom themes for our pages, as we needed someone to style all the pages into a light, pastel theme that would work with a drawing website. I imported custom pastel themes for each page we had to make them stand out from one another."
   ]
  },
  {
   "cell_type": "markdown",
   "metadata": {},
   "source": [
    "- <a href=\"https://githubneos.github.io/scribble_frontend/index\" target=\"_blank\">Themes</a>\n",
    "<img src=\"{{site.baseurl}}/images/Screenshot_2025-03-06_073022.png\" alt=\"Themes\" width=\"600\" height=\"400\">"
   ]
  },
  {
   "cell_type": "markdown",
   "metadata": {},
   "source": [
    "### Burndown List\n",
    "- My fourth task was creating a burndown list of what I needed to finish, already accomplished, and what my team was currently working on. Our burndown list helps everyone know what they had to do in making our website compatible and interactive, and the steps we needed to take to create our site."
   ]
  },
  {
   "cell_type": "markdown",
   "metadata": {},
   "source": [
    "- <a href=\"https://github.com/users/Githubneos/projects/1/views/1\" target=\"_blank\">Kanban Board</a>\n",
    "- <a href=\"https://github.com/Githubneos/scribble_frontend/issues/24\" target=\"_blank\">Issue</a>\n",
    "<img src=\"{{site.baseurl}}/images/Screenshot_2025-03-06_073422.png\" alt=\"Kanban Board\" width=\"600\" height=\"400\">"
   ]
  },
  {
   "cell_type": "markdown",
   "metadata": {},
   "source": [
    "### Backend Developer and Frontend UX Engineer\n",
    "- My role in our team was a backend developer and a Frontend UX Engineer, which meant I worked with making our backend compatible with everyones pages and did the different SASS styles on everyones pages in multiple themes. These roles helped me work well within my team and get work both in the backend and frontend of our page. We also worked on separating who did the notes and other tasks like working on fetching the API and getting all those tasks to work aswell."
   ]
  },
  {
   "cell_type": "markdown",
   "metadata": {},
   "source": [
    "- <a href=\"https://github.com/Githubneos/scribble_frontend/issues/22\" target=\"_blank\">Notes</a>\n",
    "- <a href=\"https://github.com/Githubneos/scribble_frontend/issues/17\" target=\"_blank\">Issue</a>\n",
    "<img src=\"{{site.baseurl}}/images/Screenshot_2025-03-06_073836.png\" alt=\"Checklist Issue\" width=\"600\" height=\"400\">\n"
   ]
  }
 ],
 "metadata": {
  "language_info": {
   "name": "python"
  }
 },
 "nbformat": 4,
 "nbformat_minor": 2
}
