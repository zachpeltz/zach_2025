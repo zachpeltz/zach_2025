{
 "cells": [
  {
   "cell_type": "markdown",
   "id": "b9ff81f3",
   "metadata": {},
   "source": [
    "---\n",
    "layout: post\n",
    "title: Big O and Algorithmic Efficiency\n",
    "description: Big O and Algorithmic Efficiency HW and Popcorn Hacks\n",
    "type: issues\n",
    "comments: true\n",
    "---"
   ]
  },
  {
   "cell_type": "markdown",
   "id": "d94b81bd",
   "metadata": {},
   "source": [
    "### Popcorn Hack 2"
   ]
  },
  {
   "cell_type": "code",
   "execution_count": 1,
   "id": "154ae436",
   "metadata": {},
   "outputs": [
    {
     "name": "stdout",
     "output_type": "stream",
     "text": [
      "Testing with data size: 10000000\n",
      "Linear search: 3.914667 seconds\n",
      "Binary search: 0.000063 seconds\n",
      "Binary search is approximately 62194x faster\n"
     ]
    }
   ],
   "source": [
    "import time\n",
    "import random\n",
    "\n",
    "# Generate a large sorted list\n",
    "data_size = 10000000\n",
    "sorted_data = sorted(random.sample(range(100000000), data_size))\n",
    "\n",
    "# Target to find (worst case for linear search)\n",
    "target = sorted_data[-1]  # Last element\n",
    "\n",
    "# O(n) - Linear Search\n",
    "def linear_search(arr, target):\n",
    "    for i, element in enumerate(arr):\n",
    "        if element == target:\n",
    "            return i\n",
    "    return -1\n",
    "\n",
    "# O(log n) - Binary Search\n",
    "def binary_search(arr, target):\n",
    "    left, right = 0, len(arr) - 1\n",
    "    \n",
    "    while left <= right:\n",
    "        mid = (left + right) // 2\n",
    "        if arr[mid] == target:\n",
    "            return mid\n",
    "        elif arr[mid] < target:\n",
    "            left = mid + 1\n",
    "        else:\n",
    "            right = mid - 1\n",
    "    \n",
    "    return -1\n",
    "\n",
    "# Compare performance\n",
    "print(\"Testing with data size:\", data_size)\n",
    "\n",
    "start = time.time()\n",
    "linear_result = linear_search(sorted_data, target)\n",
    "linear_time = time.time() - start\n",
    "print(f\"Linear search: {linear_time:.6f} seconds\")\n",
    "\n",
    "start = time.time()\n",
    "binary_result = binary_search(sorted_data, target)\n",
    "binary_time = time.time() - start\n",
    "print(f\"Binary search: {binary_time:.6f} seconds\")\n",
    "\n",
    "print(f\"Binary search is approximately {linear_time/binary_time:.0f}x faster\")"
   ]
  },
  {
   "cell_type": "markdown",
   "id": "6da29a18",
   "metadata": {},
   "source": [
    "### 1) What is the time complexity of each algorithm?\n",
    "- #### Linear search has a time complexity of O(n) because it checks each element one by one until it finds the target\n",
    "- #### Binary search has a time complexity of O(log n) because it divides the search space in half with each step\n",
    "\n",
    "### 2) How many times faster is binary search than linear search?\n",
    "- #### Binary search is approximately 62,194 times faster than linear search in this test with 10 million elements\n",
    "\n",
    "### 3) What happens if you increase data_size to 20000000?\n",
    "- #### Linear search will take about twice as long, because it scales linearly with the size of the list\n",
    "- #### Binary search will only take a slightly longer time, since log base 2 of 20 million is only a bit more than of 10 million"
   ]
  }
 ],
 "metadata": {
  "kernelspec": {
   "display_name": "venv",
   "language": "python",
   "name": "python3"
  },
  "language_info": {
   "codemirror_mode": {
    "name": "ipython",
    "version": 3
   },
   "file_extension": ".py",
   "mimetype": "text/x-python",
   "name": "python",
   "nbconvert_exporter": "python",
   "pygments_lexer": "ipython3",
   "version": "3.12.3"
  }
 },
 "nbformat": 4,
 "nbformat_minor": 5
}
