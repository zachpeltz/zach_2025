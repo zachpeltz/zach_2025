{
 "cells": [
  {
   "cell_type": "markdown",
   "id": "b9ff81f3",
   "metadata": {},
   "source": [
    "---\n",
    "layout: post\n",
    "title: Big O and Algorithmic Efficiency\n",
    "description: Big O and Algorithmic Efficiency HW and Popcorn Hacks\n",
    "type: issues\n",
    "comments: true\n",
    "---"
   ]
  },
  {
   "cell_type": "markdown",
   "id": "d94b81bd",
   "metadata": {},
   "source": [
    "### Popcorn Hack 2"
   ]
  },
  {
   "cell_type": "code",
   "execution_count": 2,
   "id": "154ae436",
   "metadata": {},
   "outputs": [
    {
     "name": "stdout",
     "output_type": "stream",
     "text": [
      "Testing with data size: 10000000\n",
      "Linear search: 2.623466 seconds\n",
      "Binary search: 0.000368 seconds\n",
      "Binary search is approximately 7131x faster\n"
     ]
    }
   ],
   "source": [
    "import time\n",
    "import random\n",
    "\n",
    "# Generate a large sorted list\n",
    "data_size = 10000000\n",
    "sorted_data = sorted(random.sample(range(100000000), data_size))\n",
    "\n",
    "# Target to find (worst case for linear search)\n",
    "target = sorted_data[-1]  # Last element\n",
    "\n",
    "# O(n) - Linear Search\n",
    "def linear_search(arr, target):\n",
    "    for i, element in enumerate(arr):\n",
    "        if element == target:\n",
    "            return i\n",
    "    return -1\n",
    "\n",
    "# O(log n) - Binary Search\n",
    "def binary_search(arr, target):\n",
    "    left, right = 0, len(arr) - 1\n",
    "    \n",
    "    while left <= right:\n",
    "        mid = (left + right) // 2\n",
    "        if arr[mid] == target:\n",
    "            return mid\n",
    "        elif arr[mid] < target:\n",
    "            left = mid + 1\n",
    "        else:\n",
    "            right = mid - 1\n",
    "    \n",
    "    return -1\n",
    "\n",
    "# Compare performance\n",
    "print(\"Testing with data size:\", data_size)\n",
    "\n",
    "start = time.time()\n",
    "linear_result = linear_search(sorted_data, target)\n",
    "linear_time = time.time() - start\n",
    "print(f\"Linear search: {linear_time:.6f} seconds\")\n",
    "\n",
    "start = time.time()\n",
    "binary_result = binary_search(sorted_data, target)\n",
    "binary_time = time.time() - start\n",
    "print(f\"Binary search: {binary_time:.6f} seconds\")\n",
    "\n",
    "print(f\"Binary search is approximately {linear_time/binary_time:.0f}x faster\")"
   ]
  },
  {
   "cell_type": "markdown",
   "id": "6da29a18",
   "metadata": {},
   "source": [
    "### 1) What is the time complexity of each algorithm?\n",
    "- #### Linear search has a time complexity of O(n) because it checks each element one by one until it finds the target\n",
    "- #### Binary search has a time complexity of O(log n) because it divides the search space in half with each step\n",
    "\n",
    "### 2) How many times faster is binary search than linear search?\n",
    "- #### Binary search is approximately 62,194 times faster than linear search in this test with 10 million elements\n",
    "\n",
    "### 3) What happens if you increase data_size to 20000000?\n",
    "- #### Linear search will take about twice as long, because it scales linearly with the size of the list\n",
    "- #### Binary search will only take a slightly longer time, since log base 2 of 20 million is only a bit more than of 10 million"
   ]
  },
  {
   "cell_type": "markdown",
   "id": "cbbf34a7",
   "metadata": {},
   "source": [
    "### Homework Hack 1"
   ]
  },
  {
   "cell_type": "code",
   "execution_count": 3,
   "id": "0976da6c",
   "metadata": {},
   "outputs": [
    {
     "name": "stdout",
     "output_type": "stream",
     "text": [
      "Bubble Sort took 0.000965 seconds.\n",
      "Merge Sort took 0.000242 seconds.\n",
      "Merge Sort is faster.\n"
     ]
    }
   ],
   "source": [
    "import time\n",
    "import random\n",
    "\n",
    "# Bubble Sort\n",
    "def bubble_sort(arr):\n",
    "    n = len(arr)\n",
    "    for i in range(n):\n",
    "        for j in range(0, n-i-1):\n",
    "            if arr[j] > arr[j+1]:\n",
    "                arr[j], arr[j+1] = arr[j+1], arr[j]\n",
    "\n",
    "# Merge Sort\n",
    "def merge_sort(arr):\n",
    "    if len(arr) > 1:\n",
    "        mid = len(arr) // 2\n",
    "        left = arr[:mid]\n",
    "        right = arr[mid:]\n",
    "\n",
    "        merge_sort(left)\n",
    "        merge_sort(right)\n",
    "\n",
    "        i = j = k = 0\n",
    "        while i < len(left) and j < len(right):\n",
    "            if left[i] < right[j]:\n",
    "                arr[k] = left[i]\n",
    "                i += 1\n",
    "            else:\n",
    "                arr[k] = right[j]\n",
    "                j += 1\n",
    "            k += 1\n",
    "\n",
    "        while i < len(left):\n",
    "            arr[k] = left[i]\n",
    "            i += 1\n",
    "            k += 1\n",
    "        while j < len(right):\n",
    "            arr[k] = right[j]\n",
    "            j += 1\n",
    "            k += 1\n",
    "\n",
    "# Generate a list of 100 random numbers between 1 and 1000\n",
    "arr = random.sample(range(1, 1001), 100)\n",
    "\n",
    "# Time the Bubble Sort\n",
    "start_time = time.time()\n",
    "bubble_sort(arr.copy())\n",
    "bubble_time = time.time() - start_time\n",
    "\n",
    "# Time the Merge Sort\n",
    "start_time = time.time()\n",
    "merge_sort(arr.copy())\n",
    "merge_time = time.time() - start_time\n",
    "\n",
    "print(f\"Bubble Sort took {bubble_time:.6f} seconds.\")\n",
    "print(f\"Merge Sort took {merge_time:.6f} seconds.\")\n",
    "\n",
    "if bubble_time < merge_time:\n",
    "    print(\"Bubble Sort is faster.\")\n",
    "else:\n",
    "    print(\"Merge Sort is faster.\")"
   ]
  },
  {
   "cell_type": "markdown",
   "id": "d90564e0",
   "metadata": {},
   "source": [
    "### Merge Sort consistently outperforms Bubble Sort because Merge Sort is O(n log n), which is much faster than Bubble Sort's O(n^2) time complexity, especially for larger data sets"
   ]
  },
  {
   "cell_type": "code",
   "execution_count": 4,
   "id": "aaf714cd",
   "metadata": {},
   "outputs": [
    {
     "name": "stdout",
     "output_type": "stream",
     "text": [
      "Linear Search took 0.008154 seconds with 92575 comparisons.\n",
      "Binary Search took 0.000189 seconds with 16 comparisons.\n"
     ]
    }
   ],
   "source": [
    "import random\n",
    "import time\n",
    "\n",
    "# Linear Search\n",
    "def linear_search(arr, target):\n",
    "    count = 0\n",
    "    for i in range(len(arr)):\n",
    "        count += 1\n",
    "        if arr[i] == target:\n",
    "            return count\n",
    "    return -1\n",
    "\n",
    "# Binary Search\n",
    "def binary_search(arr, target):\n",
    "    left, right = 0, len(arr) - 1\n",
    "    count = 0\n",
    "    while left <= right:\n",
    "        count += 1\n",
    "        mid = (left + right) // 2\n",
    "        if arr[mid] == target:\n",
    "            return count\n",
    "        elif arr[mid] < target:\n",
    "            left = mid + 1\n",
    "        else:\n",
    "            right = mid - 1\n",
    "    return -1\n",
    "\n",
    "# Generate a sorted list of 100,000 numbers from 1 to 100,000\n",
    "arr = sorted(random.sample(range(1, 100001), 100000))\n",
    "\n",
    "# Pick a random target in the list\n",
    "target = random.choice(arr)\n",
    "\n",
    "# Time the Linear Search\n",
    "start_time = time.time()\n",
    "linear_comparisons = linear_search(arr, target)\n",
    "linear_time = time.time() - start_time\n",
    "\n",
    "# Time the Binary Search\n",
    "start_time = time.time()\n",
    "binary_comparisons = binary_search(arr, target)\n",
    "binary_time = time.time() - start_time\n",
    "\n",
    "print(f\"Linear Search took {linear_time:.6f} seconds with {linear_comparisons} comparisons.\")\n",
    "print(f\"Binary Search took {binary_time:.6f} seconds with {binary_comparisons} comparisons.\")"
   ]
  },
  {
   "cell_type": "markdown",
   "id": "62972529",
   "metadata": {},
   "source": [
    "### Binary Search is faster because it uses O(log n) time, reducing the number of comparisons significantly compared to Linear Search, which uses O(n) time \n",
    "### If the list is unsorted, Linear Search would still work, but Binary Search would fail as it assumes the list is sorted\n"
   ]
  }
 ],
 "metadata": {
  "kernelspec": {
   "display_name": "venv",
   "language": "python",
   "name": "python3"
  },
  "language_info": {
   "codemirror_mode": {
    "name": "ipython",
    "version": 3
   },
   "file_extension": ".py",
   "mimetype": "text/x-python",
   "name": "python",
   "nbconvert_exporter": "python",
   "pygments_lexer": "ipython3",
   "version": "3.12.3"
  }
 },
 "nbformat": 4,
 "nbformat_minor": 5
}
