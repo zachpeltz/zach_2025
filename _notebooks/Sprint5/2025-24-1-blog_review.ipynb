{
 "cells": [
  {
   "cell_type": "markdown",
   "metadata": {},
   "source": [
    "---\n",
    "layout: post\n",
    "title: Blog Review\n",
    "description: Blog Review and answers to questions/responses\n",
    "type: issues\n",
    "comments: true\n",
    "---"
   ]
  },
  {
   "cell_type": "markdown",
   "metadata": {},
   "source": [
    "Intro Requests for Review:\n",
    "Our group's program is a collaborative drawing game similar to Skribbl.io. It allows multiple users to join a game room, take turns drawing a given word, and have others guess the word based on the drawing. This fosters creativity, teamwork, and fun.\n",
    "My specific task is to implement the drawing pad feature. This feature allows users to draw on a canvas using various tools (e.g., pen, eraser, color picker) and have their drawings broadcasted in real-time to other players in the game room.\n",
    "\n",
    "Input/Output Requests:\n",
    "Demo ways to Input to your full stack feature\n",
    "Frontend: Users interact with the drawing pad using mouse or touch inputs to draw on the canvas.\n",
    "Backend: The drawing data (coordinates, color, tool type) is sent to the server via WebSocket or REST API.\n",
    "PI Request: When a user draws, the frontend sends the drawing data to the server.\n",
    "API Response: The server broadcasts the drawing data to all connected clients, updating their canvases in real-time.\n",
    "{\n",
    "  \"action\": \"draw\",\n",
    "  \"data\": {\n",
    "    \"x\": 100,\n",
    "    \"y\": 150,\n",
    "    \"color\": \"#000000\",\n",
    "    \"tool\": \"pen\"\n",
    "  }\n",
    "}\n",
    "{\n",
    "  \"status\": \"success\",\n",
    "  \"message\": \"Drawing data received\"\n",
    "}\n",
    "db_init: Initializes the database with necessary tables and default data.\n",
    "db_restore: Restores the database to a previous state using a backup file.\n",
    "db_backup: Creates a backup of the current database state for recovery purposes.\n",
    "\n",
    "List Requests: \n",
    "Lists: Used to store sequences of drawing actions.\n",
    "Dictionaries: Used to map user IDs to their drawing data.\n",
    "Database: Stores user information, game sessions, and drawing history.\n",
    "The API response data is received in JSON format and parsed into JavaScript objects. These objects are then used to update the DOM, specifically the canvas element, to reflect the drawing actions.\n",
    "We use SQLAlchemy to query the database and extract rows as Python lists. For example:\n",
    "\n",
    "Algorithmic Code Request:\n",
    "def process_drawing(self, drawing_data):\n",
    "    # Sequencing\n",
    "    for action in drawing_data:\n",
    "        # Selection\n",
    "        if action['tool'] == 'pen':\n",
    "            self.draw(action)\n",
    "        elif action['tool'] == 'eraser':\n",
    "            self.erase(action)\n",
    "Parameters: The body of the request contains drawing data (coordinates, color, tool type).\n",
    "Return Type: The function returns a JSON response using jsonify.\n",
    "\n",
    "Call to Algorithm Request: \n",
    "The fetch function sends a POST request to the /api/draw endpoint with the drawing data in the request body.\n",
    "The response is parsed as JSON and logged to the console. The data can be used to update the UI or handle errors.\n",
    "By changing the drawing data or the request method, the server can return different responses based on the validity and type of the request.\n",
    "\n"
   ]
  }
 ],
 "metadata": {
  "language_info": {
   "name": "python"
  }
 },
 "nbformat": 4,
 "nbformat_minor": 2
}
