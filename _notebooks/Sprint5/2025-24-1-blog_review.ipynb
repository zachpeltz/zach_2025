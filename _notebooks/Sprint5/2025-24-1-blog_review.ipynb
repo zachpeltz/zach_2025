{
 "cells": [
  {
   "cell_type": "markdown",
   "metadata": {},
   "source": [
    "---\n",
    "layout: post\n",
    "title: Blog Review\n",
    "description: Blog Review and answers to questions/responses\n",
    "type: issues\n",
    "comments: true\n",
    "---"
   ]
  },
  {
   "cell_type": "markdown",
   "metadata": {},
   "source": [
    "Intro Requests for Review:\n",
    "\n",
    "Input/Output"
   ]
  }
 ],
 "metadata": {
  "language_info": {
   "name": "python"
  }
 },
 "nbformat": 4,
 "nbformat_minor": 2
}
