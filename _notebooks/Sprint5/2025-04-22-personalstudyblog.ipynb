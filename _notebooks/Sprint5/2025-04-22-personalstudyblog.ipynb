{
 "cells": [
  {
   "cell_type": "markdown",
   "id": "7f827977",
   "metadata": {},
   "source": [
    "---\n",
    "layout: post\n",
    "title: Personal Study Blog\n",
    "description: My Personal Study Blog for AP Computer Science Principles\n",
    "type: issues\n",
    "comments: true\n",
    "---"
   ]
  },
  {
   "cell_type": "markdown",
   "id": "ae962990",
   "metadata": {},
   "source": [
    "### Ways to Personally Study for the AP CSP Test:\n",
    "1. MCQ (Multiple Choice Practice Exams)\n",
    "- I can retake questions I missed and explain why my answers are either incorrect or correct\n",
    "- I will compare scores between the 3 MCQs I took and see what topics I need to improve on\n",
    "- I can practice timing myself and pacing better for the real exam\n",
    "\n",
    "2. FRQ (Wrriten Response Practice)\n",
    "- I can practice writing full responses to prompts on AP Classroom\n",
    "- I should focus on the Big Ideas such as Algorithms or Data\n",
    "- Know that I need to explain my thought process thoroughly and have to hit every point on the rubric to do well\n",
    "\n",
    "3. Big Ideas/AP Daily Videos\n",
    "- On AP Classroom there are some videos such as on Binary, Conditionals and other topics I can rewatch\n",
    "- I will take notes on those videos\n",
    "- I will quiz myself on the topics\n",
    "- I will make sure to also use the notes and HW/Popcorn Hacks I took when we were taught the lessons\n",
    "- The notes I took on them will be very useful for remembering the important topics for the AP exams\n",
    "\n",
    "4. Vocab & Textbook Notes\n",
    "- I will make a cheat sheet of notes on vocab\n",
    "- I will write definitions and have examples for each\n",
    "- I can make flashcards either digital or physical and will memorize the topics\n",
    "\n",
    "5. AP Exam On-Demand Reviews & Scoring\n",
    "- I will use the AP Exam Review Sessions\n",
    "- These sessions are good for practice and I can compare them to my FRQ answers\n",
    "- Also need to practice scoring sample responses/find what will get me all the points by patterns or study strategies\n"
   ]
  },
  {
   "cell_type": "markdown",
   "id": "2dad8d91",
   "metadata": {},
   "source": [
    "### Scoring and Reflection\n",
    "- I scored a 62/70 on the MCQ which is my best yet out of the other 2 which I had scored a 56/66 and 51/67 on\n",
    "- I also had timed myself much better on this one doing it in 1:37:29 which was a question answered on average in 1:30 which is much better pacing than my other tests\n",
    "- Overall some of the skills I could have improved on looking at this were Random Values, Identifying & Correcting Errors, and Conditionals/Lists where I got most of my answers incorrect\n",
    "- By getting 8 questions wrong from these there is improvement as other questions I could have done better on and overall my skillset in these areas can be heavily improved \n",
    "- My strongest topics of Collaboration where I got 82% out of 11 questions and 100% out of 9 on Safe Computing I am very confident on which will help for the AP exam\n",
    "- Below I will show the problems I got wrong and how to fix them and identify why I was incorrect on them\n",
    "\n"
   ]
  },
  {
   "cell_type": "markdown",
   "id": "b60107ff",
   "metadata": {},
   "source": [
    "### MCQ Corrections\n",
    "<hr><br>\n",
    "<img src=\"{{site.baseurl}}/images/mcq.png\" alt=\"image1\" width=\"400\" height=\"400\">\n",
    "\n",
    "<img src=\"{{site.baseurl}}/images/q1.png\" alt=\"image2\" width=\"400\" height=\"400\">\n",
    "- This question I answered D but the answer was C because for each iteration of the loop the code segment rotates the robot left \n",
    "- I chose an option which at the start turns wrong way but then everything else would be right\n",
    "\n",
    "<img src=\"{{site.baseurl}}/images/q2.png\" alt=\"image3\" width=\"400\" height=\"400\">\n",
    "- This question I answered A but an invalid list of 0 is used\n",
    "- The right answer is C because as the procedure traverses and return true the procedure will return true and false appropriately\n",
    "\n",
    "<img src=\"{{site.baseurl}}/images/q3.png\" alt=\"image4\" width=\"400\" height=\"400\">\n",
    "- I answered A again but replacing line 9 with IF does not correct the error\n",
    "- The correct answer is replacing line 9 with ELSE because there are two calls to random for each iteration of loop instead of one\n",
    "\n",
    "<img src=\"{{site.baseurl}}/images/q4.png\" alt=\"image5\" width=\"400\" height=\"400\">\n",
    "- I answered D for this question but it is incorrect because this code segment removes the last element \n",
    "- Correct answer is C because it does everything in order of the list\n",
    "\n",
    "<img src=\"{{site.baseurl}}/images/q5.png\" alt=\"image6\" width=\"400\" height=\"400\">\n",
    "- I answered A and C but A is wrong because it shouldn't be removed \n",
    "- C was right but I needed to also answer B as it should be removed because it would end the process early\n",
    "\n",
    "<img src=\"{{site.baseurl}}/images/q6.png\" alt=\"image7\" width=\"400\" height=\"400\">\n",
    "- I answered C and D but C was wrong because the code segment doesn't work as intended due to the greater than 60 element\n",
    "- A was also right because it assigns 500 bonus points by default based on the values of the timer\n",
    "\n",
    "<img src=\"{{site.baseurl}}/images/q7.png\" alt=\"image8\" width=\"400\" height=\"400\">\n",
    "- I answered A and C but C was wrong because of a 1/4 chance of orange and a 1/2 chance of purple when I needed 3/8 for both of the two\n",
    "- D was the other correct answer as it has all the right numbers like A\n",
    "\n",
    "<img src=\"{{site.baseurl}}/images/q8.png\" alt=\"image9\" width=\"400\" height=\"400\">\n",
    "- I answered A & B but B was wrong because it removes the sixth element (20), the third (30), and the second (30) when it shouldn't have\n",
    "- Correct answers were A and C, C being because the code segment will iterate over MyList from right to left & doesn't contain any pairs"
   ]
  }
 ],
 "metadata": {
  "language_info": {
   "name": "python"
  }
 },
 "nbformat": 4,
 "nbformat_minor": 5
}
