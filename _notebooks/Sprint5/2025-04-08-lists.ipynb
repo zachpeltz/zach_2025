{
 "cells": [
  {
   "cell_type": "markdown",
   "metadata": {},
   "source": [
    "---\n",
    "layout: post\n",
    "title: Lists and Filtering Algorithms\n",
    "description: HW Hack for Lists/Filtering Algorithms\n",
    "type: issues\n",
    "comments: true\n",
    "---"
   ]
  },
  {
   "cell_type": "code",
   "execution_count": 13,
   "metadata": {},
   "outputs": [
    {
     "name": "stdout",
     "output_type": "stream",
     "text": [
      "['apple', 'banana', 'grape', 'cherry', 'elderberry', 'fig']\n"
     ]
    }
   ],
   "source": [
    "# Creats list of fruits\n",
    "fruits = [\"apple\", \"banana\", \"cherry\", \"date\", \"elderberry\"]\n",
    "\n",
    "# Adds item to end\n",
    "fruits.append(\"fig\")\n",
    "# Changes list \n",
    "\n",
    "# Inserts item at a certain spot\n",
    "fruits.insert(2, \"grape\")\n",
    "# Changes list again\n",
    "\n",
    "# Removes the first matching item\n",
    "fruits.remove(\"date\")\n",
    "# Changes list for last time\n",
    "\n",
    "# Prints updated/final list\n",
    "print(fruits)"
   ]
  },
  {
   "cell_type": "markdown",
   "metadata": {},
   "source": [
    "Explanations:\n",
    "- append() adds an item (\"fig\") to the end of the list.\n",
    "- insert() places an item (\"grape\") at the 2nd index of the list.\n",
    "- remove() removes the first occurrence of \"date\" from the list."
   ]
  },
  {
   "cell_type": "markdown",
   "metadata": {},
   "source": [
    "- Loop Type: for loop (used for iterating through all elements).\n",
    "- Structure: The loop will go through each item in the list and perform an action (e.g., printing each fruit)."
   ]
  },
  {
   "cell_type": "code",
   "execution_count": 14,
   "metadata": {},
   "outputs": [
    {
     "name": "stdout",
     "output_type": "stream",
     "text": [
      "apple\n",
      "banana\n",
      "grape\n",
      "cherry\n",
      "elderberry\n",
      "fig\n"
     ]
    }
   ],
   "source": [
    "# Traverses list and prints each food\n",
    "for fruit in fruits:\n",
    "    print(fruit)"
   ]
  },
  {
   "cell_type": "markdown",
   "metadata": {},
   "source": [
    "- The loop iterates through the fruits list one by one.\n",
    "- For each iteration, the current item is assigned to the variable fruit, which is then printed."
   ]
  },
  {
   "cell_type": "markdown",
   "metadata": {},
   "source": [
    "Steps:\n",
    "- Start with a list of fruits\n",
    "- Traverse through each fruit\n",
    "- Apply the condition (fruit length > 5)\n",
    "- Build a new list of fruits that meet the condition"
   ]
  },
  {
   "cell_type": "code",
   "execution_count": 15,
   "metadata": {},
   "outputs": [
    {
     "name": "stdout",
     "output_type": "stream",
     "text": [
      "        Fruit\n",
      "1      banana\n",
      "2      cherry\n",
      "4  elderberry\n"
     ]
    }
   ],
   "source": [
    "import pandas as pd\n",
    "\n",
    "# Creates dataframe with fruits\n",
    "data = {\"Fruit\": [\"apple\", \"banana\", \"cherry\", \"date\", \"elderberry\", \"fig\", \"grape\"]}\n",
    "df = pd.DataFrame(data)\n",
    "\n",
    "# Applies filter condition\n",
    "filtered_fruits = df[df[\"Fruit\"].str.len() > 5]\n",
    "\n",
    "# Shows filtered list\n",
    "print(filtered_fruits)"
   ]
  },
  {
   "cell_type": "markdown",
   "metadata": {},
   "source": [
    "- Created a DataFrame with a column Fruit containing fruit names\n",
    "- The condition .str.len() > 5 checks the length of each fruit name and filters those that are longer than 5 characters\n",
    "- The result is a new DataFrame with only the fruits that meet the condition"
   ]
  },
  {
   "cell_type": "markdown",
   "metadata": {},
   "source": [
    "Reflection:\n",
    "- Filtering algorithms and lists are used in real life to organize and analyze large amounts of data\n",
    "- For example, online shopping platforms use filters to show users only items that meet specific criteria, such as price range or size."
   ]
  }
 ],
 "metadata": {
  "kernelspec": {
   "display_name": "venv",
   "language": "python",
   "name": "python3"
  },
  "language_info": {
   "codemirror_mode": {
    "name": "ipython",
    "version": 3
   },
   "file_extension": ".py",
   "mimetype": "text/x-python",
   "name": "python",
   "nbconvert_exporter": "python",
   "pygments_lexer": "ipython3",
   "version": "3.12.3"
  }
 },
 "nbformat": 4,
 "nbformat_minor": 2
}
