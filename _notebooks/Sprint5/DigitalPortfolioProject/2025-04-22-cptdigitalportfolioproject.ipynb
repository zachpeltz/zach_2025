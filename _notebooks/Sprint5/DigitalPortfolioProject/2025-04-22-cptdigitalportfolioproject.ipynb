{
 "cells": [
  {
   "cell_type": "markdown",
   "id": "b077016f",
   "metadata": {},
   "source": [
    "---\n",
    "layout: post\n",
    "title: CPT Digital Portfolio Project\n",
    "description: CPT Final Code, Video, and Code Segments for PPR\n",
    "type: issues\n",
    "comments: true\n",
    "---"
   ]
  },
  {
   "cell_type": "markdown",
   "id": "6bf9cd81",
   "metadata": {},
   "source": [
    "### Overview\n",
    "- Create Performance Task (CPT) requirements for AP Computer Science Principles"
   ]
  },
  {
   "cell_type": "markdown",
   "id": "faeaa485",
   "metadata": {},
   "source": [
    "### Program Code (PC)"
   ]
  },
  {
   "cell_type": "code",
   "execution_count": 1,
   "id": "606473e0",
   "metadata": {},
   "outputs": [
    {
     "name": "stdout",
     "output_type": "stream",
     "text": [
      "Processed numbers: [6, 12]\n"
     ]
    }
   ],
   "source": [
    "user_input = input('Enter a number: ')\n",
    "\n",
    "numbers = [int(user_input), 2, 3, 4]\n",
    "\n",
    "\n",
    "def process_numbers(numbers, multiplier):\n",
    "    result = []\n",
    "    for num in numbers:\n",
    "        if num % 2 == 0:\n",
    "            result.append(num * multiplier)\n",
    "    return result\n",
    "\n",
    "output = process_numbers(numbers, 3)\n",
    "print('Processed numbers:', output)"
   ]
  },
  {
   "cell_type": "markdown",
   "id": "1c4223b1",
   "metadata": {},
   "source": [
    "### Video (V)\n",
    "- Needs to have input to my program, functionality shown and output"
   ]
  },
  {
   "cell_type": "markdown",
   "id": "36dfb4c9",
   "metadata": {},
   "source": [
    "### Personalized Project Reference (PPR)\n",
    "#### Capture and paste a code segment defining a procedure with the following:\n",
    "- A name and return type (if necessary)\n",
    "- Parameters affecting functionality\n",
    "- An algorithm with sequencing, selection, and iteration\n",
    "#### Then capture and paste a code segment showing where the procedure is called\n",
    "- How data is stored in a list and programs purpose"
   ]
  },
  {
   "cell_type": "code",
   "execution_count": 2,
   "id": "3a6f7463",
   "metadata": {},
   "outputs": [
    {
     "name": "stdout",
     "output_type": "stream",
     "text": [
      "Average grade: 84.33333333333333\n"
     ]
    }
   ],
   "source": [
    "def calculate_average(grades):\n",
    "    total = sum(grades)\n",
    "    count = len(grades)\n",
    "    return total / count\n",
    "\n",
    "grades = [85, 90, 78]\n",
    "average = calculate_average(grades)\n",
    "print('Average grade:', average)"
   ]
  },
  {
   "cell_type": "code",
   "execution_count": 3,
   "id": "363a1e10",
   "metadata": {},
   "outputs": [
    {
     "name": "stdout",
     "output_type": "stream",
     "text": [
      "Hello, Alice\n",
      "Hello, Bob\n",
      "Hello, Charlie\n"
     ]
    }
   ],
   "source": [
    "students = ['Alice', 'Bob', 'Charlie']\n",
    "\n",
    "for student in students:\n",
    "    print('Hello,', student)"
   ]
  }
 ],
 "metadata": {
  "kernelspec": {
   "display_name": "venv",
   "language": "python",
   "name": "python3"
  },
  "language_info": {
   "codemirror_mode": {
    "name": "ipython",
    "version": 3
   },
   "file_extension": ".py",
   "mimetype": "text/x-python",
   "name": "python",
   "nbconvert_exporter": "python",
   "pygments_lexer": "ipython3",
   "version": "3.12.3"
  }
 },
 "nbformat": 4,
 "nbformat_minor": 5
}
