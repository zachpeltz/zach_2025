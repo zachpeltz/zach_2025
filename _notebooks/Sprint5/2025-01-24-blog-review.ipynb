{
 "cells": [
  {
   "cell_type": "markdown",
   "metadata": {},
   "source": [
    "---\n",
    "layout: post\n",
    "title: Blog Review\n",
    "description: Blog Review and answers to questions/responses\n",
    "type: issues\n",
    "comments: true\n",
    "---"
   ]
  },
  {
   "cell_type": "markdown",
   "metadata": {},
   "source": [
    "## Intro Requests for Review:\n",
    "\n",
    "Our group's program is a collaborative drawing game similar to Skribbl.io. The game lets a user create a drawing and another person guessing the drawing with hints and using their creativity. This process promotes creativity, teamwork, and interaction among users. My specific contribution is the implementation of the **drawing pad feature**, which allows users to draw on a canvas, save their drawings, and interact with others in real-time.\n",
    "\n",
    "### Purpose of Our Group's Program:\n",
    "The overall aim of our game is to foster a fun, creative environment where users can both express themselves artistically and guess the artwork of others. By integrating a drawing pad feature, users can engage with the game actively, producing drawings that are then guessed by others.\n",
    "\n",
    "### Purpose of Our Individual Feature:\n",
    "My task involves building the **drawing board** where users can draw and create. The drawing board allows users to select colors, adjust brush sizes, erase strokes, and save their creations. These features work seamlessly with the backend to store and retrieve drawings in real-time."
   ]
  },
  {
   "cell_type": "markdown",
   "metadata": {},
   "source": [
    "### List Requests:\n",
    "Our application makes extensive use of lists and dictionaries to manage and manipulate data. For example, when retrieving data from the database, we often work with lists of rows and dictionaries representing columns. This allows us to efficiently handle and process large amounts of data."
   ]
  },
  {
   "cell_type": "code",
   "execution_count": null,
   "metadata": {},
   "outputs": [],
   "source": [
    "import sqlite3\n",
    "\n",
    "# Connect to the SQLite database\n",
    "conn = sqlite3.connect('example.db')\n",
    "c = conn.cursor()\n",
    "\n",
    "# Create a table\n",
    "c.execute('''\n",
    "CREATE TABLE IF NOT EXISTS users (\n",
    "    id INTEGER PRIMARY KEY,\n",
    "    name TEXT,\n",
    "    age INTEGER\n",
    ")\n",
    "''')\n",
    "\n",
    "# Insert some sample data\n",
    "c.execute(\"INSERT INTO users (name, age) VALUES ('Alice', 30)\")\n",
    "c.execute(\"INSERT INTO users (name, age) VALUES ('Bob', 25)\")\n",
    "c.execute(\"INSERT INTO users (name, age) VALUES ('Charlie', 35)\")\n",
    "conn.commit()\n",
    "\n",
    "# Retrieve data from the database\n",
    "c.execute('SELECT * FROM users')\n",
    "rows = c.fetchall()\n",
    "\n",
    "# Convert the rows to a list of dictionaries\n",
    "users = []\n",
    "for row in rows:\n",
    "    user = {\n",
    "        'id': row[0],\n",
    "        'name': row[1],\n",
    "        'age': row[2]\n",
    "    }\n",
    "    users.append(user)\n",
    "\n",
    "# Print the list of dictionaries\n",
    "for user in users:\n",
    "    print(user)\n",
    "\n",
    "# Close the connection\n",
    "conn.close()"
   ]
  },
  {
   "cell_type": "markdown",
   "metadata": {},
   "source": [
    "#### Formatting Response Data (JSON) from API into DOM:\n",
    "When we receive data from the API, it is typically in JSON format. We then parse this JSON data and dynamically update the DOM to reflect the new information. This ensures that our frontend is always in sync with the backend."
   ]
  },
  {
   "cell_type": "code",
   "execution_count": null,
   "metadata": {},
   "outputs": [],
   "source": [
    "# Makes the HTTP import requests\n",
    "import requests\n",
    "from flask import Flask, jsonify, render_template_string\n",
    "\n",
    "app = Flask(__name__)\n",
    "\n",
    "# API response\n",
    "users_data = [\n",
    "    {\"name\": \"Alice\", \"age\": 30},\n",
    "    {\"name\": \"Bob\", \"age\": 25},\n",
    "    {\"name\": \"Charlie\", \"age\": 35}\n",
    "]\n",
    "# Flask application, get function is called\n",
    "@app.route('/api/users')\n",
    "def get_users():\n",
    "    return jsonify(users_data)  # Return JSON response"
   ]
  },
  {
   "cell_type": "markdown",
   "metadata": {},
   "source": [
    "#### Queries from Database:\n",
    "We use SQLAlchemy, a third-party library, to perform queries on our database. This allows us to extract lists of rows and work with them in Python. For example, we might query all drawings for a specific user and then process this list to display the drawings on the frontend."
   ]
  },
  {
   "cell_type": "code",
   "execution_count": null,
   "metadata": {},
   "outputs": [],
   "source": [
    "from flask import Flask, jsonify\n",
    "from flask_sqlalchemy import SQLAlchemy\n",
    "\n",
    "app = Flask(__name__)\n",
    "\n",
    "# Configure the SQLAlchemy part of the app instance\n",
    "app.config['SQLALCHEMY_DATABASE_URI'] = 'sqlite:///drawings.db'\n",
    "app.config['SQLALCHEMY_TRACK_MODIFICATIONS'] = False\n",
    "\n",
    "# Create the SQLAlchemy db instance\n",
    "db = SQLAlchemy(app)\n",
    "\n",
    "# Define a model for the drawings table\n",
    "class Drawing(db.Model):\n",
    "    id = db.Column(db.Integer, primary_key=True)\n",
    "    user_id = db.Column(db.Integer, nullable=False)\n",
    "    drawing_data = db.Column(db.Text, nullable=False)\n",
    "\n",
    "# Create the database and the drawings table\n",
    "db.create_all()\n",
    "\n",
    "# Sample route to get all drawings for a specific user\n",
    "@app.route('/api/drawings/<int:user_id>')\n",
    "def get_drawings(user_id):\n",
    "    return jsonify(drawings_list)\n",
    "\n",
    "if __name__ == '__main__':\n",
    "    app.run(debug=True)"
   ]
  },
  {
   "cell_type": "markdown",
   "metadata": {},
   "source": [
    "#### Methods in Class:\n",
    "Our application includes several methods within classes to handle CRUD (Create, Read, Update, Delete) operations on database columns. These methods ensure that we can efficiently manage our data and keep it up-to-date. "
   ]
  },
  {
   "cell_type": "code",
   "execution_count": null,
   "metadata": {},
   "outputs": [],
   "source": [
    "from flask import Flask, request, jsonify\n",
    "from flask_sqlalchemy import SQLAlchemy\n",
    "\n",
    "app = Flask(__name__)\n",
    "\n",
    "# Configure the SQLAlchemy part of the app instance\n",
    "app.config['SQLALCHEMY_DATABASE_URI'] = 'sqlite:///items.db'\n",
    "app.config['SQLALCHEMY_TRACK_MODIFICATIONS'] = False\n",
    "\n",
    "# Create the SQLAlchemy db instance\n",
    "db = SQLAlchemy(app)\n",
    "\n",
    "# Define a model for the items table\n",
    "class Item(db.Model):\n",
    "    id = db.Column(db.Integer, primary_key=True)\n",
    "    name = db.Column(db.String(80), nullable=False)\n",
    "    description = db.Column(db.String(200), nullable=True)\n",
    "\n",
    "    \n",
    "\n",
    "# Create the database and the items table\n",
    "db.create_all()\n",
    "\n",
    "# Sample route to demonstrate CRUD operations\n",
    "@app.route('/api/items', methods=['POST'])\n",
    "def create_item():\n",
    "    return jsonify({'id': item.id, 'name': item.name, 'description': item.description})\n",
    "# Defubes riyte read by ID\n",
    "@app.route('/api/items/<int:item_id>', methods=['GET'])\n",
    "def read_item(item_id):\n",
    "    return jsonify({'error': 'Item not found'}), 404\n",
    "# Defines route updated by ID\n",
    "@app.route('/api/items/<int:item_id>', methods=['PUT'])\n",
    "def update_item(item_id):\n",
    "    return jsonify({'error': 'Item not found'}), 404\n",
    "# Deletes item by ID\n",
    "@app.route('/api/items/<int:item_id>', methods=['DELETE'])\n",
    "def delete_item(item_id):\n",
    "    return jsonify({'error': 'Item not found'}), 404\n",
    "# Checks if run correctly and starts application\n",
    "if __name__ == '__main__':\n",
    "    app.run(debug=True)"
   ]
  },
  {
   "cell_type": "markdown",
   "metadata": {},
   "source": [
    "### Algorithmic Code Request:\n",
    "Our API class includes methods to handle GET, POST, PUT, and DELETE requests. These methods are responsible for performing the necessary operations on the backend and returning the appropriate responses."
   ]
  },
  {
   "cell_type": "code",
   "execution_count": null,
   "metadata": {},
   "outputs": [],
   "source": [
    "from flask import Flask, request, jsonify\n",
    "\n",
    "app = Flask(__name__)\n",
    "\n",
    "# The database items \n",
    "items = []\n",
    "\n",
    "class API:\n",
    "    @staticmethod\n",
    "    @app.route('/api/items', methods=['GET'])\n",
    "    def get_items():\n",
    "        return jsonify(items)  # Return the list of items as a JSON response\n",
    "\n",
    "    @staticmethod\n",
    "    @app.route('/api/items', methods=['POST'])\n",
    "    def create_item():\n",
    "        return jsonify(item), 201  # Return the created item and a 201 Created status\n",
    "\n",
    "    @staticmethod\n",
    "    @app.route('/api/items/<int:item_id>', methods=['PUT'])\n",
    "    def update_item(item_id):\n",
    "        return jsonify({'error': 'Item not found'}), 404  # Return a 404 Not Found status if item is not found\n",
    "\n",
    "    @staticmethod\n",
    "    @app.route('/api/items/<int:item_id>', methods=['DELETE'])\n",
    "    def delete_item(item_id):\n",
    "        return jsonify({'message': 'Item deleted'})  # Return a success message\n",
    "\n",
    "if __name__ == '__main__':\n",
    "    app.run(debug=True)"
   ]
  },
  {
   "cell_type": "markdown",
   "metadata": {},
   "source": [
    "#### Method/Procedure in Class:\n",
    "One of our methods includes sequencing, selection, and iteration to process incoming requests. For example, when a user submits a drawing, we first validate the data (selection), then save it to the database (sequencing), and finally iterate over the list of connected users to broadcast the new drawing."
   ]
  },
  {
   "cell_type": "code",
   "execution_count": null,
   "metadata": {},
   "outputs": [],
   "source": [
    "from flask import Flask, request, jsonify\n",
    "from flask_sqlalchemy import SQLAlchemy\n",
    "\n",
    "app = Flask(__name__)\n",
    "\n",
    "# Configure the SQLAlchemy part of the app instance\n",
    "app.config['SQLALCHEMY_DATABASE_URI'] = 'sqlite:///drawings.db'\n",
    "app.config['SQLALCHEMY_TRACK_MODIFICATIONS'] = False\n",
    "\n",
    "# Create the SQLAlchemy db instance\n",
    "db = SQLAlchemy(app)\n",
    "\n",
    "# Define a model for the drawings table\n",
    "class Drawing(db.Model):\n",
    "    id = db.Column(db.Integer, primary_key=True)\n",
    "    user_id = db.Column(db.Integer, nullable=False)\n",
    "    drawing_data = db.Column(db.Text, nullable=False)\n",
    "\n",
    "# Create the database and the drawings table\n",
    "db.create_all()\n",
    "\n",
    "# Simulate a list of connected users\n",
    "connected_users = []\n",
    "\n",
    "class DrawingAPI:\n",
    "    @staticmethod\n",
    "    @app.route('/api/drawings', methods=['POST'])\n",
    "    def submit_drawing():\n",
    "        return jsonify({'message': 'Drawing submitted successfully', 'drawing_id': new_drawing.id}), 201\n",
    "\n",
    "if __name__ == '__main__':\n",
    "    app.run(debug=True)"
   ]
  },
  {
   "cell_type": "markdown",
   "metadata": {},
   "source": [
    "#### Parameters and Return Type:\n",
    "Our API methods typically accept a JSON body as a parameter and return a JSON response using the `jsonify` function. This ensures that our API is consistent and easy to work with."
   ]
  },
  {
   "cell_type": "code",
   "execution_count": null,
   "metadata": {},
   "outputs": [],
   "source": [
    "from flask import Flask, request, jsonify\n",
    "\n",
    "app = Flask(__name__)\n",
    "\n",
    "# Initializes an empty list and creates flask modules\n",
    "items = []\n",
    "\n",
    "class API:\n",
    "    @staticmethod\n",
    "    @app.route('/api/items', methods=['POST'])\n",
    "    def create_item():\n",
    "        return jsonify(item), 201  # 201 Created status\n",
    "\n",
    "    @staticmethod\n",
    "    @app.route('/api/items/<int:item_id>', methods=['GET'])\n",
    "    def get_item(item_id):\n",
    "        return jsonify(item)\n",
    "\n",
    "    @staticmethod\n",
    "    @app.route('/api/items/<int:item_id>', methods=['PUT'])\n",
    "    def update_item(item_id):\n",
    "        return jsonify(item)\n",
    "\n",
    "    @staticmethod\n",
    "    @app.route('/api/items/<int:item_id>', methods=['DELETE'])\n",
    "    def delete_item(item_id):\n",
    "        return jsonify({'message': 'Item deleted'})\n",
    "\n",
    "if __name__ == '__main__':\n",
    "    app.run(debug=True)"
   ]
  },
  {
   "cell_type": "markdown",
   "metadata": {},
   "source": [
    "### Call to Algorithm Request:\n",
    "When making a request to our API, we use the `fetch` function to send the request and handle the response. This allows us to interact with the backend and update the frontend based on the returned data."
   ]
  },
  {
   "cell_type": "code",
   "execution_count": null,
   "metadata": {},
   "outputs": [],
   "source": [
    "from flask import Flask, request, jsonify\n",
    "\n",
    "app = Flask(__name__)\n",
    "\n",
    "# Sample data to simulate a database\n",
    "items = [\n",
    "    {'id': 1, 'name': 'Item 1', 'description': 'Description 1'},\n",
    "    {'id': 2, 'name': 'Item 2', 'description': 'Description 2'}\n",
    "]\n",
    "\n",
    "@app.route('/api/items', methods=['GET'])\n",
    "def get_items():\n",
    "    return jsonify(items)\n",
    "\n",
    "if __name__ == '__main__':\n",
    "    app.run(debug=True)"
   ]
  },
  {
   "cell_type": "markdown",
   "metadata": {},
   "source": [
    "#### Handling Data:\n",
    "We handle the returned data by parsing the JSON response and updating the DOM accordingly. This ensures that our application remains responsive and provides real-time feedback to the user."
   ]
  },
  {
   "cell_type": "code",
   "execution_count": null,
   "metadata": {},
   "outputs": [],
   "source": [
    "from flask import Flask, request, jsonify\n",
    "\n",
    "app = Flask(__name__)\n",
    "\n",
    "# Simulates the database\n",
    "items = [\n",
    "    {'id': 1, 'name': 'Item 1', 'description': 'Description 1'},\n",
    "    {'id': 2, 'name': 'Item 2', 'description': 'Description 2'}\n",
    "]\n",
    "\n",
    "@app.route('/api/items', methods=['GET'])\n",
    "def get_items():\n",
    "    return jsonify(items)\n",
    "\n",
    "if __name__ == '__main__':\n",
    "    app.run(debug=True)"
   ]
  },
  {
   "cell_type": "markdown",
   "metadata": {},
   "source": [
    "#### Changing Data or Method:\n",
    "When we change the data or method, we handle different responses by checking the status code and message in the response. For example, if an error occurs, we display an error message to the user. This allows us to handle both normal and error conditions gracefully."
   ]
  },
  {
   "cell_type": "code",
   "execution_count": null,
   "metadata": {},
   "outputs": [],
   "source": [
    "from flask import Flask, request, jsonify\n",
    "\n",
    "app = Flask(__name__)\n",
    "\n",
    "# The database of items\n",
    "items = [\n",
    "    {'id': 1, 'name': 'Item 1', 'description': 'Description 1'},\n",
    "    {'id': 2, 'name': 'Item 2', 'description': 'Description 2'}\n",
    "]\n",
    "\n",
    "@app.route('/api/items', methods=['GET'])\n",
    "def get_items():\n",
    "    return jsonify(items)\n",
    "\n",
    "@app.route('/api/items', methods=['POST'])\n",
    "def create_item():\n",
    "    data = request.get_json()\n",
    "    if 'name' not in data or 'description' not in data:\n",
    "        return jsonify({'error': 'Invalid data'}), 400\n",
    "    \n",
    "    new_item = {\n",
    "        'id': len(items) + 1,\n",
    "        'name': data['name'],\n",
    "        'description': data['description']\n",
    "    }\n",
    "    items.append(new_item)\n",
    "    \n",
    "    return jsonify(new_item), 201\n",
    "\n",
    "if __name__ == '__main__':\n",
    "    app.run(debug=True)"
   ]
  },
  {
   "cell_type": "markdown",
   "metadata": {},
   "source": [
    "### End-to-End Tracing:\n",
    "Ensure seamless communication and data flow between frontend and backend. This involves testing the entire flow from drawing on the canvas to saving the drawing in the database."
   ]
  },
  {
   "cell_type": "code",
   "execution_count": null,
   "metadata": {},
   "outputs": [],
   "source": [
    "# Imports the necessary modules from flask and initializes the Flask app\n",
    "from flask import Flask, request, jsonify\n",
    "app = Flask(__name__)\n",
    "@app.route('/api/save-drawing', methods=['POST'])\n",
    "def save_drawing():\n",
    "    data = request.get_json()\n",
    "    print('Saving drawing:', data)\n",
    "    return jsonify({'status': 'success', 'message': 'Drawing saved'})\n",
    "\n",
    "if __name__ == '__main__':\n",
    "    app.run(debug=True)"
   ]
  },
  {
   "cell_type": "markdown",
   "metadata": {},
   "source": [
    "### Testing:\n",
    "Build and execute tests using Postman. Add test data to systems to validate functionality and performance."
   ]
  },
  {
   "cell_type": "code",
   "execution_count": null,
   "metadata": {},
   "outputs": [],
   "source": [
    "# Unittest is the built in python module for testing, it is used to test the API endpoints\n",
    "import unittest\n",
    "from app import app\n",
    "\n",
    "class DrawingTestCase(unittest.TestCase):\n",
    "    def setUp(self):\n",
    "        self.app = app.test_client()\n",
    "        self.app.testing = True\n",
    "    def test_save_drawing(self):\n",
    "        response = self.app.post('/api/save-drawing', json={\n",
    "            'drawing': 'data:image/png;base64,...'\n",
    "        })\n",
    "        self.assertEqual(response.status_code, 200)\n",
    "        self.assertIn('Drawing saved', response.get_data(as_text=True))\n",
    "if __name__ == '__main__':\n",
    "    unittest.main()"
   ]
  },
  {
   "cell_type": "markdown",
   "metadata": {},
   "source": [
    "### Database Management with SQLite:\n",
    "Set up and manage SQLite databases to store user data, posts, and images. Design database schemas to efficiently handle social media data."
   ]
  },
  {
   "cell_type": "code",
   "execution_count": null,
   "metadata": {},
   "outputs": [],
   "source": [
    "# SQLite database setup\n",
    "import sqlite3\n",
    "conn = sqlite3.connect('drawings.db')\n",
    "c = conn.cursor()\n",
    "c.execute('''CREATE TABLE drawings\n",
    "             (id INTEGER PRIMARY KEY, user_id INTEGER, drawing_data TEXT)''')\n",
    "\n",
    "c.execute(\"INSERT INTO drawings (user_id, drawing_data) VALUES (1, 'data:image/png;base64,...')\")\n",
    "\n",
    "# Save (commit) the changes\n",
    "conn.commit()\n",
    "\n",
    "# Close the connection\n",
    "conn.close()\n",
    "\n",
    "### Image Upload and Storage:\n",
    "Implement functionality to upload and store images in the database or file system. \n",
    "Ensure images are properly linked to user posts and profiles.\n",
    "\n",
    "from flask import Flask, request\n",
    "import base64\n",
    "\n",
    "app = Flask(__name__)\n",
    "@app.route('/api/upload-image', methods=['POST'])\n",
    "def upload_image():\n",
    "    data = request.get_json()\n",
    "    image_data = base64.b64decode(data['image'])\n",
    "    with open('uploaded_image.png', 'wb') as f:\n",
    "        f.write(image_data)\n",
    "    return {'status': 'success', 'message': 'Image uploaded'}\n",
    "if __name__ == '__main__':\n",
    "    app.run(debug=True)"
   ]
  },
  {
   "cell_type": "markdown",
   "metadata": {},
   "source": [
    "### Data Security and Privacy:\n",
    "Implement security measures to protect user data and images. Ensure compliance with privacy regulations and best practices."
   ]
  },
  {
   "cell_type": "code",
   "execution_count": null,
   "metadata": {},
   "outputs": [],
   "source": [
    "# Ensures data is encrypted and decrypted securely\n",
    "from cryptography.fernet import Fernet\n",
    "\n",
    "# Generates a key for encription\n",
    "key = Fernet.generate_key()\n",
    "cipher_suite = Fernet(key)\n",
    "\n",
    "# Encrypts the data\n",
    "data = b'My secret data'\n",
    "cipher_text = cipher_suite.encrypt(data)\n",
    "\n",
    "# Decrypts the data\n",
    "plain_text = cipher_suite.decrypt(cipher_text)\n",
    "print('Decrypted data:', plain_text)\n",
    "# This data is then printed to the console to verify it matches the original data"
   ]
  },
  {
   "cell_type": "markdown",
   "metadata": {},
   "source": [
    "### Data Retrieval and Display:\n",
    "Develop efficient queries to retrieve and display data on the frontend. Optimize database performance for fast data access."
   ]
  },
  {
   "cell_type": "code",
   "execution_count": null,
   "metadata": {},
   "outputs": [],
   "source": [
    "# Retrieves data from the database (SQL)\n",
    "import sqlite3\n",
    "conn = sqlite3.connect('drawings.db')\n",
    "c = conn.cursor()\n",
    "\n",
    "# Retrieves data, fetches all rows from the drawings table, the user id being 1\n",
    "c.execute('SELECT * FROM drawings WHERE user_id = 1')\n",
    "rows = c.fetchall()\n",
    "for row in rows:\n",
    "    print(row)\n",
    "\n",
    "conn.close()"
   ]
  },
  {
   "cell_type": "markdown",
   "metadata": {},
   "source": [
    "### Data Backup and Recovery:\n",
    "Implement backup strategies to prevent data loss. Develop recovery procedures to restore data in case of failure."
   ]
  },
  {
   "cell_type": "code",
   "execution_count": null,
   "metadata": {},
   "outputs": [],
   "source": [
    "# Backs up my SQLite database\n",
    "import shutil\n",
    "\n",
    "# Copies file drawings.db to drawings_backup.db\n",
    "shutil.copy('drawings.db', 'drawings_backup.db')\n",
    "print('Database backup created.')\n",
    "\n",
    "# Copies drawings_backup.db to drwaings,db, restores database\n",
    "shutil.copy('drawings_backup.db', 'drawings.db')\n",
    "print('Database restored from backup.')"
   ]
  },
  {
   "cell_type": "markdown",
   "metadata": {},
   "source": [
    "## Conclusion:\n",
    "My blog demonstrates how to implement a collaborative drawing feature into a game. By utilizing backend API to handle drawing data and storing that data in a database, the drawing pad feature becomes interactive and ensures that user drawings are saved and accessible to all players. Our website allows people to work together and be creative with whatever they want to create."
   ]
  }
 ],
 "metadata": {
  "kernelspec": {
   "display_name": "venv",
   "language": "python",
   "name": "python3"
  },
  "language_info": {
   "codemirror_mode": {
    "name": "ipython",
    "version": 3
   },
   "file_extension": ".py",
   "mimetype": "text/x-python",
   "name": "python",
   "nbconvert_exporter": "python",
   "pygments_lexer": "ipython3",
   "version": "3.12.3"
  }
 },
 "nbformat": 4,
 "nbformat_minor": 2
}
