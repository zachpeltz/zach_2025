{
 "cells": [
  {
   "cell_type": "markdown",
   "metadata": {},
   "source": [
    "---\n",
    "layout: post\n",
    "title: Blog Review\n",
    "description: Blog Review and answers to questions/responses\n",
    "type: issues\n",
    "comments: true\n",
    "---"
   ]
  },
  {
   "cell_type": "markdown",
   "metadata": {},
   "source": [
    "## Intro Requests for Review:\n",
    "\n",
    "Our group's program is a collaborative drawing game similar to Skribbl.io. The game lets multiple users join a room, where they take turns drawing a word, and other players guess the word based on the drawing. This process promotes creativity, teamwork, and interaction among users. My specific contribution is the implementation of the **drawing pad feature**, which allows users to draw on a canvas, save their drawings, and interact with others in real-time.\n",
    "\n",
    "### Purpose of Your Group's Program:\n",
    "The overall aim of our game is to foster a fun, creative environment where users can both express themselves artistically and guess the artwork of others. By integrating a drawing pad feature, users can engage with the game actively, producing drawings that are then guessed by others.\n",
    "\n",
    "### Purpose of Your Individual Feature:\n",
    "My task involves building the **drawing board** where users can draw and create. The drawing board allows users to select colors, adjust brush sizes, erase strokes, and save their creations. These features work seamlessly with the backend to store and retrieve drawings in real-time.\n",
    "\n",
    "---\n",
    "\n",
    "## Input/Output Requests:\n",
    "\n",
    "### Demo Ways to Input to Your Full-Stack Feature\n",
    "\n",
    "#### Frontend:\n",
    "Users interact with the drawing pad by using their mouse or touchpad. They can draw freely on a canvas, which responds to their movements.\n",
    "\n",
    "#### Backend:\n",
    "Once a user draws, the drawing data (including position, color, and brush size) is sent to the backend via WebSocket or REST API, ensuring that their drawing is saved and shared with others in the game room.\n",
    "\n",
    "#### API Request (Frontend to Backend):\n",
    "When a user draws, the frontend sends the drawing data to the backend, like so:"
   ]
  },
  {
   "cell_type": "code",
   "execution_count": null,
   "metadata": {},
   "outputs": [],
   "source": [
    "# Drawing action and coordinates of the drawing tool\n",
    "{\n",
    "  \"action\": \"draw\",\n",
    "  \"data\": {\n",
    "    \"x\": 100,\n",
    "    \"y\": 150,\n",
    "    \"color\": \"#FF0000\",\n",
    "    \"size\": 5\n",
    "  }\n",
    "}\n",
    "{\n",
    "  \"status\": \"success\",\n",
    "  \"message\": \"Drawing saved successfully\",\n",
    "  \"drawing_id\": 12345\n",
    "}\n",
    "from __init__ import db\n",
    "from model.drawing import Drawing\n",
    "\n",
    "# Initialize the database, creates all the defined tables\n",
    "db.create_all()\n",
    "\n",
    "# Add sample data to the database\n",
    "drawing = Drawing(user_id=1, drawing_data='{\"x\":100,\"y\":150,\"color\":\"#FF0000\",\"size\":5}')\n",
    "db.session.add(drawing)\n",
    "db.session.commit()\n",
    "# Prints a message that the database has been initailized \n",
    "print(\"Database initialized with sample drawing data.\")\n",
    "\n",
    "# Restore database to previous state, defines DisplayDrawing which renders the drawing\n",
    "db.session.rollback()\n",
    "\n",
    "print(\"Database restored to previous state.\")\n",
    "function displayDrawing(drawing) {\n",
    "  const canvas = document.getElementById('canvas');\n",
    "  // Code to render drawing on the canvas\n",
    "  drawing.forEach(data => {\n",
    "    drawLine(data.x, data.y, data.color, data.size);\n",
    "  });\n",
    "}\n",
    "# Ensures the user is authenticated and fetches all drawings from the database\n",
    "@token_required()\n",
    "def get_drawings(self):\n",
    "    current_user = g.current_user\n",
    "    drawings = Drawing.query.filter_by(user_id=current_user.id).all()\n",
    "    if not drawings:\n",
    "        return {'message': 'No drawings found for this user'}, 404\n",
    "    return jsonify([drawing.to_dict() for drawing in drawings])\n",
    "\n",
    "# JSON Body request, creates new drawing object with the data \n",
    "@token_required()\n",
    "def create_drawing(self):\n",
    "    body = request.get_json()\n",
    "    new_drawing = Drawing(user_id=body['user_id'], drawing_data=body['drawing_data'])\n",
    "    db.session.add(new_drawing)\n",
    "    db.session.commit()\n",
    "    return jsonify(new_drawing.to_dict())\n",
    "\n",
    "# If the drawing is not found, returns a 404 error\n",
    "@token_required()\n",
    "def update_drawing(self):\n",
    "    body = request.get_json()\n",
    "    drawing = Drawing.query.get(body['drawing_id'])\n",
    "    if not drawing:\n",
    "        return {'message': 'Drawing not found'}, 404\n",
    "    drawing.drawing_data = body['drawing_data']\n",
    "    db.session.commit()\n",
    "    return jsonify(drawing.to_dict())\n",
    "\n",
    "# Deletes drawing from database, otherwise saves change as a JSON response to the database\n",
    "@token_required()\n",
    "def delete_drawing(self):\n",
    "    body = request.get_json()\n",
    "    drawing = Drawing.query.get(body['drawing_id'])\n",
    "    if not drawing:\n",
    "        return {'message': 'Drawing not found'}, 404\n",
    "    db.session.delete(drawing)\n",
    "    db.session.commit()\n",
    "    return {'message': 'Drawing deleted successfully'}, 200"
   ]
  },
  {
   "cell_type": "markdown",
   "metadata": {},
   "source": [
    "### Backend Debugging:\n",
    "We used Postman to trace and debug backend code. This helps ensure that the API endpoints are working correctly and that data is being processed as expected."
   ]
  },
  {
   "cell_type": "code",
   "execution_count": null,
   "metadata": {},
   "outputs": [],
   "source": [
    "# Imports the necessary modules and initializes the Flask app\n",
    "from flask import Flask, request, jsonify\n",
    "app = Flask(__name__)\n",
    "\n",
    "@app.route('/api/draw', methods=['POST'])\n",
    "def draw():\n",
    "    data = request.get_json()\n",
    "    # Prints the recieved data to thd console for debugging \n",
    "    print('Received data:', data)\n",
    "    return jsonify({'status': 'success', 'message': 'Drawing received'})\n",
    "# This code checks if the script is being run directly and starts the Flask app\n",
    "if __name__ == '__main__':\n",
    "    app.run(debug=True)"
   ]
  },
  {
   "cell_type": "markdown",
   "metadata": {},
   "source": [
    "### Frontend Debugging:\n",
    "Utilize browser Inspect tools to trace and debug frontend code. This allows you to see how the drawing pad interacts with the user and the backend."
   ]
  },
  {
   "cell_type": "code",
   "execution_count": null,
   "metadata": {},
   "outputs": [],
   "source": [
    "# Creates the canvas with height and width\n",
    "canvas = tk.Canvas(root, width=500, height=500, bg='white')\n",
    "canvas.pack()\n",
    "\n",
    "# Creates the drawing pad to draw on\n",
    "image = Image.new(\"RGB\", (500, 500), \"white\")\n",
    "draw = ImageDraw.Draw(image)\n",
    "\n",
    "# Coordinates of the mouse, tracking\n",
    "prev_x, prev_y = None, None\n",
    "\n",
    "# Function to draw, interacting with the website\n",
    "def start_draw(event):\n",
    "    global prev_x, prev_y\n",
    "    prev_x, prev_y = event.x, event.y\n",
    "\n",
    "# Defines function when user moves the mouse and holds down the button to draw\n",
    "def draw_on_canvas(event):\n",
    "    global prev_x, prev_y\n",
    "    if prev_x and prev_y:\n",
    "        canvas.create_line(prev_x, prev_y, event.x, event.y, fill='black', width=5)\n",
    "        draw.line([prev_x, prev_y, event.x, event.y], fill='black', width=5)\n",
    "        prev_x, prev_y = event.x, event.y"
   ]
  },
  {
   "cell_type": "markdown",
   "metadata": {},
   "source": [
    "### End-to-End Tracing:\n",
    "Ensure seamless communication and data flow between frontend and backend. This involves testing the entire flow from drawing on the canvas to saving the drawing in the database."
   ]
  },
  {
   "cell_type": "code",
   "execution_count": null,
   "metadata": {},
   "outputs": [],
   "source": [
    "# Imports the necessary modules from flask and initializes the Flask app\n",
    "from flask import Flask, request, jsonify\n",
    "app = Flask(__name__)\n",
    "@app.route('/api/save-drawing', methods=['POST'])\n",
    "def save_drawing():\n",
    "    data = request.get_json()\n",
    "    print('Saving drawing:', data)\n",
    "    # Creates the JSON response with success message, and drawing saved\n",
    "    return jsonify({'status': 'success', 'message': 'Drawing saved'})\n",
    "\n",
    "if __name__ == '__main__':\n",
    "    app.run(debug=True)"
   ]
  },
  {
   "cell_type": "markdown",
   "metadata": {},
   "source": [
    "### Testing:\n",
    "Build and execute tests using Postman. Add test data to systems to validate functionality and performance."
   ]
  },
  {
   "cell_type": "code",
   "execution_count": null,
   "metadata": {},
   "outputs": [],
   "source": [
    "# Unittest is the built in python module for testing, it is used to test the API endpoints\n",
    "import unittest\n",
    "from app import app\n",
    "\n",
    "class DrawingTestCase(unittest.TestCase):\n",
    "    def setUp(self):\n",
    "        self.app = app.test_client()\n",
    "        self.app.testing = True\n",
    "# Tests the api save drawing endpoint and a POST request to drawing data\n",
    "    def test_save_drawing(self):\n",
    "        response = self.app.post('/api/save-drawing', json={\n",
    "            'drawing': 'data:image/png;base64,...'\n",
    "        })\n",
    "        self.assertEqual(response.status_code, 200)\n",
    "        self.assertIn('Drawing saved', response.get_data(as_text=True))\n",
    "# Runs the unittest\n",
    "if __name__ == '__main__':\n",
    "    unittest.main()"
   ]
  },
  {
   "cell_type": "markdown",
   "metadata": {},
   "source": [
    "### Database Management with SQLite:\n",
    "Set up and manage SQLite databases to store user data, posts, and images. Design database schemas to efficiently handle social media data."
   ]
  },
  {
   "cell_type": "code",
   "execution_count": null,
   "metadata": {},
   "outputs": [],
   "source": [
    "# SQLite database setup\n",
    "import sqlite3\n",
    "conn = sqlite3.connect('drawings.db')\n",
    "c = conn.cursor()\n",
    "# Connects to the SQLite database named drawings.db and it will create a database if it does not exist\n",
    "c.execute('''CREATE TABLE drawings\n",
    "             (id INTEGER PRIMARY KEY, user_id INTEGER, drawing_data TEXT)''')\n",
    "\n",
    "# SQL command to create a table \n",
    "c.execute(\"INSERT INTO drawings (user_id, drawing_data) VALUES (1, 'data:image/png;base64,...')\")\n",
    "\n",
    "# Save (commit) the changes\n",
    "conn.commit()\n",
    "\n",
    "# Close the connection\n",
    "conn.close()\n",
    "\n",
    "### Image Upload and Storage:\n",
    "Implement functionality to upload and store images in the database or file system. \n",
    "Ensure images are properly linked to user posts and profiles.\n",
    "\n",
    "from flask import Flask, request\n",
    "import base64\n",
    "\n",
    "app = Flask(__name__)\n",
    "# This function accepts POST requests called a api upload image endpoint \n",
    "@app.route('/api/upload-image', methods=['POST'])\n",
    "def upload_image():\n",
    "    data = request.get_json()\n",
    "    image_data = base64.b64decode(data['image'])\n",
    "    with open('uploaded_image.png', 'wb') as f:\n",
    "        f.write(image_data)\n",
    "    return {'status': 'success', 'message': 'Image uploaded'}\n",
    "# This code checks if the script is being run directly\n",
    "if __name__ == '__main__':\n",
    "    app.run(debug=True)"
   ]
  },
  {
   "cell_type": "markdown",
   "metadata": {},
   "source": [
    "### Data Security and Privacy:\n",
    "Implement security measures to protect user data and images. Ensure compliance with privacy regulations and best practices."
   ]
  },
  {
   "cell_type": "code",
   "execution_count": null,
   "metadata": {},
   "outputs": [],
   "source": [
    "# Ensures data is encrypted and decrypted securely\n",
    "from cryptography.fernet import Fernet\n",
    "\n",
    "# Generates a key for encription\n",
    "key = Fernet.generate_key()\n",
    "cipher_suite = Fernet(key)\n",
    "\n",
    "# Encrypts the data\n",
    "data = b'My secret data'\n",
    "cipher_text = cipher_suite.encrypt(data)\n",
    "\n",
    "# Decrypts the data\n",
    "plain_text = cipher_suite.decrypt(cipher_text)\n",
    "print('Decrypted data:', plain_text)\n",
    "# This data is then printed to the console to verify it matches the original data"
   ]
  },
  {
   "cell_type": "markdown",
   "metadata": {},
   "source": [
    "### Data Retrieval and Display:\n",
    "Develop efficient queries to retrieve and display data on the frontend. Optimize database performance for fast data access."
   ]
  },
  {
   "cell_type": "code",
   "execution_count": null,
   "metadata": {},
   "outputs": [],
   "source": [
    "# Retrieves data from the database (SQL)\n",
    "import sqlite3\n",
    "# Connects to SQLite database named drawings.db, creates if DNE\n",
    "conn = sqlite3.connect('drawings.db')\n",
    "c = conn.cursor()\n",
    "\n",
    "# Retrieves data, fetches all rows from the drawings table, the user id being 1\n",
    "c.execute('SELECT * FROM drawings WHERE user_id = 1')\n",
    "rows = c.fetchall()\n",
    "for row in rows:\n",
    "    print(row)\n",
    "\n",
    "conn.close()"
   ]
  },
  {
   "cell_type": "markdown",
   "metadata": {},
   "source": [
    "### Data Backup and Recovery:\n",
    "Implement backup strategies to prevent data loss. Develop recovery procedures to restore data in case of failure."
   ]
  },
  {
   "cell_type": "code",
   "execution_count": null,
   "metadata": {},
   "outputs": [],
   "source": [
    "# Backs up my SQLite database\n",
    "import shutil\n",
    "\n",
    "# Copies file drawings.db to drawings_backup.db\n",
    "shutil.copy('drawings.db', 'drawings_backup.db')\n",
    "print('Database backup created.')\n",
    "\n",
    "# Copies drawings_backup.db to drwaings,db, restores database\n",
    "shutil.copy('drawings_backup.db', 'drawings.db')\n",
    "# Print message that the database is restored\n",
    "print('Database restored from backup.')"
   ]
  },
  {
   "cell_type": "markdown",
   "metadata": {},
   "source": [
    "## Conclusion:\n",
    "My blog demonstrates how to implement a collaborative drawing feature into a game. By utilizing backend API to handle drawing data and storing that data in a database, the drawing pad feature becomes interactive and ensures that user drawings are saved and accessible to all players. Our website allows people to work together and be creative with whatever they want to create."
   ]
  }
 ],
 "metadata": {
  "kernelspec": {
   "display_name": "venv",
   "language": "python",
   "name": "python3"
  },
  "language_info": {
   "codemirror_mode": {
    "name": "ipython",
    "version": 3
   },
   "file_extension": ".py",
   "mimetype": "text/x-python",
   "name": "python",
   "nbconvert_exporter": "python",
   "pygments_lexer": "ipython3",
   "version": "3.12.3"
  }
 },
 "nbformat": 4,
 "nbformat_minor": 2
}
